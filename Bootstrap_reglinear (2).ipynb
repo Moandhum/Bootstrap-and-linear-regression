{
  "cells": [
    {
      "cell_type": "code",
      "execution_count": 1,
      "metadata": {
        "id": "gty-KTN_36JW"
      },
      "outputs": [],
      "source": [
        "import numpy as np\n",
        "import pandas as pd\n",
        "import matplotlib.pyplot as plt\n",
        "import seaborn as sns\n",
        "import statsmodels.api as sm\n",
        "import matplotlib.pyplot as plt\n",
        "from sklearn.linear_model import LinearRegression\n",
        "\n"
      ]
    },
    {
      "cell_type": "markdown",
      "metadata": {
        "id": "Q4Hh24xZJM4F"
      },
      "source": [
        "# **Bootstrap en régression linéaire**:\n",
        "\n",
        "\n",
        "\n",
        "\n",
        "Dans ce note book, nous allons illustrer l'utilisation du Bootstrap en régression linéaire par trois différentes méthodes.\n"
      ]
    },
    {
      "cell_type": "markdown",
      "metadata": {
        "id": "ZhVYmhea85D1"
      },
      "source": [
        "## Partie 1:\n"
      ]
    },
    {
      "cell_type": "markdown",
      "source": [
        "Dans cette partie nous allons implementer le bootstrap des résidus. Pour cela on utilise un jeu de données issu d'une étude reliant le QI de l'enfant à leurs mères aux US."
      ],
      "metadata": {
        "id": "ZwCirX2RHYl5"
      }
    },
    {
      "cell_type": "code",
      "execution_count": null,
      "metadata": {
        "id": "OJzA7RQH88mE",
        "colab": {
          "base_uri": "https://localhost:8080/",
          "height": 206
        },
        "outputId": "78eb7ad3-db2a-4f9c-d11d-045afef7789b"
      },
      "outputs": [
        {
          "output_type": "execute_result",
          "data": {
            "text/plain": [
              "   kid_score  mom_hs      mom_iq  mom_work  mom_age\n",
              "0         65       1  121.117529         4       27\n",
              "1         98       1   89.361882         4       25\n",
              "2         85       1  115.443165         4       27\n",
              "3         83       1   99.449639         3       25\n",
              "4        115       1   92.745710         4       27"
            ],
            "text/html": [
              "\n",
              "  <div id=\"df-dac07036-76ed-4b8b-b3d3-bda2283d39c3\" class=\"colab-df-container\">\n",
              "    <div>\n",
              "<style scoped>\n",
              "    .dataframe tbody tr th:only-of-type {\n",
              "        vertical-align: middle;\n",
              "    }\n",
              "\n",
              "    .dataframe tbody tr th {\n",
              "        vertical-align: top;\n",
              "    }\n",
              "\n",
              "    .dataframe thead th {\n",
              "        text-align: right;\n",
              "    }\n",
              "</style>\n",
              "<table border=\"1\" class=\"dataframe\">\n",
              "  <thead>\n",
              "    <tr style=\"text-align: right;\">\n",
              "      <th></th>\n",
              "      <th>kid_score</th>\n",
              "      <th>mom_hs</th>\n",
              "      <th>mom_iq</th>\n",
              "      <th>mom_work</th>\n",
              "      <th>mom_age</th>\n",
              "    </tr>\n",
              "  </thead>\n",
              "  <tbody>\n",
              "    <tr>\n",
              "      <th>0</th>\n",
              "      <td>65</td>\n",
              "      <td>1</td>\n",
              "      <td>121.117529</td>\n",
              "      <td>4</td>\n",
              "      <td>27</td>\n",
              "    </tr>\n",
              "    <tr>\n",
              "      <th>1</th>\n",
              "      <td>98</td>\n",
              "      <td>1</td>\n",
              "      <td>89.361882</td>\n",
              "      <td>4</td>\n",
              "      <td>25</td>\n",
              "    </tr>\n",
              "    <tr>\n",
              "      <th>2</th>\n",
              "      <td>85</td>\n",
              "      <td>1</td>\n",
              "      <td>115.443165</td>\n",
              "      <td>4</td>\n",
              "      <td>27</td>\n",
              "    </tr>\n",
              "    <tr>\n",
              "      <th>3</th>\n",
              "      <td>83</td>\n",
              "      <td>1</td>\n",
              "      <td>99.449639</td>\n",
              "      <td>3</td>\n",
              "      <td>25</td>\n",
              "    </tr>\n",
              "    <tr>\n",
              "      <th>4</th>\n",
              "      <td>115</td>\n",
              "      <td>1</td>\n",
              "      <td>92.745710</td>\n",
              "      <td>4</td>\n",
              "      <td>27</td>\n",
              "    </tr>\n",
              "  </tbody>\n",
              "</table>\n",
              "</div>\n",
              "    <div class=\"colab-df-buttons\">\n",
              "\n",
              "  <div class=\"colab-df-container\">\n",
              "    <button class=\"colab-df-convert\" onclick=\"convertToInteractive('df-dac07036-76ed-4b8b-b3d3-bda2283d39c3')\"\n",
              "            title=\"Convert this dataframe to an interactive table.\"\n",
              "            style=\"display:none;\">\n",
              "\n",
              "  <svg xmlns=\"http://www.w3.org/2000/svg\" height=\"24px\" viewBox=\"0 -960 960 960\">\n",
              "    <path d=\"M120-120v-720h720v720H120Zm60-500h600v-160H180v160Zm220 220h160v-160H400v160Zm0 220h160v-160H400v160ZM180-400h160v-160H180v160Zm440 0h160v-160H620v160ZM180-180h160v-160H180v160Zm440 0h160v-160H620v160Z\"/>\n",
              "  </svg>\n",
              "    </button>\n",
              "\n",
              "  <style>\n",
              "    .colab-df-container {\n",
              "      display:flex;\n",
              "      gap: 12px;\n",
              "    }\n",
              "\n",
              "    .colab-df-convert {\n",
              "      background-color: #E8F0FE;\n",
              "      border: none;\n",
              "      border-radius: 50%;\n",
              "      cursor: pointer;\n",
              "      display: none;\n",
              "      fill: #1967D2;\n",
              "      height: 32px;\n",
              "      padding: 0 0 0 0;\n",
              "      width: 32px;\n",
              "    }\n",
              "\n",
              "    .colab-df-convert:hover {\n",
              "      background-color: #E2EBFA;\n",
              "      box-shadow: 0px 1px 2px rgba(60, 64, 67, 0.3), 0px 1px 3px 1px rgba(60, 64, 67, 0.15);\n",
              "      fill: #174EA6;\n",
              "    }\n",
              "\n",
              "    .colab-df-buttons div {\n",
              "      margin-bottom: 4px;\n",
              "    }\n",
              "\n",
              "    [theme=dark] .colab-df-convert {\n",
              "      background-color: #3B4455;\n",
              "      fill: #D2E3FC;\n",
              "    }\n",
              "\n",
              "    [theme=dark] .colab-df-convert:hover {\n",
              "      background-color: #434B5C;\n",
              "      box-shadow: 0px 1px 3px 1px rgba(0, 0, 0, 0.15);\n",
              "      filter: drop-shadow(0px 1px 2px rgba(0, 0, 0, 0.3));\n",
              "      fill: #FFFFFF;\n",
              "    }\n",
              "  </style>\n",
              "\n",
              "    <script>\n",
              "      const buttonEl =\n",
              "        document.querySelector('#df-dac07036-76ed-4b8b-b3d3-bda2283d39c3 button.colab-df-convert');\n",
              "      buttonEl.style.display =\n",
              "        google.colab.kernel.accessAllowed ? 'block' : 'none';\n",
              "\n",
              "      async function convertToInteractive(key) {\n",
              "        const element = document.querySelector('#df-dac07036-76ed-4b8b-b3d3-bda2283d39c3');\n",
              "        const dataTable =\n",
              "          await google.colab.kernel.invokeFunction('convertToInteractive',\n",
              "                                                    [key], {});\n",
              "        if (!dataTable) return;\n",
              "\n",
              "        const docLinkHtml = 'Like what you see? Visit the ' +\n",
              "          '<a target=\"_blank\" href=https://colab.research.google.com/notebooks/data_table.ipynb>data table notebook</a>'\n",
              "          + ' to learn more about interactive tables.';\n",
              "        element.innerHTML = '';\n",
              "        dataTable['output_type'] = 'display_data';\n",
              "        await google.colab.output.renderOutput(dataTable, element);\n",
              "        const docLink = document.createElement('div');\n",
              "        docLink.innerHTML = docLinkHtml;\n",
              "        element.appendChild(docLink);\n",
              "      }\n",
              "    </script>\n",
              "  </div>\n",
              "\n",
              "\n",
              "<div id=\"df-3053a7bf-6135-4c86-af44-e1f2c41de995\">\n",
              "  <button class=\"colab-df-quickchart\" onclick=\"quickchart('df-3053a7bf-6135-4c86-af44-e1f2c41de995')\"\n",
              "            title=\"Suggest charts\"\n",
              "            style=\"display:none;\">\n",
              "\n",
              "<svg xmlns=\"http://www.w3.org/2000/svg\" height=\"24px\"viewBox=\"0 0 24 24\"\n",
              "     width=\"24px\">\n",
              "    <g>\n",
              "        <path d=\"M19 3H5c-1.1 0-2 .9-2 2v14c0 1.1.9 2 2 2h14c1.1 0 2-.9 2-2V5c0-1.1-.9-2-2-2zM9 17H7v-7h2v7zm4 0h-2V7h2v10zm4 0h-2v-4h2v4z\"/>\n",
              "    </g>\n",
              "</svg>\n",
              "  </button>\n",
              "\n",
              "<style>\n",
              "  .colab-df-quickchart {\n",
              "      --bg-color: #E8F0FE;\n",
              "      --fill-color: #1967D2;\n",
              "      --hover-bg-color: #E2EBFA;\n",
              "      --hover-fill-color: #174EA6;\n",
              "      --disabled-fill-color: #AAA;\n",
              "      --disabled-bg-color: #DDD;\n",
              "  }\n",
              "\n",
              "  [theme=dark] .colab-df-quickchart {\n",
              "      --bg-color: #3B4455;\n",
              "      --fill-color: #D2E3FC;\n",
              "      --hover-bg-color: #434B5C;\n",
              "      --hover-fill-color: #FFFFFF;\n",
              "      --disabled-bg-color: #3B4455;\n",
              "      --disabled-fill-color: #666;\n",
              "  }\n",
              "\n",
              "  .colab-df-quickchart {\n",
              "    background-color: var(--bg-color);\n",
              "    border: none;\n",
              "    border-radius: 50%;\n",
              "    cursor: pointer;\n",
              "    display: none;\n",
              "    fill: var(--fill-color);\n",
              "    height: 32px;\n",
              "    padding: 0;\n",
              "    width: 32px;\n",
              "  }\n",
              "\n",
              "  .colab-df-quickchart:hover {\n",
              "    background-color: var(--hover-bg-color);\n",
              "    box-shadow: 0 1px 2px rgba(60, 64, 67, 0.3), 0 1px 3px 1px rgba(60, 64, 67, 0.15);\n",
              "    fill: var(--button-hover-fill-color);\n",
              "  }\n",
              "\n",
              "  .colab-df-quickchart-complete:disabled,\n",
              "  .colab-df-quickchart-complete:disabled:hover {\n",
              "    background-color: var(--disabled-bg-color);\n",
              "    fill: var(--disabled-fill-color);\n",
              "    box-shadow: none;\n",
              "  }\n",
              "\n",
              "  .colab-df-spinner {\n",
              "    border: 2px solid var(--fill-color);\n",
              "    border-color: transparent;\n",
              "    border-bottom-color: var(--fill-color);\n",
              "    animation:\n",
              "      spin 1s steps(1) infinite;\n",
              "  }\n",
              "\n",
              "  @keyframes spin {\n",
              "    0% {\n",
              "      border-color: transparent;\n",
              "      border-bottom-color: var(--fill-color);\n",
              "      border-left-color: var(--fill-color);\n",
              "    }\n",
              "    20% {\n",
              "      border-color: transparent;\n",
              "      border-left-color: var(--fill-color);\n",
              "      border-top-color: var(--fill-color);\n",
              "    }\n",
              "    30% {\n",
              "      border-color: transparent;\n",
              "      border-left-color: var(--fill-color);\n",
              "      border-top-color: var(--fill-color);\n",
              "      border-right-color: var(--fill-color);\n",
              "    }\n",
              "    40% {\n",
              "      border-color: transparent;\n",
              "      border-right-color: var(--fill-color);\n",
              "      border-top-color: var(--fill-color);\n",
              "    }\n",
              "    60% {\n",
              "      border-color: transparent;\n",
              "      border-right-color: var(--fill-color);\n",
              "    }\n",
              "    80% {\n",
              "      border-color: transparent;\n",
              "      border-right-color: var(--fill-color);\n",
              "      border-bottom-color: var(--fill-color);\n",
              "    }\n",
              "    90% {\n",
              "      border-color: transparent;\n",
              "      border-bottom-color: var(--fill-color);\n",
              "    }\n",
              "  }\n",
              "</style>\n",
              "\n",
              "  <script>\n",
              "    async function quickchart(key) {\n",
              "      const quickchartButtonEl =\n",
              "        document.querySelector('#' + key + ' button');\n",
              "      quickchartButtonEl.disabled = true;  // To prevent multiple clicks.\n",
              "      quickchartButtonEl.classList.add('colab-df-spinner');\n",
              "      try {\n",
              "        const charts = await google.colab.kernel.invokeFunction(\n",
              "            'suggestCharts', [key], {});\n",
              "      } catch (error) {\n",
              "        console.error('Error during call to suggestCharts:', error);\n",
              "      }\n",
              "      quickchartButtonEl.classList.remove('colab-df-spinner');\n",
              "      quickchartButtonEl.classList.add('colab-df-quickchart-complete');\n",
              "    }\n",
              "    (() => {\n",
              "      let quickchartButtonEl =\n",
              "        document.querySelector('#df-3053a7bf-6135-4c86-af44-e1f2c41de995 button');\n",
              "      quickchartButtonEl.style.display =\n",
              "        google.colab.kernel.accessAllowed ? 'block' : 'none';\n",
              "    })();\n",
              "  </script>\n",
              "</div>\n",
              "    </div>\n",
              "  </div>\n"
            ],
            "application/vnd.google.colaboratory.intrinsic+json": {
              "type": "dataframe",
              "variable_name": "kidiq",
              "summary": "{\n  \"name\": \"kidiq\",\n  \"rows\": 434,\n  \"fields\": [\n    {\n      \"column\": \"kid_score\",\n      \"properties\": {\n        \"dtype\": \"number\",\n        \"std\": 20,\n        \"min\": 20,\n        \"max\": 144,\n        \"num_unique_values\": 85,\n        \"samples\": [\n          44,\n          65,\n          74\n        ],\n        \"semantic_type\": \"\",\n        \"description\": \"\"\n      }\n    },\n    {\n      \"column\": \"mom_hs\",\n      \"properties\": {\n        \"dtype\": \"number\",\n        \"std\": 0,\n        \"min\": 0,\n        \"max\": 1,\n        \"num_unique_values\": 2,\n        \"samples\": [\n          0,\n          1\n        ],\n        \"semantic_type\": \"\",\n        \"description\": \"\"\n      }\n    },\n    {\n      \"column\": \"mom_iq\",\n      \"properties\": {\n        \"dtype\": \"number\",\n        \"std\": 14.999999999999986,\n        \"min\": 71.037405135663,\n        \"max\": 138.893106071162,\n        \"num_unique_values\": 332,\n        \"samples\": [\n          121.748013460479,\n          88.6909811561733\n        ],\n        \"semantic_type\": \"\",\n        \"description\": \"\"\n      }\n    },\n    {\n      \"column\": \"mom_work\",\n      \"properties\": {\n        \"dtype\": \"number\",\n        \"std\": 1,\n        \"min\": 1,\n        \"max\": 4,\n        \"num_unique_values\": 4,\n        \"samples\": [\n          3,\n          2\n        ],\n        \"semantic_type\": \"\",\n        \"description\": \"\"\n      }\n    },\n    {\n      \"column\": \"mom_age\",\n      \"properties\": {\n        \"dtype\": \"number\",\n        \"std\": 2,\n        \"min\": 17,\n        \"max\": 29,\n        \"num_unique_values\": 13,\n        \"samples\": [\n          28,\n          21\n        ],\n        \"semantic_type\": \"\",\n        \"description\": \"\"\n      }\n    }\n  ]\n}"
            }
          },
          "metadata": {},
          "execution_count": 4
        }
      ],
      "source": [
        "# Importation de la table\n",
        "kidiq = pd.read_csv(\"kidiq.csv\")\n",
        "kidiq.head()\n"
      ]
    },
    {
      "cell_type": "code",
      "execution_count": null,
      "metadata": {
        "id": "Cj-wpvWF89e5"
      },
      "outputs": [],
      "source": []
    },
    {
      "cell_type": "markdown",
      "source": [
        "kid_score : le QI de l'enfant \\\n",
        "mom_iq\t: le QI de la mère. \\\n",
        "On s'intéresse à un modèle ou l'on cherche à prédire le QI de l'enfant à partir de celui de la mère."
      ],
      "metadata": {
        "id": "J9xcoDCcHlge"
      }
    },
    {
      "cell_type": "code",
      "execution_count": null,
      "metadata": {
        "id": "TtuBnlLY8-jP",
        "colab": {
          "base_uri": "https://localhost:8080/",
          "height": 206
        },
        "outputId": "d5c2f283-cd48-4d85-88ba-af9d086e7387"
      },
      "outputs": [
        {
          "output_type": "execute_result",
          "data": {
            "text/plain": [
              "   kid_score      mom_iq\n",
              "0         65  121.117529\n",
              "1         98   89.361882\n",
              "2         85  115.443165\n",
              "3         83   99.449639\n",
              "4        115   92.745710"
            ],
            "text/html": [
              "\n",
              "  <div id=\"df-12f16f0a-489f-45dc-b5a9-32ba92c1f23b\" class=\"colab-df-container\">\n",
              "    <div>\n",
              "<style scoped>\n",
              "    .dataframe tbody tr th:only-of-type {\n",
              "        vertical-align: middle;\n",
              "    }\n",
              "\n",
              "    .dataframe tbody tr th {\n",
              "        vertical-align: top;\n",
              "    }\n",
              "\n",
              "    .dataframe thead th {\n",
              "        text-align: right;\n",
              "    }\n",
              "</style>\n",
              "<table border=\"1\" class=\"dataframe\">\n",
              "  <thead>\n",
              "    <tr style=\"text-align: right;\">\n",
              "      <th></th>\n",
              "      <th>kid_score</th>\n",
              "      <th>mom_iq</th>\n",
              "    </tr>\n",
              "  </thead>\n",
              "  <tbody>\n",
              "    <tr>\n",
              "      <th>0</th>\n",
              "      <td>65</td>\n",
              "      <td>121.117529</td>\n",
              "    </tr>\n",
              "    <tr>\n",
              "      <th>1</th>\n",
              "      <td>98</td>\n",
              "      <td>89.361882</td>\n",
              "    </tr>\n",
              "    <tr>\n",
              "      <th>2</th>\n",
              "      <td>85</td>\n",
              "      <td>115.443165</td>\n",
              "    </tr>\n",
              "    <tr>\n",
              "      <th>3</th>\n",
              "      <td>83</td>\n",
              "      <td>99.449639</td>\n",
              "    </tr>\n",
              "    <tr>\n",
              "      <th>4</th>\n",
              "      <td>115</td>\n",
              "      <td>92.745710</td>\n",
              "    </tr>\n",
              "  </tbody>\n",
              "</table>\n",
              "</div>\n",
              "    <div class=\"colab-df-buttons\">\n",
              "\n",
              "  <div class=\"colab-df-container\">\n",
              "    <button class=\"colab-df-convert\" onclick=\"convertToInteractive('df-12f16f0a-489f-45dc-b5a9-32ba92c1f23b')\"\n",
              "            title=\"Convert this dataframe to an interactive table.\"\n",
              "            style=\"display:none;\">\n",
              "\n",
              "  <svg xmlns=\"http://www.w3.org/2000/svg\" height=\"24px\" viewBox=\"0 -960 960 960\">\n",
              "    <path d=\"M120-120v-720h720v720H120Zm60-500h600v-160H180v160Zm220 220h160v-160H400v160Zm0 220h160v-160H400v160ZM180-400h160v-160H180v160Zm440 0h160v-160H620v160ZM180-180h160v-160H180v160Zm440 0h160v-160H620v160Z\"/>\n",
              "  </svg>\n",
              "    </button>\n",
              "\n",
              "  <style>\n",
              "    .colab-df-container {\n",
              "      display:flex;\n",
              "      gap: 12px;\n",
              "    }\n",
              "\n",
              "    .colab-df-convert {\n",
              "      background-color: #E8F0FE;\n",
              "      border: none;\n",
              "      border-radius: 50%;\n",
              "      cursor: pointer;\n",
              "      display: none;\n",
              "      fill: #1967D2;\n",
              "      height: 32px;\n",
              "      padding: 0 0 0 0;\n",
              "      width: 32px;\n",
              "    }\n",
              "\n",
              "    .colab-df-convert:hover {\n",
              "      background-color: #E2EBFA;\n",
              "      box-shadow: 0px 1px 2px rgba(60, 64, 67, 0.3), 0px 1px 3px 1px rgba(60, 64, 67, 0.15);\n",
              "      fill: #174EA6;\n",
              "    }\n",
              "\n",
              "    .colab-df-buttons div {\n",
              "      margin-bottom: 4px;\n",
              "    }\n",
              "\n",
              "    [theme=dark] .colab-df-convert {\n",
              "      background-color: #3B4455;\n",
              "      fill: #D2E3FC;\n",
              "    }\n",
              "\n",
              "    [theme=dark] .colab-df-convert:hover {\n",
              "      background-color: #434B5C;\n",
              "      box-shadow: 0px 1px 3px 1px rgba(0, 0, 0, 0.15);\n",
              "      filter: drop-shadow(0px 1px 2px rgba(0, 0, 0, 0.3));\n",
              "      fill: #FFFFFF;\n",
              "    }\n",
              "  </style>\n",
              "\n",
              "    <script>\n",
              "      const buttonEl =\n",
              "        document.querySelector('#df-12f16f0a-489f-45dc-b5a9-32ba92c1f23b button.colab-df-convert');\n",
              "      buttonEl.style.display =\n",
              "        google.colab.kernel.accessAllowed ? 'block' : 'none';\n",
              "\n",
              "      async function convertToInteractive(key) {\n",
              "        const element = document.querySelector('#df-12f16f0a-489f-45dc-b5a9-32ba92c1f23b');\n",
              "        const dataTable =\n",
              "          await google.colab.kernel.invokeFunction('convertToInteractive',\n",
              "                                                    [key], {});\n",
              "        if (!dataTable) return;\n",
              "\n",
              "        const docLinkHtml = 'Like what you see? Visit the ' +\n",
              "          '<a target=\"_blank\" href=https://colab.research.google.com/notebooks/data_table.ipynb>data table notebook</a>'\n",
              "          + ' to learn more about interactive tables.';\n",
              "        element.innerHTML = '';\n",
              "        dataTable['output_type'] = 'display_data';\n",
              "        await google.colab.output.renderOutput(dataTable, element);\n",
              "        const docLink = document.createElement('div');\n",
              "        docLink.innerHTML = docLinkHtml;\n",
              "        element.appendChild(docLink);\n",
              "      }\n",
              "    </script>\n",
              "  </div>\n",
              "\n",
              "\n",
              "<div id=\"df-81f3b9f4-a427-4d2f-a4ec-668ada85c504\">\n",
              "  <button class=\"colab-df-quickchart\" onclick=\"quickchart('df-81f3b9f4-a427-4d2f-a4ec-668ada85c504')\"\n",
              "            title=\"Suggest charts\"\n",
              "            style=\"display:none;\">\n",
              "\n",
              "<svg xmlns=\"http://www.w3.org/2000/svg\" height=\"24px\"viewBox=\"0 0 24 24\"\n",
              "     width=\"24px\">\n",
              "    <g>\n",
              "        <path d=\"M19 3H5c-1.1 0-2 .9-2 2v14c0 1.1.9 2 2 2h14c1.1 0 2-.9 2-2V5c0-1.1-.9-2-2-2zM9 17H7v-7h2v7zm4 0h-2V7h2v10zm4 0h-2v-4h2v4z\"/>\n",
              "    </g>\n",
              "</svg>\n",
              "  </button>\n",
              "\n",
              "<style>\n",
              "  .colab-df-quickchart {\n",
              "      --bg-color: #E8F0FE;\n",
              "      --fill-color: #1967D2;\n",
              "      --hover-bg-color: #E2EBFA;\n",
              "      --hover-fill-color: #174EA6;\n",
              "      --disabled-fill-color: #AAA;\n",
              "      --disabled-bg-color: #DDD;\n",
              "  }\n",
              "\n",
              "  [theme=dark] .colab-df-quickchart {\n",
              "      --bg-color: #3B4455;\n",
              "      --fill-color: #D2E3FC;\n",
              "      --hover-bg-color: #434B5C;\n",
              "      --hover-fill-color: #FFFFFF;\n",
              "      --disabled-bg-color: #3B4455;\n",
              "      --disabled-fill-color: #666;\n",
              "  }\n",
              "\n",
              "  .colab-df-quickchart {\n",
              "    background-color: var(--bg-color);\n",
              "    border: none;\n",
              "    border-radius: 50%;\n",
              "    cursor: pointer;\n",
              "    display: none;\n",
              "    fill: var(--fill-color);\n",
              "    height: 32px;\n",
              "    padding: 0;\n",
              "    width: 32px;\n",
              "  }\n",
              "\n",
              "  .colab-df-quickchart:hover {\n",
              "    background-color: var(--hover-bg-color);\n",
              "    box-shadow: 0 1px 2px rgba(60, 64, 67, 0.3), 0 1px 3px 1px rgba(60, 64, 67, 0.15);\n",
              "    fill: var(--button-hover-fill-color);\n",
              "  }\n",
              "\n",
              "  .colab-df-quickchart-complete:disabled,\n",
              "  .colab-df-quickchart-complete:disabled:hover {\n",
              "    background-color: var(--disabled-bg-color);\n",
              "    fill: var(--disabled-fill-color);\n",
              "    box-shadow: none;\n",
              "  }\n",
              "\n",
              "  .colab-df-spinner {\n",
              "    border: 2px solid var(--fill-color);\n",
              "    border-color: transparent;\n",
              "    border-bottom-color: var(--fill-color);\n",
              "    animation:\n",
              "      spin 1s steps(1) infinite;\n",
              "  }\n",
              "\n",
              "  @keyframes spin {\n",
              "    0% {\n",
              "      border-color: transparent;\n",
              "      border-bottom-color: var(--fill-color);\n",
              "      border-left-color: var(--fill-color);\n",
              "    }\n",
              "    20% {\n",
              "      border-color: transparent;\n",
              "      border-left-color: var(--fill-color);\n",
              "      border-top-color: var(--fill-color);\n",
              "    }\n",
              "    30% {\n",
              "      border-color: transparent;\n",
              "      border-left-color: var(--fill-color);\n",
              "      border-top-color: var(--fill-color);\n",
              "      border-right-color: var(--fill-color);\n",
              "    }\n",
              "    40% {\n",
              "      border-color: transparent;\n",
              "      border-right-color: var(--fill-color);\n",
              "      border-top-color: var(--fill-color);\n",
              "    }\n",
              "    60% {\n",
              "      border-color: transparent;\n",
              "      border-right-color: var(--fill-color);\n",
              "    }\n",
              "    80% {\n",
              "      border-color: transparent;\n",
              "      border-right-color: var(--fill-color);\n",
              "      border-bottom-color: var(--fill-color);\n",
              "    }\n",
              "    90% {\n",
              "      border-color: transparent;\n",
              "      border-bottom-color: var(--fill-color);\n",
              "    }\n",
              "  }\n",
              "</style>\n",
              "\n",
              "  <script>\n",
              "    async function quickchart(key) {\n",
              "      const quickchartButtonEl =\n",
              "        document.querySelector('#' + key + ' button');\n",
              "      quickchartButtonEl.disabled = true;  // To prevent multiple clicks.\n",
              "      quickchartButtonEl.classList.add('colab-df-spinner');\n",
              "      try {\n",
              "        const charts = await google.colab.kernel.invokeFunction(\n",
              "            'suggestCharts', [key], {});\n",
              "      } catch (error) {\n",
              "        console.error('Error during call to suggestCharts:', error);\n",
              "      }\n",
              "      quickchartButtonEl.classList.remove('colab-df-spinner');\n",
              "      quickchartButtonEl.classList.add('colab-df-quickchart-complete');\n",
              "    }\n",
              "    (() => {\n",
              "      let quickchartButtonEl =\n",
              "        document.querySelector('#df-81f3b9f4-a427-4d2f-a4ec-668ada85c504 button');\n",
              "      quickchartButtonEl.style.display =\n",
              "        google.colab.kernel.accessAllowed ? 'block' : 'none';\n",
              "    })();\n",
              "  </script>\n",
              "</div>\n",
              "    </div>\n",
              "  </div>\n"
            ],
            "application/vnd.google.colaboratory.intrinsic+json": {
              "type": "dataframe",
              "summary": "{\n  \"name\": \"#table\",\n  \"rows\": 5,\n  \"fields\": [\n    {\n      \"column\": \"kid_score\",\n      \"properties\": {\n        \"dtype\": \"number\",\n        \"std\": 18,\n        \"min\": 65,\n        \"max\": 115,\n        \"num_unique_values\": 5,\n        \"samples\": [\n          98,\n          115,\n          85\n        ],\n        \"semantic_type\": \"\",\n        \"description\": \"\"\n      }\n    },\n    {\n      \"column\": \"mom_iq\",\n      \"properties\": {\n        \"dtype\": \"number\",\n        \"std\": 14.007914711037461,\n        \"min\": 89.3618817100663,\n        \"max\": 121.117528602603,\n        \"num_unique_values\": 5,\n        \"samples\": [\n          89.3618817100663,\n          92.7457099982118,\n          115.443164881725\n        ],\n        \"semantic_type\": \"\",\n        \"description\": \"\"\n      }\n    }\n  ]\n}"
            }
          },
          "metadata": {},
          "execution_count": 5
        }
      ],
      "source": [
        "#table avec les variables d'intérêts\n",
        "table=kidiq[[\"kid_score\", \"mom_iq\"]]\n",
        "table.head()\n",
        "#kidiq.head()\n",
        "#table.isnull().sum()"
      ]
    },
    {
      "cell_type": "code",
      "execution_count": null,
      "metadata": {
        "id": "snIo4mWa8-gK",
        "colab": {
          "base_uri": "https://localhost:8080/",
          "height": 465
        },
        "outputId": "ac18b54b-fb9b-45e5-eb3e-e6eef410ca0f"
      },
      "outputs": [
        {
          "output_type": "display_data",
          "data": {
            "text/plain": [
              "<Figure size 2000x1000 with 2 Axes>"
            ],
            "image/png": "[encoded data removed]"
          },
          "metadata": {}
        }
      ],
      "source": [
        "# Visualisation de la distribution des variables\n",
        "fig, axs = plt.subplots(1, 2, figsize=(20, 10))\n",
        "axs = axs.ravel()\n",
        "\n",
        "for i, column in enumerate(table.columns):\n",
        "    axs[i].hist(table[column], bins=50)\n",
        "    axs[i].set_title(column)\n",
        "\n",
        "plt.show()"
      ]
    },
    {
      "cell_type": "code",
      "execution_count": null,
      "metadata": {
        "colab": {
          "base_uri": "https://localhost:8080/",
          "height": 649
        },
        "id": "Fn3PHAU08-dP",
        "outputId": "63a85c54-d95f-4edf-f396-30b9d78aa56b"
      },
      "outputs": [
        {
          "output_type": "display_data",
          "data": {
            "text/plain": [
              "<Figure size 800x300 with 1 Axes>"
            ],
            "image/png": "[encoded data removed]"
          },
          "metadata": {}
        },
        {
          "output_type": "display_data",
          "data": {
            "text/plain": [
              "<Figure size 800x300 with 1 Axes>"
            ],
            "image/png": "[encoded data removed]"
          },
          "metadata": {}
        }
      ],
      "source": [
        "# Tracé des boxplots pour chaque variable\n",
        "for column in table.columns:\n",
        "    fig, ax = plt.subplots(figsize=(8, 3))\n",
        "    sns.boxplot(x=table[column], ax=ax)\n",
        "    plt.title(column)\n",
        "    plt.show()"
      ]
    },
    {
      "cell_type": "markdown",
      "source": [
        "D'abord on fait une régression linéaire simple avec les données originales de notre table."
      ],
      "metadata": {
        "id": "JlUNBq_rK1g7"
      }
    },
    {
      "cell_type": "code",
      "execution_count": null,
      "metadata": {
        "id": "rrICnFHo8-Z0",
        "colab": {
          "base_uri": "https://localhost:8080/",
          "height": 742
        },
        "outputId": "b1bd98e9-8aa4-4564-ba87-0341d7308beb"
      },
      "outputs": [
        {
          "output_type": "execute_result",
          "data": {
            "text/plain": [
              "(array([ 1.,  0.,  1.,  0.,  0.,  2.,  2.,  2.,  3.,  3.,  6.,  6.,  8.,\n",
              "         6.,  7.,  5.,  7.,  7., 15., 13.,  9., 16.,  7., 12., 16., 18.,\n",
              "        15., 24., 21., 25., 24., 24., 25., 18., 14., 11.,  8.,  9.,  9.,\n",
              "        13.,  2.,  4.,  6.,  1.,  3.,  2.,  1.,  1.,  1.,  1.]),\n",
              " array([-56.75285625, -54.66397346, -52.57509067, -50.48620789,\n",
              "        -48.3973251 , -46.30844231, -44.21955952, -42.13067674,\n",
              "        -40.04179395, -37.95291116, -35.86402837, -33.77514559,\n",
              "        -31.6862628 , -29.59738001, -27.50849722, -25.41961444,\n",
              "        -23.33073165, -21.24184886, -19.15296607, -17.06408329,\n",
              "        -14.9752005 , -12.88631771, -10.79743492,  -8.70855213,\n",
              "         -6.61966935,  -4.53078656,  -2.44190377,  -0.35302098,\n",
              "          1.7358618 ,   3.82474459,   5.91362738,   8.00251017,\n",
              "         10.09139295,  12.18027574,  14.26915853,  16.35804132,\n",
              "         18.4469241 ,  20.53580689,  22.62468968,  24.71357247,\n",
              "         26.80245525,  28.89133804,  30.98022083,  33.06910362,\n",
              "         35.1579864 ,  37.24686919,  39.33575198,  41.42463477,\n",
              "         43.51351755,  45.60240034,  47.69128313]),\n",
              " <BarContainer object of 50 artists>)"
            ]
          },
          "metadata": {},
          "execution_count": 8
        },
        {
          "output_type": "display_data",
          "data": {
            "text/plain": [
              "<Figure size 640x480 with 1 Axes>"
            ],
            "image/png": "[encoded data removed]"
          },
          "metadata": {}
        }
      ],
      "source": [
        "#régression linéaire simple\n",
        "import statsmodels.api as sm\n",
        "X=table[\"mom_iq\"]\n",
        "Y=table[\"kid_score\"]\n",
        "#fit du modèle\n",
        "lr_model = sm.OLS(Y, sm.add_constant(X)).fit()\n",
        "#afficher la sortie\n",
        "results_table = lr_model.summary2().tables[1]\n",
        "results_table\n",
        "Y_predi=lr_model.predict(sm.add_constant(X))\n",
        "residus=lr_model.resid\n",
        "#centrons les données des résidus avant de créer l'échantillon bootstrap des résidus\n",
        "#residus=residus-np.mean(residus)\n",
        "residus\n",
        "plt.hist(residus, bins=50)"
      ]
    },
    {
      "cell_type": "markdown",
      "source": [
        "Les Résidus suivent une distribution gaussienne ou normale. Par conséquent l'hypothèse gaussienne est valide. Par la suite les intervalles de confiances obtenus par régression linéaire seront utilisables."
      ],
      "metadata": {
        "id": "3XSpD_dhet_I"
      }
    },
    {
      "cell_type": "markdown",
      "source": [
        "On peut rendre la normalité de la distribution beaucoup plus parfaite à l'aide de la formule suivante:\n",
        "On note $r_j$ le résidus normalisé de $e_j$\n",
        "$$r_j=\\frac{1}{(1-h_j)^{\\frac{1}{2}}}e_j$$\n",
        "\n",
        "avec $$h_{j}=\\frac{1}{n}+\\frac{(x_j-\\bar{x})^2}{∑_j^{n}(x_j-\\bar{x})^2}$$\n",
        "Et on obtiendra des résidus studentisés."
      ],
      "metadata": {
        "id": "Q_GYo1FbHpiR"
      }
    },
    {
      "cell_type": "code",
      "source": [
        "#normalisation des résidus en appliquant la formule\n",
        "n = len(residus)\n",
        "h=(1/n + (X-np.mean(X))**2/sum((X-np.mean(X))**2))\n",
        "residus=1/(np.sqrt(1-h))*(Y-Y_predi)\n",
        "residus=residus-np.mean(residus)"
      ],
      "metadata": {
        "id": "5asyCTluNlgd"
      },
      "execution_count": null,
      "outputs": []
    },
    {
      "cell_type": "code",
      "source": [
        "residus[1]\n",
        "#(X-np.mean(X))/np.var(X)\n",
        "#(X-np.mean(X))**2\n",
        "#residus=1/(np.sqrt(1-h))*(Y-Y_predi)"
      ],
      "metadata": {
        "colab": {
          "base_uri": "https://localhost:8080/"
        },
        "id": "FDBr4NkZUAuZ",
        "outputId": "43096221-999e-44da-a40f-3b5317e30602"
      },
      "execution_count": null,
      "outputs": [
        {
          "output_type": "execute_result",
          "data": {
            "text/plain": [
              "17.726231878324754"
            ]
          },
          "metadata": {},
          "execution_count": 10
        }
      ]
    },
    {
      "cell_type": "code",
      "source": [
        "#plt.hist(residus)\n",
        "fig, ax = plt.subplots(figsize=(8, 6))\n",
        "sm.qqplot(residus, line='s', ax=ax)\n",
        "ax.set_title('QQ-plot')\n",
        "plt.show()"
      ],
      "metadata": {
        "colab": {
          "base_uri": "https://localhost:8080/",
          "height": 564
        },
        "id": "QvLesoE6f-zc",
        "outputId": "e6ed9652-5b75-4ae2-fd4e-439a127eb07b"
      },
      "execution_count": null,
      "outputs": [
        {
          "output_type": "display_data",
          "data": {
            "text/plain": [
              "<Figure size 800x600 with 1 Axes>"
            ],
            "image/png": "[encoded data removed]"
          },
          "metadata": {}
        }
      ]
    },
    {
      "cell_type": "markdown",
      "source": [
        "L'hypothèse de normalité des résidus est valide"
      ],
      "metadata": {
        "id": "nf4Y9GGTCeAS"
      }
    },
    {
      "cell_type": "code",
      "source": [
        "#test d'homocédasticité\n",
        "plt.figure(figsize=(8, 6))\n",
        "sns.scatterplot(x=Y_predi, y=residus)\n",
        "plt.title('Test d\\'homoscédasticité')\n",
        "plt.xlabel('Prédictions')\n",
        "plt.ylabel('Résidus')\n",
        "plt.show()"
      ],
      "metadata": {
        "colab": {
          "base_uri": "https://localhost:8080/",
          "height": 564
        },
        "id": "ZA_ZhsgWbIIg",
        "outputId": "cd6a4bd1-dd23-4eca-b8d9-920d9c3a2350"
      },
      "execution_count": null,
      "outputs": [
        {
          "output_type": "display_data",
          "data": {
            "text/plain": [
              "<Figure size 800x600 with 1 Axes>"
            ],
            "image/png": "[encoded data removed]"
          },
          "metadata": {}
        }
      ]
    },
    {
      "cell_type": "markdown",
      "source": [
        "L'hypothése d'homocédasticité est valide d'aprés la figure ci-dessus. \\\n",
        "Donc tous les hypothèses du Bootstrap des résidus sont valides."
      ],
      "metadata": {
        "id": "bwMyt4-ugJQO"
      }
    },
    {
      "cell_type": "markdown",
      "source": [
        "Maintenant nous allons créer des echantillons Bootstrap des résidus ensuite créer des échantillons Bootstrap pour la variable à expliquer en utilisant la formule suivante:\\\n",
        "Soit $e_k^*$, un échantillon aléatoire et simple prélevé avec remise dans le vecteur $e$ des résidus.\n",
        "$$ Y_k^*= X \\hat \\beta + e_k^*$$\n",
        "Maintenant $Y_k^*$ est un échantillon bootstrap des prédictions."
      ],
      "metadata": {
        "id": "-XeY9OaXIMvr"
      }
    },
    {
      "cell_type": "code",
      "execution_count": null,
      "metadata": {
        "id": "EMmMz92L8-V9"
      },
      "outputs": [],
      "source": [
        "# échantillon Bootstrap des prédictions\n",
        "\n",
        "R=1000\n",
        "bootstrap_samples = [residus.sample(n=len(residus), replace=True) for _ in range(R)]\n",
        "bootstrap_samples\n",
        "bootstrap_predictions=[]\n",
        "\n",
        "for bootstrap_residual in bootstrap_samples:\n",
        "    bootstrap_predictions.append(np.array(Y_predi) + bootstrap_residual)\n",
        "bootstrap_predictions[0]\n",
        "\n",
        "#les estimations du paramétre beta_1 bootstrap\n",
        "beta_1=[] #vecteur d'estimations bootstrap\n",
        "for Ypredi in bootstrap_predictions:\n",
        "    resultats= sm.OLS(np.array(Ypredi), sm.add_constant(X)).fit()\n",
        "    beta_1.append(resultats.params[1])\n",
        "#beta_1[1]\n"
      ]
    },
    {
      "cell_type": "code",
      "execution_count": null,
      "metadata": {
        "id": "77zX4aalXC3_",
        "colab": {
          "base_uri": "https://localhost:8080/"
        },
        "outputId": "6ad453c2-2c86-4bc7-fec0-655a4f6f8f7e"
      },
      "outputs": [
        {
          "output_type": "stream",
          "name": "stdout",
          "text": [
            " mean = 0.6134370538200755\n",
            " std = 0.0601217266586447\n"
          ]
        }
      ],
      "source": [
        "#la moyenne et l'écart-type\n",
        "print(f\" mean = {np.mean(beta_1)}\")\n",
        "print(f\" std = {np.std(beta_1)}\")\n",
        "#np.std(beta_1)"
      ]
    },
    {
      "cell_type": "code",
      "execution_count": null,
      "metadata": {
        "id": "osy4nlQzXY0O",
        "colab": {
          "base_uri": "https://localhost:8080/",
          "height": 708
        },
        "outputId": "1e49019b-1985-41dd-ef9e-241a7f5f708d"
      },
      "outputs": [
        {
          "output_type": "execute_result",
          "data": {
            "text/plain": [
              "(array([ 3.,  4.,  1.,  1.,  2.,  4., 10.,  8., 10., 14., 17., 18., 23.,\n",
              "        21., 35., 30., 39., 46., 52., 46., 48., 44., 44., 50., 39., 51.,\n",
              "        45., 39., 35., 36., 27., 29., 26., 13., 17., 14., 16., 12.,  9.,\n",
              "        13.,  3.,  0.,  3.,  0.,  1.,  0.,  1.,  0.,  0.,  1.]),\n",
              " array([0.44422383, 0.45168855, 0.45915327, 0.46661798, 0.4740827 ,\n",
              "        0.48154742, 0.48901213, 0.49647685, 0.50394156, 0.51140628,\n",
              "        0.518871  , 0.52633571, 0.53380043, 0.54126514, 0.54872986,\n",
              "        0.55619458, 0.56365929, 0.57112401, 0.57858873, 0.58605344,\n",
              "        0.59351816, 0.60098287, 0.60844759, 0.61591231, 0.62337702,\n",
              "        0.63084174, 0.63830645, 0.64577117, 0.65323589, 0.6607006 ,\n",
              "        0.66816532, 0.67563004, 0.68309475, 0.69055947, 0.69802418,\n",
              "        0.7054889 , 0.71295362, 0.72041833, 0.72788305, 0.73534776,\n",
              "        0.74281248, 0.7502772 , 0.75774191, 0.76520663, 0.77267135,\n",
              "        0.78013606, 0.78760078, 0.79506549, 0.80253021, 0.80999493,\n",
              "        0.81745964]),\n",
              " <BarContainer object of 50 artists>)"
            ]
          },
          "metadata": {},
          "execution_count": 15
        },
        {
          "output_type": "display_data",
          "data": {
            "text/plain": [
              "<Figure size 640x480 with 1 Axes>"
            ],
            "image/png": "[encoded data removed]"
          },
          "metadata": {}
        }
      ],
      "source": [
        "#l'histogramme des estimations de beta_1\n",
        "plt.hist(beta_1, bins=50)"
      ]
    },
    {
      "cell_type": "markdown",
      "source": [
        "**Commentaire:** l'echantillon bootstrap du paramétre $β_1$ suit asymptotiquement une distribution normale."
      ],
      "metadata": {
        "id": "V1jTq5seNApQ"
      }
    },
    {
      "cell_type": "markdown",
      "source": [
        "**INTERVALLES DE CONFIANCES BOOTSTRAP**"
      ],
      "metadata": {
        "id": "TMUm-YMnmdR3"
      }
    },
    {
      "cell_type": "code",
      "source": [
        "# intervallle de confiance bootstrap\n",
        "inf=np.percentile(beta_1, 2.5)\n",
        "sup=np.percentile(beta_1, 97.5)\n",
        "print(f\" borne inf = {inf}\")\n",
        "print(f\" borne sup = {sup}\")\n"
      ],
      "metadata": {
        "colab": {
          "base_uri": "https://localhost:8080/"
        },
        "id": "v-3sk0HVkEHA",
        "outputId": "696c1450-9cba-4f6e-c210-57c2dcae071e"
      },
      "execution_count": null,
      "outputs": [
        {
          "output_type": "stream",
          "name": "stdout",
          "text": [
            " borne inf = 0.49541769662919327\n",
            " borne sup = 0.7187861870322095\n"
          ]
        }
      ]
    },
    {
      "cell_type": "code",
      "source": [
        "#intervalle de confiance de la régression avec les données originales\n",
        "confidence_intervals = lr_model.conf_int()\n",
        "confidence_intervals\n",
        "#kidiq.iloc[0][\"mom_iq\"]"
      ],
      "metadata": {
        "colab": {
          "base_uri": "https://localhost:8080/",
          "height": 112
        },
        "id": "O_RNCSWAgETL",
        "outputId": "98d219c8-6d58-428b-e884-5a4e5e720efa"
      },
      "execution_count": null,
      "outputs": [
        {
          "output_type": "execute_result",
          "data": {
            "text/plain": [
              "                0          1\n",
              "const   14.169279  37.430277\n",
              "mom_iq   0.494953   0.724996"
            ],
            "text/html": [
              "\n",
              "  <div id=\"df-0463fe4b-46b9-439e-83c1-9b15c6260389\" class=\"colab-df-container\">\n",
              "    <div>\n",
              "<style scoped>\n",
              "    .dataframe tbody tr th:only-of-type {\n",
              "        vertical-align: middle;\n",
              "    }\n",
              "\n",
              "    .dataframe tbody tr th {\n",
              "        vertical-align: top;\n",
              "    }\n",
              "\n",
              "    .dataframe thead th {\n",
              "        text-align: right;\n",
              "    }\n",
              "</style>\n",
              "<table border=\"1\" class=\"dataframe\">\n",
              "  <thead>\n",
              "    <tr style=\"text-align: right;\">\n",
              "      <th></th>\n",
              "      <th>0</th>\n",
              "      <th>1</th>\n",
              "    </tr>\n",
              "  </thead>\n",
              "  <tbody>\n",
              "    <tr>\n",
              "      <th>const</th>\n",
              "      <td>14.169279</td>\n",
              "      <td>37.430277</td>\n",
              "    </tr>\n",
              "    <tr>\n",
              "      <th>mom_iq</th>\n",
              "      <td>0.494953</td>\n",
              "      <td>0.724996</td>\n",
              "    </tr>\n",
              "  </tbody>\n",
              "</table>\n",
              "</div>\n",
              "    <div class=\"colab-df-buttons\">\n",
              "\n",
              "  <div class=\"colab-df-container\">\n",
              "    <button class=\"colab-df-convert\" onclick=\"convertToInteractive('df-0463fe4b-46b9-439e-83c1-9b15c6260389')\"\n",
              "            title=\"Convert this dataframe to an interactive table.\"\n",
              "            style=\"display:none;\">\n",
              "\n",
              "  <svg xmlns=\"http://www.w3.org/2000/svg\" height=\"24px\" viewBox=\"0 -960 960 960\">\n",
              "    <path d=\"M120-120v-720h720v720H120Zm60-500h600v-160H180v160Zm220 220h160v-160H400v160Zm0 220h160v-160H400v160ZM180-400h160v-160H180v160Zm440 0h160v-160H620v160ZM180-180h160v-160H180v160Zm440 0h160v-160H620v160Z\"/>\n",
              "  </svg>\n",
              "    </button>\n",
              "\n",
              "  <style>\n",
              "    .colab-df-container {\n",
              "      display:flex;\n",
              "      gap: 12px;\n",
              "    }\n",
              "\n",
              "    .colab-df-convert {\n",
              "      background-color: #E8F0FE;\n",
              "      border: none;\n",
              "      border-radius: 50%;\n",
              "      cursor: pointer;\n",
              "      display: none;\n",
              "      fill: #1967D2;\n",
              "      height: 32px;\n",
              "      padding: 0 0 0 0;\n",
              "      width: 32px;\n",
              "    }\n",
              "\n",
              "    .colab-df-convert:hover {\n",
              "      background-color: #E2EBFA;\n",
              "      box-shadow: 0px 1px 2px rgba(60, 64, 67, 0.3), 0px 1px 3px 1px rgba(60, 64, 67, 0.15);\n",
              "      fill: #174EA6;\n",
              "    }\n",
              "\n",
              "    .colab-df-buttons div {\n",
              "      margin-bottom: 4px;\n",
              "    }\n",
              "\n",
              "    [theme=dark] .colab-df-convert {\n",
              "      background-color: #3B4455;\n",
              "      fill: #D2E3FC;\n",
              "    }\n",
              "\n",
              "    [theme=dark] .colab-df-convert:hover {\n",
              "      background-color: #434B5C;\n",
              "      box-shadow: 0px 1px 3px 1px rgba(0, 0, 0, 0.15);\n",
              "      filter: drop-shadow(0px 1px 2px rgba(0, 0, 0, 0.3));\n",
              "      fill: #FFFFFF;\n",
              "    }\n",
              "  </style>\n",
              "\n",
              "    <script>\n",
              "      const buttonEl =\n",
              "        document.querySelector('#df-0463fe4b-46b9-439e-83c1-9b15c6260389 button.colab-df-convert');\n",
              "      buttonEl.style.display =\n",
              "        google.colab.kernel.accessAllowed ? 'block' : 'none';\n",
              "\n",
              "      async function convertToInteractive(key) {\n",
              "        const element = document.querySelector('#df-0463fe4b-46b9-439e-83c1-9b15c6260389');\n",
              "        const dataTable =\n",
              "          await google.colab.kernel.invokeFunction('convertToInteractive',\n",
              "                                                    [key], {});\n",
              "        if (!dataTable) return;\n",
              "\n",
              "        const docLinkHtml = 'Like what you see? Visit the ' +\n",
              "          '<a target=\"_blank\" href=https://colab.research.google.com/notebooks/data_table.ipynb>data table notebook</a>'\n",
              "          + ' to learn more about interactive tables.';\n",
              "        element.innerHTML = '';\n",
              "        dataTable['output_type'] = 'display_data';\n",
              "        await google.colab.output.renderOutput(dataTable, element);\n",
              "        const docLink = document.createElement('div');\n",
              "        docLink.innerHTML = docLinkHtml;\n",
              "        element.appendChild(docLink);\n",
              "      }\n",
              "    </script>\n",
              "  </div>\n",
              "\n",
              "\n",
              "<div id=\"df-9243fe6f-2921-489d-9b7f-406980a8b2a9\">\n",
              "  <button class=\"colab-df-quickchart\" onclick=\"quickchart('df-9243fe6f-2921-489d-9b7f-406980a8b2a9')\"\n",
              "            title=\"Suggest charts\"\n",
              "            style=\"display:none;\">\n",
              "\n",
              "<svg xmlns=\"http://www.w3.org/2000/svg\" height=\"24px\"viewBox=\"0 0 24 24\"\n",
              "     width=\"24px\">\n",
              "    <g>\n",
              "        <path d=\"M19 3H5c-1.1 0-2 .9-2 2v14c0 1.1.9 2 2 2h14c1.1 0 2-.9 2-2V5c0-1.1-.9-2-2-2zM9 17H7v-7h2v7zm4 0h-2V7h2v10zm4 0h-2v-4h2v4z\"/>\n",
              "    </g>\n",
              "</svg>\n",
              "  </button>\n",
              "\n",
              "<style>\n",
              "  .colab-df-quickchart {\n",
              "      --bg-color: #E8F0FE;\n",
              "      --fill-color: #1967D2;\n",
              "      --hover-bg-color: #E2EBFA;\n",
              "      --hover-fill-color: #174EA6;\n",
              "      --disabled-fill-color: #AAA;\n",
              "      --disabled-bg-color: #DDD;\n",
              "  }\n",
              "\n",
              "  [theme=dark] .colab-df-quickchart {\n",
              "      --bg-color: #3B4455;\n",
              "      --fill-color: #D2E3FC;\n",
              "      --hover-bg-color: #434B5C;\n",
              "      --hover-fill-color: #FFFFFF;\n",
              "      --disabled-bg-color: #3B4455;\n",
              "      --disabled-fill-color: #666;\n",
              "  }\n",
              "\n",
              "  .colab-df-quickchart {\n",
              "    background-color: var(--bg-color);\n",
              "    border: none;\n",
              "    border-radius: 50%;\n",
              "    cursor: pointer;\n",
              "    display: none;\n",
              "    fill: var(--fill-color);\n",
              "    height: 32px;\n",
              "    padding: 0;\n",
              "    width: 32px;\n",
              "  }\n",
              "\n",
              "  .colab-df-quickchart:hover {\n",
              "    background-color: var(--hover-bg-color);\n",
              "    box-shadow: 0 1px 2px rgba(60, 64, 67, 0.3), 0 1px 3px 1px rgba(60, 64, 67, 0.15);\n",
              "    fill: var(--button-hover-fill-color);\n",
              "  }\n",
              "\n",
              "  .colab-df-quickchart-complete:disabled,\n",
              "  .colab-df-quickchart-complete:disabled:hover {\n",
              "    background-color: var(--disabled-bg-color);\n",
              "    fill: var(--disabled-fill-color);\n",
              "    box-shadow: none;\n",
              "  }\n",
              "\n",
              "  .colab-df-spinner {\n",
              "    border: 2px solid var(--fill-color);\n",
              "    border-color: transparent;\n",
              "    border-bottom-color: var(--fill-color);\n",
              "    animation:\n",
              "      spin 1s steps(1) infinite;\n",
              "  }\n",
              "\n",
              "  @keyframes spin {\n",
              "    0% {\n",
              "      border-color: transparent;\n",
              "      border-bottom-color: var(--fill-color);\n",
              "      border-left-color: var(--fill-color);\n",
              "    }\n",
              "    20% {\n",
              "      border-color: transparent;\n",
              "      border-left-color: var(--fill-color);\n",
              "      border-top-color: var(--fill-color);\n",
              "    }\n",
              "    30% {\n",
              "      border-color: transparent;\n",
              "      border-left-color: var(--fill-color);\n",
              "      border-top-color: var(--fill-color);\n",
              "      border-right-color: var(--fill-color);\n",
              "    }\n",
              "    40% {\n",
              "      border-color: transparent;\n",
              "      border-right-color: var(--fill-color);\n",
              "      border-top-color: var(--fill-color);\n",
              "    }\n",
              "    60% {\n",
              "      border-color: transparent;\n",
              "      border-right-color: var(--fill-color);\n",
              "    }\n",
              "    80% {\n",
              "      border-color: transparent;\n",
              "      border-right-color: var(--fill-color);\n",
              "      border-bottom-color: var(--fill-color);\n",
              "    }\n",
              "    90% {\n",
              "      border-color: transparent;\n",
              "      border-bottom-color: var(--fill-color);\n",
              "    }\n",
              "  }\n",
              "</style>\n",
              "\n",
              "  <script>\n",
              "    async function quickchart(key) {\n",
              "      const quickchartButtonEl =\n",
              "        document.querySelector('#' + key + ' button');\n",
              "      quickchartButtonEl.disabled = true;  // To prevent multiple clicks.\n",
              "      quickchartButtonEl.classList.add('colab-df-spinner');\n",
              "      try {\n",
              "        const charts = await google.colab.kernel.invokeFunction(\n",
              "            'suggestCharts', [key], {});\n",
              "      } catch (error) {\n",
              "        console.error('Error during call to suggestCharts:', error);\n",
              "      }\n",
              "      quickchartButtonEl.classList.remove('colab-df-spinner');\n",
              "      quickchartButtonEl.classList.add('colab-df-quickchart-complete');\n",
              "    }\n",
              "    (() => {\n",
              "      let quickchartButtonEl =\n",
              "        document.querySelector('#df-9243fe6f-2921-489d-9b7f-406980a8b2a9 button');\n",
              "      quickchartButtonEl.style.display =\n",
              "        google.colab.kernel.accessAllowed ? 'block' : 'none';\n",
              "    })();\n",
              "  </script>\n",
              "</div>\n",
              "    </div>\n",
              "  </div>\n"
            ],
            "application/vnd.google.colaboratory.intrinsic+json": {
              "type": "dataframe",
              "variable_name": "confidence_intervals",
              "summary": "{\n  \"name\": \"confidence_intervals\",\n  \"rows\": 2,\n  \"fields\": [\n    {\n      \"column\": 0,\n      \"properties\": {\n        \"dtype\": \"number\",\n        \"std\": 9.669208289274579,\n        \"min\": 0.4949534238641568,\n        \"max\": 14.169278923966619,\n        \"num_unique_values\": 2,\n        \"samples\": [\n          0.4949534238641568,\n          14.169278923966619\n        ],\n        \"semantic_type\": \"\",\n        \"description\": \"\"\n      }\n    },\n    {\n      \"column\": 1,\n      \"properties\": {\n        \"dtype\": \"number\",\n        \"std\": 25.954553140311408,\n        \"min\": 0.7249957195974162,\n        \"max\": 37.430276775959015,\n        \"num_unique_values\": 2,\n        \"samples\": [\n          0.7249957195974162,\n          37.430276775959015\n        ],\n        \"semantic_type\": \"\",\n        \"description\": \"\"\n      }\n    }\n  ]\n}"
            }
          },
          "metadata": {},
          "execution_count": 19
        }
      ]
    },
    {
      "cell_type": "markdown",
      "source": [
        "Comparés par la régression linéaire avec  les données originales, les intervalles de confiances Bootstrap pour le paraméttre $β_1$ sont trés similaires aux intervalles de confiances avec l'hypothèse gaussienne."
      ],
      "metadata": {
        "id": "NFUeCjSRlnZ3"
      }
    },
    {
      "cell_type": "code",
      "source": [
        "# des intervales de confiances à partir du Bootstrap\n",
        "IC_beta1=[]\n",
        "for bootstrap_res in bootstrap_predictions:\n",
        "    lr_model = sm.OLS(np.array(bootstrap_res), sm.add_constant(X)).fit()\n",
        "\n",
        "    #confidence_intervals = lr_model.conf_int()\n",
        "    IC_beta1.append(confidence_intervals.iloc[1]) #pour chaque beta_1 bootstrap récupére son intervalle de\n",
        "    # confiance que l' on rajoute à notre liste\n",
        "#kidiq.iloc[0][\"mom_iq\"]\n",
        "IC_beta1[0] #intervalle de confiance du premier estimation de beta_1 par bootstrap"
      ],
      "metadata": {
        "id": "AnXCL2L5EELd",
        "colab": {
          "base_uri": "https://localhost:8080/"
        },
        "outputId": "96612ad3-65b6-4c44-9043-44bf1804deb3"
      },
      "execution_count": null,
      "outputs": [
        {
          "output_type": "execute_result",
          "data": {
            "text/plain": [
              "0    0.494953\n",
              "1    0.724996\n",
              "Name: mom_iq, dtype: float64"
            ]
          },
          "metadata": {},
          "execution_count": 118
        }
      ]
    },
    {
      "cell_type": "code",
      "source": [
        "#vérifions si l'intervalle de confiance contient la valeur estimé\n",
        "print(beta_1[0])\n",
        "print(IC_beta1[0])"
      ],
      "metadata": {
        "colab": {
          "base_uri": "https://localhost:8080/"
        },
        "id": "8AzqH4W2lIeF",
        "outputId": "4e5998b2-670b-4eaf-b42b-a512e9cf6305"
      },
      "execution_count": null,
      "outputs": [
        {
          "output_type": "stream",
          "name": "stdout",
          "text": [
            "-0.05130931772351603\n",
            "0   -0.179689\n",
            "1    0.077070\n",
            "Name: mom_iq, dtype: float64\n"
          ]
        }
      ]
    },
    {
      "cell_type": "markdown",
      "source": [
        "**sortie:** 0 correspond à la borne inférieure et 1 la borne supérieure."
      ],
      "metadata": {
        "id": "HF8SqUFRkJFR"
      }
    },
    {
      "cell_type": "markdown",
      "source": [
        "On va essayer de pédire  le résultat des éléctions (vote) par la croissance économique (growth)"
      ],
      "metadata": {
        "id": "jjyj8rNjQG7y"
      }
    },
    {
      "cell_type": "markdown",
      "source": [
        "**UTILISATION DU JEU DE DONNEES MAMMALS**"
      ],
      "metadata": {
        "id": "vkX1HiItF_ua"
      }
    },
    {
      "cell_type": "code",
      "source": [
        "# Importation de la table\n",
        "table= pd.read_csv(\"mammals.csv\")\n",
        "table.head()"
      ],
      "metadata": {
        "colab": {
          "base_uri": "https://localhost:8080/",
          "height": 206
        },
        "id": "TfMcvEzcGU_k",
        "outputId": "eecb6143-660e-45bc-ca4d-83b799a6aa19"
      },
      "execution_count": null,
      "outputs": [
        {
          "output_type": "execute_result",
          "data": {
            "text/plain": [
              "            Mammal     body  brain\n",
              "0       Arctic fox    3.385   44.5\n",
              "1       Owl monkey    0.480   15.5\n",
              "2  Mountain beaver    1.350    8.1\n",
              "3              Cow  465.000  423.0\n",
              "4        Grey wolf   36.330  119.5"
            ],
            "text/html": [
              "\n",
              "  <div id=\"df-a86022cd-4450-4059-bbb2-66f2cf5797f9\" class=\"colab-df-container\">\n",
              "    <div>\n",
              "<style scoped>\n",
              "    .dataframe tbody tr th:only-of-type {\n",
              "        vertical-align: middle;\n",
              "    }\n",
              "\n",
              "    .dataframe tbody tr th {\n",
              "        vertical-align: top;\n",
              "    }\n",
              "\n",
              "    .dataframe thead th {\n",
              "        text-align: right;\n",
              "    }\n",
              "</style>\n",
              "<table border=\"1\" class=\"dataframe\">\n",
              "  <thead>\n",
              "    <tr style=\"text-align: right;\">\n",
              "      <th></th>\n",
              "      <th>Mammal</th>\n",
              "      <th>body</th>\n",
              "      <th>brain</th>\n",
              "    </tr>\n",
              "  </thead>\n",
              "  <tbody>\n",
              "    <tr>\n",
              "      <th>0</th>\n",
              "      <td>Arctic fox</td>\n",
              "      <td>3.385</td>\n",
              "      <td>44.5</td>\n",
              "    </tr>\n",
              "    <tr>\n",
              "      <th>1</th>\n",
              "      <td>Owl monkey</td>\n",
              "      <td>0.480</td>\n",
              "      <td>15.5</td>\n",
              "    </tr>\n",
              "    <tr>\n",
              "      <th>2</th>\n",
              "      <td>Mountain beaver</td>\n",
              "      <td>1.350</td>\n",
              "      <td>8.1</td>\n",
              "    </tr>\n",
              "    <tr>\n",
              "      <th>3</th>\n",
              "      <td>Cow</td>\n",
              "      <td>465.000</td>\n",
              "      <td>423.0</td>\n",
              "    </tr>\n",
              "    <tr>\n",
              "      <th>4</th>\n",
              "      <td>Grey wolf</td>\n",
              "      <td>36.330</td>\n",
              "      <td>119.5</td>\n",
              "    </tr>\n",
              "  </tbody>\n",
              "</table>\n",
              "</div>\n",
              "    <div class=\"colab-df-buttons\">\n",
              "\n",
              "  <div class=\"colab-df-container\">\n",
              "    <button class=\"colab-df-convert\" onclick=\"convertToInteractive('df-a86022cd-4450-4059-bbb2-66f2cf5797f9')\"\n",
              "            title=\"Convert this dataframe to an interactive table.\"\n",
              "            style=\"display:none;\">\n",
              "\n",
              "  <svg xmlns=\"http://www.w3.org/2000/svg\" height=\"24px\" viewBox=\"0 -960 960 960\">\n",
              "    <path d=\"M120-120v-720h720v720H120Zm60-500h600v-160H180v160Zm220 220h160v-160H400v160Zm0 220h160v-160H400v160ZM180-400h160v-160H180v160Zm440 0h160v-160H620v160ZM180-180h160v-160H180v160Zm440 0h160v-160H620v160Z\"/>\n",
              "  </svg>\n",
              "    </button>\n",
              "\n",
              "  <style>\n",
              "    .colab-df-container {\n",
              "      display:flex;\n",
              "      gap: 12px;\n",
              "    }\n",
              "\n",
              "    .colab-df-convert {\n",
              "      background-color: #E8F0FE;\n",
              "      border: none;\n",
              "      border-radius: 50%;\n",
              "      cursor: pointer;\n",
              "      display: none;\n",
              "      fill: #1967D2;\n",
              "      height: 32px;\n",
              "      padding: 0 0 0 0;\n",
              "      width: 32px;\n",
              "    }\n",
              "\n",
              "    .colab-df-convert:hover {\n",
              "      background-color: #E2EBFA;\n",
              "      box-shadow: 0px 1px 2px rgba(60, 64, 67, 0.3), 0px 1px 3px 1px rgba(60, 64, 67, 0.15);\n",
              "      fill: #174EA6;\n",
              "    }\n",
              "\n",
              "    .colab-df-buttons div {\n",
              "      margin-bottom: 4px;\n",
              "    }\n",
              "\n",
              "    [theme=dark] .colab-df-convert {\n",
              "      background-color: #3B4455;\n",
              "      fill: #D2E3FC;\n",
              "    }\n",
              "\n",
              "    [theme=dark] .colab-df-convert:hover {\n",
              "      background-color: #434B5C;\n",
              "      box-shadow: 0px 1px 3px 1px rgba(0, 0, 0, 0.15);\n",
              "      filter: drop-shadow(0px 1px 2px rgba(0, 0, 0, 0.3));\n",
              "      fill: #FFFFFF;\n",
              "    }\n",
              "  </style>\n",
              "\n",
              "    <script>\n",
              "      const buttonEl =\n",
              "        document.querySelector('#df-a86022cd-4450-4059-bbb2-66f2cf5797f9 button.colab-df-convert');\n",
              "      buttonEl.style.display =\n",
              "        google.colab.kernel.accessAllowed ? 'block' : 'none';\n",
              "\n",
              "      async function convertToInteractive(key) {\n",
              "        const element = document.querySelector('#df-a86022cd-4450-4059-bbb2-66f2cf5797f9');\n",
              "        const dataTable =\n",
              "          await google.colab.kernel.invokeFunction('convertToInteractive',\n",
              "                                                    [key], {});\n",
              "        if (!dataTable) return;\n",
              "\n",
              "        const docLinkHtml = 'Like what you see? Visit the ' +\n",
              "          '<a target=\"_blank\" href=https://colab.research.google.com/notebooks/data_table.ipynb>data table notebook</a>'\n",
              "          + ' to learn more about interactive tables.';\n",
              "        element.innerHTML = '';\n",
              "        dataTable['output_type'] = 'display_data';\n",
              "        await google.colab.output.renderOutput(dataTable, element);\n",
              "        const docLink = document.createElement('div');\n",
              "        docLink.innerHTML = docLinkHtml;\n",
              "        element.appendChild(docLink);\n",
              "      }\n",
              "    </script>\n",
              "  </div>\n",
              "\n",
              "\n",
              "<div id=\"df-e5b56c05-5223-4edd-8107-20949497f1bd\">\n",
              "  <button class=\"colab-df-quickchart\" onclick=\"quickchart('df-e5b56c05-5223-4edd-8107-20949497f1bd')\"\n",
              "            title=\"Suggest charts\"\n",
              "            style=\"display:none;\">\n",
              "\n",
              "<svg xmlns=\"http://www.w3.org/2000/svg\" height=\"24px\"viewBox=\"0 0 24 24\"\n",
              "     width=\"24px\">\n",
              "    <g>\n",
              "        <path d=\"M19 3H5c-1.1 0-2 .9-2 2v14c0 1.1.9 2 2 2h14c1.1 0 2-.9 2-2V5c0-1.1-.9-2-2-2zM9 17H7v-7h2v7zm4 0h-2V7h2v10zm4 0h-2v-4h2v4z\"/>\n",
              "    </g>\n",
              "</svg>\n",
              "  </button>\n",
              "\n",
              "<style>\n",
              "  .colab-df-quickchart {\n",
              "      --bg-color: #E8F0FE;\n",
              "      --fill-color: #1967D2;\n",
              "      --hover-bg-color: #E2EBFA;\n",
              "      --hover-fill-color: #174EA6;\n",
              "      --disabled-fill-color: #AAA;\n",
              "      --disabled-bg-color: #DDD;\n",
              "  }\n",
              "\n",
              "  [theme=dark] .colab-df-quickchart {\n",
              "      --bg-color: #3B4455;\n",
              "      --fill-color: #D2E3FC;\n",
              "      --hover-bg-color: #434B5C;\n",
              "      --hover-fill-color: #FFFFFF;\n",
              "      --disabled-bg-color: #3B4455;\n",
              "      --disabled-fill-color: #666;\n",
              "  }\n",
              "\n",
              "  .colab-df-quickchart {\n",
              "    background-color: var(--bg-color);\n",
              "    border: none;\n",
              "    border-radius: 50%;\n",
              "    cursor: pointer;\n",
              "    display: none;\n",
              "    fill: var(--fill-color);\n",
              "    height: 32px;\n",
              "    padding: 0;\n",
              "    width: 32px;\n",
              "  }\n",
              "\n",
              "  .colab-df-quickchart:hover {\n",
              "    background-color: var(--hover-bg-color);\n",
              "    box-shadow: 0 1px 2px rgba(60, 64, 67, 0.3), 0 1px 3px 1px rgba(60, 64, 67, 0.15);\n",
              "    fill: var(--button-hover-fill-color);\n",
              "  }\n",
              "\n",
              "  .colab-df-quickchart-complete:disabled,\n",
              "  .colab-df-quickchart-complete:disabled:hover {\n",
              "    background-color: var(--disabled-bg-color);\n",
              "    fill: var(--disabled-fill-color);\n",
              "    box-shadow: none;\n",
              "  }\n",
              "\n",
              "  .colab-df-spinner {\n",
              "    border: 2px solid var(--fill-color);\n",
              "    border-color: transparent;\n",
              "    border-bottom-color: var(--fill-color);\n",
              "    animation:\n",
              "      spin 1s steps(1) infinite;\n",
              "  }\n",
              "\n",
              "  @keyframes spin {\n",
              "    0% {\n",
              "      border-color: transparent;\n",
              "      border-bottom-color: var(--fill-color);\n",
              "      border-left-color: var(--fill-color);\n",
              "    }\n",
              "    20% {\n",
              "      border-color: transparent;\n",
              "      border-left-color: var(--fill-color);\n",
              "      border-top-color: var(--fill-color);\n",
              "    }\n",
              "    30% {\n",
              "      border-color: transparent;\n",
              "      border-left-color: var(--fill-color);\n",
              "      border-top-color: var(--fill-color);\n",
              "      border-right-color: var(--fill-color);\n",
              "    }\n",
              "    40% {\n",
              "      border-color: transparent;\n",
              "      border-right-color: var(--fill-color);\n",
              "      border-top-color: var(--fill-color);\n",
              "    }\n",
              "    60% {\n",
              "      border-color: transparent;\n",
              "      border-right-color: var(--fill-color);\n",
              "    }\n",
              "    80% {\n",
              "      border-color: transparent;\n",
              "      border-right-color: var(--fill-color);\n",
              "      border-bottom-color: var(--fill-color);\n",
              "    }\n",
              "    90% {\n",
              "      border-color: transparent;\n",
              "      border-bottom-color: var(--fill-color);\n",
              "    }\n",
              "  }\n",
              "</style>\n",
              "\n",
              "  <script>\n",
              "    async function quickchart(key) {\n",
              "      const quickchartButtonEl =\n",
              "        document.querySelector('#' + key + ' button');\n",
              "      quickchartButtonEl.disabled = true;  // To prevent multiple clicks.\n",
              "      quickchartButtonEl.classList.add('colab-df-spinner');\n",
              "      try {\n",
              "        const charts = await google.colab.kernel.invokeFunction(\n",
              "            'suggestCharts', [key], {});\n",
              "      } catch (error) {\n",
              "        console.error('Error during call to suggestCharts:', error);\n",
              "      }\n",
              "      quickchartButtonEl.classList.remove('colab-df-spinner');\n",
              "      quickchartButtonEl.classList.add('colab-df-quickchart-complete');\n",
              "    }\n",
              "    (() => {\n",
              "      let quickchartButtonEl =\n",
              "        document.querySelector('#df-e5b56c05-5223-4edd-8107-20949497f1bd button');\n",
              "      quickchartButtonEl.style.display =\n",
              "        google.colab.kernel.accessAllowed ? 'block' : 'none';\n",
              "    })();\n",
              "  </script>\n",
              "</div>\n",
              "    </div>\n",
              "  </div>\n"
            ],
            "application/vnd.google.colaboratory.intrinsic+json": {
              "type": "dataframe",
              "variable_name": "table",
              "summary": "{\n  \"name\": \"table\",\n  \"rows\": 62,\n  \"fields\": [\n    {\n      \"column\": \"Mammal\",\n      \"properties\": {\n        \"dtype\": \"string\",\n        \"num_unique_values\": 62,\n        \"samples\": [\n          \"Raccoon\",\n          \"Echidna\",\n          \"Arctic fox\"\n        ],\n        \"semantic_type\": \"\",\n        \"description\": \"\"\n      }\n    },\n    {\n      \"column\": \"body\",\n      \"properties\": {\n        \"dtype\": \"number\",\n        \"std\": 899.158010517426,\n        \"min\": 0.005,\n        \"max\": 6654.0,\n        \"num_unique_values\": 60,\n        \"samples\": [\n          3.385,\n          27.66,\n          0.12\n        ],\n        \"semantic_type\": \"\",\n        \"description\": \"\"\n      }\n    },\n    {\n      \"column\": \"brain\",\n      \"properties\": {\n        \"dtype\": \"number\",\n        \"std\": 930.2789422543102,\n        \"min\": 0.14,\n        \"max\": 5712.0,\n        \"num_unique_values\": 59,\n        \"samples\": [\n          44.5,\n          115.0,\n          17.0\n        ],\n        \"semantic_type\": \"\",\n        \"description\": \"\"\n      }\n    }\n  ]\n}"
            }
          },
          "metadata": {},
          "execution_count": 16
        }
      ]
    },
    {
      "cell_type": "code",
      "source": [
        "#vérification de la linéarité\n",
        "plt.figure(figsize=(8, 6))\n",
        "y_log=np.log(table['brain'])\n",
        "x_log=np.log(table['body'])\n",
        "sns.scatterplot(x=x_log, y=y_log)\n",
        "plt.title('test de linéarité')\n",
        "plt.xlabel('body weight (kg)')\n",
        "plt.ylabel('brain weight (g)')\n",
        "slope, intercept = np.polyfit(x_log, y_log, 1)\n",
        "plt.plot(x_log, slope*x_log + intercept, color='red')\n",
        "plt.show()"
      ],
      "metadata": {
        "colab": {
          "base_uri": "https://localhost:8080/",
          "height": 564
        },
        "id": "AfI7XEaAGmTL",
        "outputId": "83705b96-34bc-4449-af11-8c7d0ac218a7"
      },
      "execution_count": null,
      "outputs": [
        {
          "output_type": "display_data",
          "data": {
            "text/plain": [
              "<Figure size 800x600 with 1 Axes>"
            ],
            "image/png": "[encoded data removed]"
          },
          "metadata": {}
        }
      ]
    },
    {
      "cell_type": "code",
      "source": [
        "\n",
        "#régression linéaire simple\n",
        "import statsmodels.api as sm\n",
        "X=np.log(table[\"body\"])\n",
        "Y=np.log(table[\"brain\"])\n",
        "#fit du modèle\n",
        "resultats = sm.OLS(Y, sm.add_constant(X)).fit()\n",
        "results_table = resultats.summary2().tables[1]\n",
        "results_table"
      ],
      "metadata": {
        "colab": {
          "base_uri": "https://localhost:8080/",
          "height": 112
        },
        "id": "qOwZl7EuGt72",
        "outputId": "f0e7dc3f-e2ee-4037-8953-eb6a71542a14"
      },
      "execution_count": null,
      "outputs": [
        {
          "output_type": "execute_result",
          "data": {
            "text/plain": [
              "          Coef.  Std.Err.          t         P>|t|    [0.025    0.975]\n",
              "const  2.134789  0.096043  22.227336  1.183207e-30  1.942673  2.326904\n",
              "body   0.751686  0.028464  26.408711  9.835792e-35  0.694750  0.808622"
            ],
            "text/html": [
              "\n",
              "  <div id=\"df-0570fda0-0e08-4520-91e2-641685da6b64\" class=\"colab-df-container\">\n",
              "    <div>\n",
              "<style scoped>\n",
              "    .dataframe tbody tr th:only-of-type {\n",
              "        vertical-align: middle;\n",
              "    }\n",
              "\n",
              "    .dataframe tbody tr th {\n",
              "        vertical-align: top;\n",
              "    }\n",
              "\n",
              "    .dataframe thead th {\n",
              "        text-align: right;\n",
              "    }\n",
              "</style>\n",
              "<table border=\"1\" class=\"dataframe\">\n",
              "  <thead>\n",
              "    <tr style=\"text-align: right;\">\n",
              "      <th></th>\n",
              "      <th>Coef.</th>\n",
              "      <th>Std.Err.</th>\n",
              "      <th>t</th>\n",
              "      <th>P&gt;|t|</th>\n",
              "      <th>[0.025</th>\n",
              "      <th>0.975]</th>\n",
              "    </tr>\n",
              "  </thead>\n",
              "  <tbody>\n",
              "    <tr>\n",
              "      <th>const</th>\n",
              "      <td>2.134789</td>\n",
              "      <td>0.096043</td>\n",
              "      <td>22.227336</td>\n",
              "      <td>1.183207e-30</td>\n",
              "      <td>1.942673</td>\n",
              "      <td>2.326904</td>\n",
              "    </tr>\n",
              "    <tr>\n",
              "      <th>body</th>\n",
              "      <td>0.751686</td>\n",
              "      <td>0.028464</td>\n",
              "      <td>26.408711</td>\n",
              "      <td>9.835792e-35</td>\n",
              "      <td>0.694750</td>\n",
              "      <td>0.808622</td>\n",
              "    </tr>\n",
              "  </tbody>\n",
              "</table>\n",
              "</div>\n",
              "    <div class=\"colab-df-buttons\">\n",
              "\n",
              "  <div class=\"colab-df-container\">\n",
              "    <button class=\"colab-df-convert\" onclick=\"convertToInteractive('df-0570fda0-0e08-4520-91e2-641685da6b64')\"\n",
              "            title=\"Convert this dataframe to an interactive table.\"\n",
              "            style=\"display:none;\">\n",
              "\n",
              "  <svg xmlns=\"http://www.w3.org/2000/svg\" height=\"24px\" viewBox=\"0 -960 960 960\">\n",
              "    <path d=\"M120-120v-720h720v720H120Zm60-500h600v-160H180v160Zm220 220h160v-160H400v160Zm0 220h160v-160H400v160ZM180-400h160v-160H180v160Zm440 0h160v-160H620v160ZM180-180h160v-160H180v160Zm440 0h160v-160H620v160Z\"/>\n",
              "  </svg>\n",
              "    </button>\n",
              "\n",
              "  <style>\n",
              "    .colab-df-container {\n",
              "      display:flex;\n",
              "      gap: 12px;\n",
              "    }\n",
              "\n",
              "    .colab-df-convert {\n",
              "      background-color: #E8F0FE;\n",
              "      border: none;\n",
              "      border-radius: 50%;\n",
              "      cursor: pointer;\n",
              "      display: none;\n",
              "      fill: #1967D2;\n",
              "      height: 32px;\n",
              "      padding: 0 0 0 0;\n",
              "      width: 32px;\n",
              "    }\n",
              "\n",
              "    .colab-df-convert:hover {\n",
              "      background-color: #E2EBFA;\n",
              "      box-shadow: 0px 1px 2px rgba(60, 64, 67, 0.3), 0px 1px 3px 1px rgba(60, 64, 67, 0.15);\n",
              "      fill: #174EA6;\n",
              "    }\n",
              "\n",
              "    .colab-df-buttons div {\n",
              "      margin-bottom: 4px;\n",
              "    }\n",
              "\n",
              "    [theme=dark] .colab-df-convert {\n",
              "      background-color: #3B4455;\n",
              "      fill: #D2E3FC;\n",
              "    }\n",
              "\n",
              "    [theme=dark] .colab-df-convert:hover {\n",
              "      background-color: #434B5C;\n",
              "      box-shadow: 0px 1px 3px 1px rgba(0, 0, 0, 0.15);\n",
              "      filter: drop-shadow(0px 1px 2px rgba(0, 0, 0, 0.3));\n",
              "      fill: #FFFFFF;\n",
              "    }\n",
              "  </style>\n",
              "\n",
              "    <script>\n",
              "      const buttonEl =\n",
              "        document.querySelector('#df-0570fda0-0e08-4520-91e2-641685da6b64 button.colab-df-convert');\n",
              "      buttonEl.style.display =\n",
              "        google.colab.kernel.accessAllowed ? 'block' : 'none';\n",
              "\n",
              "      async function convertToInteractive(key) {\n",
              "        const element = document.querySelector('#df-0570fda0-0e08-4520-91e2-641685da6b64');\n",
              "        const dataTable =\n",
              "          await google.colab.kernel.invokeFunction('convertToInteractive',\n",
              "                                                    [key], {});\n",
              "        if (!dataTable) return;\n",
              "\n",
              "        const docLinkHtml = 'Like what you see? Visit the ' +\n",
              "          '<a target=\"_blank\" href=https://colab.research.google.com/notebooks/data_table.ipynb>data table notebook</a>'\n",
              "          + ' to learn more about interactive tables.';\n",
              "        element.innerHTML = '';\n",
              "        dataTable['output_type'] = 'display_data';\n",
              "        await google.colab.output.renderOutput(dataTable, element);\n",
              "        const docLink = document.createElement('div');\n",
              "        docLink.innerHTML = docLinkHtml;\n",
              "        element.appendChild(docLink);\n",
              "      }\n",
              "    </script>\n",
              "  </div>\n",
              "\n",
              "\n",
              "<div id=\"df-b7a91cff-ebdd-4de2-a686-04dac7de1c4e\">\n",
              "  <button class=\"colab-df-quickchart\" onclick=\"quickchart('df-b7a91cff-ebdd-4de2-a686-04dac7de1c4e')\"\n",
              "            title=\"Suggest charts\"\n",
              "            style=\"display:none;\">\n",
              "\n",
              "<svg xmlns=\"http://www.w3.org/2000/svg\" height=\"24px\"viewBox=\"0 0 24 24\"\n",
              "     width=\"24px\">\n",
              "    <g>\n",
              "        <path d=\"M19 3H5c-1.1 0-2 .9-2 2v14c0 1.1.9 2 2 2h14c1.1 0 2-.9 2-2V5c0-1.1-.9-2-2-2zM9 17H7v-7h2v7zm4 0h-2V7h2v10zm4 0h-2v-4h2v4z\"/>\n",
              "    </g>\n",
              "</svg>\n",
              "  </button>\n",
              "\n",
              "<style>\n",
              "  .colab-df-quickchart {\n",
              "      --bg-color: #E8F0FE;\n",
              "      --fill-color: #1967D2;\n",
              "      --hover-bg-color: #E2EBFA;\n",
              "      --hover-fill-color: #174EA6;\n",
              "      --disabled-fill-color: #AAA;\n",
              "      --disabled-bg-color: #DDD;\n",
              "  }\n",
              "\n",
              "  [theme=dark] .colab-df-quickchart {\n",
              "      --bg-color: #3B4455;\n",
              "      --fill-color: #D2E3FC;\n",
              "      --hover-bg-color: #434B5C;\n",
              "      --hover-fill-color: #FFFFFF;\n",
              "      --disabled-bg-color: #3B4455;\n",
              "      --disabled-fill-color: #666;\n",
              "  }\n",
              "\n",
              "  .colab-df-quickchart {\n",
              "    background-color: var(--bg-color);\n",
              "    border: none;\n",
              "    border-radius: 50%;\n",
              "    cursor: pointer;\n",
              "    display: none;\n",
              "    fill: var(--fill-color);\n",
              "    height: 32px;\n",
              "    padding: 0;\n",
              "    width: 32px;\n",
              "  }\n",
              "\n",
              "  .colab-df-quickchart:hover {\n",
              "    background-color: var(--hover-bg-color);\n",
              "    box-shadow: 0 1px 2px rgba(60, 64, 67, 0.3), 0 1px 3px 1px rgba(60, 64, 67, 0.15);\n",
              "    fill: var(--button-hover-fill-color);\n",
              "  }\n",
              "\n",
              "  .colab-df-quickchart-complete:disabled,\n",
              "  .colab-df-quickchart-complete:disabled:hover {\n",
              "    background-color: var(--disabled-bg-color);\n",
              "    fill: var(--disabled-fill-color);\n",
              "    box-shadow: none;\n",
              "  }\n",
              "\n",
              "  .colab-df-spinner {\n",
              "    border: 2px solid var(--fill-color);\n",
              "    border-color: transparent;\n",
              "    border-bottom-color: var(--fill-color);\n",
              "    animation:\n",
              "      spin 1s steps(1) infinite;\n",
              "  }\n",
              "\n",
              "  @keyframes spin {\n",
              "    0% {\n",
              "      border-color: transparent;\n",
              "      border-bottom-color: var(--fill-color);\n",
              "      border-left-color: var(--fill-color);\n",
              "    }\n",
              "    20% {\n",
              "      border-color: transparent;\n",
              "      border-left-color: var(--fill-color);\n",
              "      border-top-color: var(--fill-color);\n",
              "    }\n",
              "    30% {\n",
              "      border-color: transparent;\n",
              "      border-left-color: var(--fill-color);\n",
              "      border-top-color: var(--fill-color);\n",
              "      border-right-color: var(--fill-color);\n",
              "    }\n",
              "    40% {\n",
              "      border-color: transparent;\n",
              "      border-right-color: var(--fill-color);\n",
              "      border-top-color: var(--fill-color);\n",
              "    }\n",
              "    60% {\n",
              "      border-color: transparent;\n",
              "      border-right-color: var(--fill-color);\n",
              "    }\n",
              "    80% {\n",
              "      border-color: transparent;\n",
              "      border-right-color: var(--fill-color);\n",
              "      border-bottom-color: var(--fill-color);\n",
              "    }\n",
              "    90% {\n",
              "      border-color: transparent;\n",
              "      border-bottom-color: var(--fill-color);\n",
              "    }\n",
              "  }\n",
              "</style>\n",
              "\n",
              "  <script>\n",
              "    async function quickchart(key) {\n",
              "      const quickchartButtonEl =\n",
              "        document.querySelector('#' + key + ' button');\n",
              "      quickchartButtonEl.disabled = true;  // To prevent multiple clicks.\n",
              "      quickchartButtonEl.classList.add('colab-df-spinner');\n",
              "      try {\n",
              "        const charts = await google.colab.kernel.invokeFunction(\n",
              "            'suggestCharts', [key], {});\n",
              "      } catch (error) {\n",
              "        console.error('Error during call to suggestCharts:', error);\n",
              "      }\n",
              "      quickchartButtonEl.classList.remove('colab-df-spinner');\n",
              "      quickchartButtonEl.classList.add('colab-df-quickchart-complete');\n",
              "    }\n",
              "    (() => {\n",
              "      let quickchartButtonEl =\n",
              "        document.querySelector('#df-b7a91cff-ebdd-4de2-a686-04dac7de1c4e button');\n",
              "      quickchartButtonEl.style.display =\n",
              "        google.colab.kernel.accessAllowed ? 'block' : 'none';\n",
              "    })();\n",
              "  </script>\n",
              "</div>\n",
              "    </div>\n",
              "  </div>\n"
            ],
            "application/vnd.google.colaboratory.intrinsic+json": {
              "type": "dataframe",
              "variable_name": "results_table",
              "summary": "{\n  \"name\": \"results_table\",\n  \"rows\": 2,\n  \"fields\": [\n    {\n      \"column\": \"Coef.\",\n      \"properties\": {\n        \"dtype\": \"number\",\n        \"std\": 0.9780013269013242,\n        \"min\": 0.751685936241901,\n        \"max\": 2.1347886767646367,\n        \"num_unique_values\": 2,\n        \"samples\": [\n          0.751685936241901,\n          2.1347886767646367\n        ],\n        \"semantic_type\": \"\",\n        \"description\": \"\"\n      }\n    },\n    {\n      \"column\": \"Std.Err.\",\n      \"properties\": {\n        \"dtype\": \"number\",\n        \"std\": 0.047786154755440895,\n        \"min\": 0.028463559838239307,\n        \"max\": 0.09604338798704339,\n        \"num_unique_values\": 2,\n        \"samples\": [\n          0.028463559838239307,\n          0.09604338798704339\n        ],\n        \"semantic_type\": \"\",\n        \"description\": \"\"\n      }\n    },\n    {\n      \"column\": \"t\",\n      \"properties\": {\n        \"dtype\": \"number\",\n        \"std\": 2.9566787190634236,\n        \"min\": 22.22733622279784,\n        \"max\": 26.408711366877245,\n        \"num_unique_values\": 2,\n        \"samples\": [\n          26.408711366877245,\n          22.22733622279784\n        ],\n        \"semantic_type\": \"\",\n        \"description\": \"\"\n      }\n    },\n    {\n      \"column\": \"P>|t|\",\n      \"properties\": {\n        \"dtype\": \"number\",\n        \"std\": 8.365838014991748e-31,\n        \"min\": 9.835792242827487e-35,\n        \"max\": 1.1832065160642025e-30,\n        \"num_unique_values\": 2,\n        \"samples\": [\n          9.835792242827487e-35,\n          1.1832065160642025e-30\n        ],\n        \"semantic_type\": \"\",\n        \"description\": \"\"\n      }\n    },\n    {\n      \"column\": \"[0.025\",\n      \"properties\": {\n        \"dtype\": \"number\",\n        \"std\": 0.882414785667263,\n        \"min\": 0.6947503395179095,\n        \"max\": 1.9426732970471006,\n        \"num_unique_values\": 2,\n        \"samples\": [\n          0.6947503395179095,\n          1.9426732970471006\n        ],\n        \"semantic_type\": \"\",\n        \"description\": \"\"\n      }\n    },\n    {\n      \"column\": \"0.975]\",\n      \"properties\": {\n        \"dtype\": \"number\",\n        \"std\": 1.0735878681353854,\n        \"min\": 0.8086215329658926,\n        \"max\": 2.3269040564821726,\n        \"num_unique_values\": 2,\n        \"samples\": [\n          0.8086215329658926,\n          2.3269040564821726\n        ],\n        \"semantic_type\": \"\",\n        \"description\": \"\"\n      }\n    }\n  ]\n}"
            }
          },
          "metadata": {},
          "execution_count": 18
        }
      ]
    },
    {
      "cell_type": "code",
      "source": [
        "residus=resultats.resid\n",
        "plt.hist(residus)"
      ],
      "metadata": {
        "colab": {
          "base_uri": "https://localhost:8080/",
          "height": 517
        },
        "id": "wvg8dB2dG67a",
        "outputId": "7d44a76e-22a1-40b8-ee05-2ebd488fb4c5"
      },
      "execution_count": null,
      "outputs": [
        {
          "output_type": "execute_result",
          "data": {
            "text/plain": [
              "(array([ 1.,  1., 10., 11., 16.,  9.,  7.,  4.,  1.,  2.]),\n",
              " array([-1.71549643, -1.34911784, -0.98273925, -0.61636066, -0.24998207,\n",
              "         0.11639652,  0.48277511,  0.8491537 ,  1.21553229,  1.58191088,\n",
              "         1.94828946]),\n",
              " <BarContainer object of 10 artists>)"
            ]
          },
          "metadata": {},
          "execution_count": 19
        },
        {
          "output_type": "display_data",
          "data": {
            "text/plain": [
              "<Figure size 640x480 with 1 Axes>"
            ],
            "image/png": "[encoded data removed]"
          },
          "metadata": {}
        }
      ]
    },
    {
      "cell_type": "code",
      "source": [
        "#résidus normalisé\n",
        "n=len(residus)\n",
        "h=(1/n + (X-np.mean(X))**2/sum((X-np.mean(X))**2))\n",
        "residus=1/(np.sqrt(1-h))*(residus)\n",
        "residus=residus-np.mean(residus)\n",
        "plt.hist(residus)"
      ],
      "metadata": {
        "colab": {
          "base_uri": "https://localhost:8080/",
          "height": 517
        },
        "id": "ZXlUmJ-LHJCV",
        "outputId": "d4e2d5a9-de29-4815-b68b-73135853c2f5"
      },
      "execution_count": null,
      "outputs": [
        {
          "output_type": "execute_result",
          "data": {
            "text/plain": [
              "(array([ 1.,  1., 10., 12., 15., 10.,  6.,  4.,  1.,  2.]),\n",
              " array([-1.72861557, -1.35792633, -0.98723708, -0.61654784, -0.24585859,\n",
              "         0.12483066,  0.4955199 ,  0.86620915,  1.2368984 ,  1.60758764,\n",
              "         1.97827689]),\n",
              " <BarContainer object of 10 artists>)"
            ]
          },
          "metadata": {},
          "execution_count": 20
        },
        {
          "output_type": "display_data",
          "data": {
            "text/plain": [
              "<Figure size 640x480 with 1 Axes>"
            ],
            "image/png": "[encoded data removed]"
          },
          "metadata": {}
        }
      ]
    },
    {
      "cell_type": "code",
      "source": [
        "#on peut le vérifier avec le QQ-plot\n",
        "fig, ax = plt.subplots(figsize=(8, 6))\n",
        "sm.qqplot(residus, line='s', ax=ax)\n",
        "ax.set_title('QQ-plot')\n",
        "plt.show()"
      ],
      "metadata": {
        "colab": {
          "base_uri": "https://localhost:8080/",
          "height": 564
        },
        "id": "ROFct2uTHRq_",
        "outputId": "87c5a552-3f30-4e70-a676-ab1d0d78e074"
      },
      "execution_count": null,
      "outputs": [
        {
          "output_type": "display_data",
          "data": {
            "text/plain": [
              "<Figure size 800x600 with 1 Axes>"
            ],
            "image/png": "[encoded data removed]"
          },
          "metadata": {}
        }
      ]
    },
    {
      "cell_type": "code",
      "source": [
        "#test d'homocédasticité\n",
        "y_predi=resultats.predict()\n",
        "plt.figure(figsize=(8, 6))\n",
        "sns.scatterplot(x=y_predi, y=residus)\n",
        "plt.title('Test d\\'homoscédasticité')\n",
        "plt.xlabel('Prédictions')\n",
        "plt.ylabel('Résidus')\n",
        "plt.show()"
      ],
      "metadata": {
        "colab": {
          "base_uri": "https://localhost:8080/",
          "height": 564
        },
        "id": "TNz-ugDgHYP9",
        "outputId": "23968a4f-b354-4310-9a4e-b4f8b29f15c8"
      },
      "execution_count": null,
      "outputs": [
        {
          "output_type": "display_data",
          "data": {
            "text/plain": [
              "<Figure size 800x600 with 1 Axes>"
            ],
            "image/png": "[encoded data removed]"
          },
          "metadata": {}
        }
      ]
    },
    {
      "cell_type": "code",
      "source": [
        "# échantillon Bootstrap des prédictions\n",
        "\n",
        "R=10\n",
        "bootstrap_samples = [residus.sample(n=len(residus), replace=True) for _ in range(R)]\n",
        "bootstrap_samples\n",
        "bootstrap_predictions=[]\n",
        "\n",
        "for bootstrap_residual in bootstrap_samples:\n",
        "    bootstrap_predictions.append(np.array(y_predi) + bootstrap_residual)\n",
        "bootstrap_predictions[0]\n",
        "\n",
        "#les estimations du paramétre beta_1 bootstrap\n",
        "beta_1=[] #vecteur d'estimations bootstrap\n",
        "for Ypredi in bootstrap_predictions:\n",
        "    resultats= sm.OLS(np.array(Ypredi), sm.add_constant(X)).fit()\n",
        "    beta_1.append(resultats.params[1])\n",
        "#beta_1[1]\n"
      ],
      "metadata": {
        "id": "gdOSSuaCHjsd"
      },
      "execution_count": null,
      "outputs": []
    },
    {
      "cell_type": "code",
      "source": [
        "#la moyenne et l'écart-type\n",
        "print(f\" mean = {np.mean(beta_1)}\")\n",
        "print(f\" std = {np.std(beta_1)}\")\n",
        "#np.std(beta_1)"
      ],
      "metadata": {
        "id": "gWTa5i5aHrMU"
      },
      "execution_count": null,
      "outputs": []
    },
    {
      "cell_type": "code",
      "source": [
        "# intervallle de confiance bootstrap\n",
        "inf=np.percentile(beta_1, 2.5)\n",
        "sup=np.percentile(beta_1, 97.5)\n",
        "print(f\" borne inf = {inf}\")\n",
        "print(f\" borne sup = {sup}\")"
      ],
      "metadata": {
        "id": "qBhRZv36HwMl"
      },
      "execution_count": null,
      "outputs": []
    },
    {
      "cell_type": "markdown",
      "source": [
        "**CAS DE l'HETEROASCEDASTCITE SUR UN JEU DE DONNEES SIMULES AVEC LA MACHINE**"
      ],
      "metadata": {
        "id": "FUWuRTiaIHVA"
      }
    },
    {
      "cell_type": "code",
      "source": [
        "np.random.seed(4)\n",
        "n=100\n",
        "x = np.random.normal(loc=0, scale=1, size=n)\n",
        "\n",
        "# Définir la relation de variance des résidus en fonction de la covariable\n",
        "variance_relation = 2 * x**2 + 0.5\n",
        "# Générer des résidus en utilisant la relation de variance\n",
        "residuals = np.random.normal(loc=0, scale=np.sqrt(variance_relation), size=n)\n",
        "\n",
        "# Relation linéaire avec la covariable\n",
        "#beta_0 = 2\n",
        "#beta_1 = 1.5\n",
        "y = x + residuals"
      ],
      "metadata": {
        "id": "lY5G9dFpIG3V"
      },
      "execution_count": null,
      "outputs": []
    },
    {
      "cell_type": "code",
      "source": [
        "plt.scatter(x, y)\n",
        "plt.xlabel('X (Covariable)')\n",
        "plt.ylabel('Y (Variable dépendante)')\n",
        "plt.title('Jeu de données avec variance des résidus dépendante de la covariable')\n",
        "plt.show()"
      ],
      "metadata": {
        "colab": {
          "base_uri": "https://localhost:8080/",
          "height": 472
        },
        "id": "fN-th8DMH74X",
        "outputId": "ff5812d4-4f26-4091-a822-fbf32f6963ec"
      },
      "execution_count": null,
      "outputs": [
        {
          "output_type": "display_data",
          "data": {
            "text/plain": [
              "<Figure size 640x480 with 1 Axes>"
            ],
            "image/png": "[encoded data removed]"
          },
          "metadata": {}
        }
      ]
    },
    {
      "cell_type": "code",
      "source": [
        "#régression linéaire simple\n",
        "import statsmodels.api as sm\n",
        "resultats = sm.OLS(y, sm.add_constant(x)).fit()\n",
        "resultats_table=resultats.summary2().tables[1]\n",
        "resultats_table[['Coef.']].iloc[1]\n",
        "resultats_table[['Coef.']]\n",
        "resultats_table\n",
        "plt.hist(resultats.resid,alpha=0.7)"
      ],
      "metadata": {
        "colab": {
          "base_uri": "https://localhost:8080/",
          "height": 517
        },
        "id": "6WRGjw5IIuNO",
        "outputId": "6c8e006f-ca05-4eee-c740-8713683e1919"
      },
      "execution_count": null,
      "outputs": [
        {
          "output_type": "execute_result",
          "data": {
            "text/plain": [
              "(array([ 1.,  2.,  4., 10., 25., 28., 17., 11.,  0.,  2.]),\n",
              " array([-4.73455064, -3.84075233, -2.94695402, -2.05315571, -1.15935741,\n",
              "        -0.2655591 ,  0.62823921,  1.52203752,  2.41583582,  3.30963413,\n",
              "         4.20343244]),\n",
              " <BarContainer object of 10 artists>)"
            ]
          },
          "metadata": {},
          "execution_count": 26
        },
        {
          "output_type": "display_data",
          "data": {
            "text/plain": [
              "<Figure size 640x480 with 1 Axes>"
            ],
            "image/png": "[encoded data removed]"
          },
          "metadata": {}
        }
      ]
    },
    {
      "cell_type": "code",
      "source": [
        "# échantillon Bootstrap des prédictions\n",
        "residus=resultats.resid\n",
        "Y_predi=resultats.predict()\n",
        "R=1000\n",
        "bootstrap_samples = [np.random.choice(residus,size=len(residus), replace=True) for _ in range(R)]\n",
        "bootstrap_samples\n",
        "bootstrap_predictions=[]\n",
        "for bootstrap_residual in bootstrap_samples:\n",
        "    bootstrap_predictions.append(Y_predi+ bootstrap_residual)\n",
        "\n",
        "x=np.array(x)\n",
        "#les estimations du paramétre beta_1 bootstrap\n",
        "beta_1=[] #vecteur d'estimations bootstrap\n",
        "for boot in bootstrap_predictions:\n",
        "    resultats= sm.OLS(np.array(boot), sm.add_constant(x)).fit()\n",
        "    beta_1.append(resultats.params[1])\n"
      ],
      "metadata": {
        "id": "52BL9Hd8I0f7"
      },
      "execution_count": null,
      "outputs": []
    },
    {
      "cell_type": "code",
      "source": [
        "plt.hist(beta_1)\n",
        "plt.axvline(x=np.mean(beta_1), color='red', linestyle='--', linewidth=2, label='moyenne de beta1_chapeau')\n",
        "plt.legend()\n",
        "plt.show()"
      ],
      "metadata": {
        "colab": {
          "base_uri": "https://localhost:8080/",
          "height": 430
        },
        "id": "B97P7WL1JCMB",
        "outputId": "c7ce696f-0c4c-42cf-c3bf-b23af0c56881"
      },
      "execution_count": null,
      "outputs": [
        {
          "output_type": "display_data",
          "data": {
            "text/plain": [
              "<Figure size 640x480 with 1 Axes>"
            ],
            "image/png": "[encoded data removed]"
          },
          "metadata": {}
        }
      ]
    },
    {
      "cell_type": "code",
      "source": [
        "# intervallle de confiance bootstrap\n",
        "inf=np.percentile(beta_1, 2.5)\n",
        "sup=np.percentile(beta_1, 97.5)\n",
        "print(f\" borne inf = {inf}\")\n",
        "print(f\" borne sup = {sup}\")"
      ],
      "metadata": {
        "colab": {
          "base_uri": "https://localhost:8080/"
        },
        "id": "H6aaZIh-JKRr",
        "outputId": "56c05e62-de35-43f2-940d-55a6daca8816"
      },
      "execution_count": null,
      "outputs": [
        {
          "output_type": "stream",
          "name": "stdout",
          "text": [
            " borne inf = 1.0378475894933155\n",
            " borne sup = 1.570037220534494\n"
          ]
        }
      ]
    },
    {
      "cell_type": "code",
      "source": [
        "#test d'homoscédasticité\n",
        "plt.figure(figsize=(8, 6))\n",
        "sns.scatterplot(x=Y_predi, y=residus)\n",
        "plt.title('Test d\\'homoscédasticité')\n",
        "plt.xlabel('Prédictions')\n",
        "plt.ylabel('Résidus')\n",
        "plt.show()"
      ],
      "metadata": {
        "colab": {
          "base_uri": "https://localhost:8080/",
          "height": 564
        },
        "id": "L2ilyMruJPoV",
        "outputId": "4123e502-2a8f-4c97-a34c-065e957a1f14"
      },
      "execution_count": null,
      "outputs": [
        {
          "output_type": "display_data",
          "data": {
            "text/plain": [
              "<Figure size 800x600 with 1 Axes>"
            ],
            "image/png": "[encoded data removed]"
          },
          "metadata": {}
        }
      ]
    },
    {
      "cell_type": "markdown",
      "source": [
        "L'homoscédasticité n'est pas vérifié donc une des hypothéses de la méthode du bootstrap et de la régression linéaire est violée, ce qui fait que les estimations otenues par ces méthodes ne sont pas robustes. Nous allons modifiés par la suite les résidus afin de contourner ce problème."
      ],
      "metadata": {
        "id": "UHtngtLXKYUX"
      }
    },
    {
      "cell_type": "markdown",
      "source": [
        "On va rendre notre modèle homoscédastie. Pour cela nous allons modifier les résidus de tels sorte que leur variance soit indépendante de la variable indépendante $x$.\\\n",
        "Soit $e_j$ tel que $e_j=Y-\\hat Y$. Posons\n",
        "$$h_{j}=\\frac{1}{n}+\\frac{(x_j-\\bar{x})^2}{∑_j^{n}(x_j-\\bar{x})^2}$$\n",
        "alors $$r_j=\\frac{1}{v(x_j)(1-h_j)^{\\frac{1}{2}}}e_j$$\n",
        "avec $v$ une fonction  de la variance des residus qui dépend de $x$.\\\n",
        "\\\n",
        "On verra que les résidus modifiés sont approximativement homoscédastiques."
      ],
      "metadata": {
        "id": "6ukfT9zFJi7o"
      }
    },
    {
      "cell_type": "code",
      "source": [
        "#résidus modifiées\n",
        "#definition de la fonction de la variance\n",
        "def v(x):\n",
        "    return 0.1 * x**2 + 0.5\n",
        "n=len(residus)\n",
        "h=(1/n + (x-np.mean(x))**2/sum((x-np.mean(x))**2))\n",
        "residus_modif=1/(np.sqrt(v(x)*(1-h)))*residus\n",
        "residus_modif=residus_modif-np.mean(residus_modif)\n",
        "residus_modif"
      ],
      "metadata": {
        "colab": {
          "base_uri": "https://localhost:8080/"
        },
        "id": "qN0PvlvnJn-u",
        "outputId": "fb6fe50a-2238-4e2e-af3f-ae668069eb52"
      },
      "execution_count": null,
      "outputs": [
        {
          "output_type": "execute_result",
          "data": {
            "text/plain": [
              "array([ 0.75611057,  0.72429123,  1.68554012, -0.46444023,  2.24418345,\n",
              "        0.01220138,  0.34574012, -0.72899643, -0.01278645, -0.07461644,\n",
              "        2.91038668,  0.50435748, -2.33139209, -0.62795906, -2.74020636,\n",
              "        0.95026442,  2.38405179, -1.76022133,  0.76680702, -0.19961202,\n",
              "        1.24897068,  1.75978137, -0.40428742, -2.39038497,  1.71294167,\n",
              "        0.51575138,  1.36462828,  2.72683202, -2.47225196, -4.41768722,\n",
              "        1.95293428, -0.78629566, -1.20713355, -3.28663313,  2.9394547 ,\n",
              "        0.022839  ,  0.3212814 ,  1.31805556, -0.62192404, -2.30494329,\n",
              "       -1.45296321, -1.73121312, -0.20285684, -0.85928393,  0.12841914,\n",
              "       -1.1598448 ,  0.06778056,  1.07465529,  1.62446045,  2.55467254,\n",
              "       -0.08775116,  1.28202477, -0.49615499,  1.0303759 ,  3.04677611,\n",
              "       -0.67671187,  2.5582021 , -0.68359306, -0.42310387,  0.1178306 ,\n",
              "       -2.13710377,  0.9694366 , -1.51306228, -0.8520903 , -0.23344621,\n",
              "       -1.69320184,  0.41273003, -2.10098657,  0.02217727, -5.16741804,\n",
              "       -0.75249333,  0.49254184,  5.09924094,  1.14497411,  2.59133471,\n",
              "        0.09246002,  4.48700751, -0.46514788, -0.84312246, -1.37106521,\n",
              "        0.93940823,  1.75375213, -1.45429807, -0.28402848, -0.55666817,\n",
              "       -1.69502789, -0.6031909 , -3.09688199,  2.28471998, -1.98663035,\n",
              "       -0.92453099,  0.31919126,  1.03989278, -0.06810001, -0.91909213,\n",
              "       -0.11864838, -0.12226918,  1.03471006, -0.55687125, -1.21555533])"
            ]
          },
          "metadata": {},
          "execution_count": 31
        }
      ]
    },
    {
      "cell_type": "code",
      "source": [
        "#test d'homoscédasticité des résidus modifiés\n",
        "plt.figure(figsize=(8, 6))\n",
        "sns.scatterplot(x=Y_predi, y=residus_modif)\n",
        "plt.title('Test d\\'homoscédasticité')\n",
        "plt.xlabel('Prédictions')\n",
        "plt.ylabel('Résidus')\n",
        "plt.show()"
      ],
      "metadata": {
        "colab": {
          "base_uri": "https://localhost:8080/",
          "height": 564
        },
        "id": "qAmp9ai6J0EC",
        "outputId": "2a772cc4-21b8-4fee-e34b-90667ac847fa"
      },
      "execution_count": null,
      "outputs": [
        {
          "output_type": "display_data",
          "data": {
            "text/plain": [
              "<Figure size 800x600 with 1 Axes>"
            ],
            "image/png": "[encoded data removed]"
          },
          "metadata": {}
        }
      ]
    },
    {
      "cell_type": "markdown",
      "source": [
        "Maintenant l'hypothése d'homoscédasticité est valide aprés modification des résidus.\\\n",
        "Reprenons le bootstrap avec cette nouvelle échantion de résidus puis comparons les résultats avec ceux obtenus avant."
      ],
      "metadata": {
        "id": "xMMCg4E_J_TZ"
      }
    },
    {
      "cell_type": "code",
      "source": [
        "#échantillons bootstrap des résidus modifiés\n",
        "residus=resultats.resid\n",
        "Y_predi=resultats.predict()\n",
        "R=1000\n",
        "bootstrap_residus = [np.random.choice(residus_modif,size=len(residus_modif), replace=True) for _ in range(R)]\n",
        "#bootstrap des prédictions\n",
        "bootstrap_predis=[]\n",
        "for bootstrap_residual in bootstrap_residus:\n",
        "    bootstrap_predis.append(Y_predi+ bootstrap_residual)\n",
        "\n",
        "#les estimations du paramétre beta_1 bootstrap\n",
        "beta1=[] #vecteur d'estimations bootstrap\n",
        "for boot in bootstrap_predis:\n",
        "    resultats= sm.OLS(np.array(boot), sm.add_constant(x)).fit()\n",
        "    beta1.append(resultats.params[1])"
      ],
      "metadata": {
        "id": "LvQjUpeTKBa5"
      },
      "execution_count": null,
      "outputs": []
    },
    {
      "cell_type": "code",
      "source": [
        "# intervallle de confiance bootstrap avec résidus modifiés\n",
        "inf=np.percentile(beta1, 2.5)\n",
        "sup=np.percentile(beta1, 97.5)\n",
        "print(f\" borne inf = {inf}\")\n",
        "print(f\" borne sup = {sup}\")"
      ],
      "metadata": {
        "colab": {
          "base_uri": "https://localhost:8080/"
        },
        "id": "v279cG9QKHpn",
        "outputId": "de2cd0b6-28b9-4348-e2f3-1103515efdc0"
      },
      "execution_count": null,
      "outputs": [
        {
          "output_type": "stream",
          "name": "stdout",
          "text": [
            " borne inf = 0.9926501397770139\n",
            " borne sup = 1.7102332644204326\n"
          ]
        }
      ]
    },
    {
      "cell_type": "markdown",
      "source": [
        "En comparant les intervalles de confiances ont voit que y'a une différence entre les intervalles de confiances bootstrap et théoriques. Donc pour être précis sur les estimations se serait mieux d'utiliser les intervalles de confiances bootstrap ainsi que les estimations des paramètres obtenus par la méthode du bootstrap avec les résidus modifiés."
      ],
      "metadata": {
        "id": "MVWvOgfLLemu"
      }
    },
    {
      "cell_type": "markdown",
      "source": [
        "## Partie 2:\n",
        "## **Bootstrap par paires:**\n",
        "\n",
        "\n",
        "\n",
        "L'idée consiste à imaginer les données comme un échantillon d'une distribution bivariée $F$ de $(X, Y)$.Dans cette approche, les coefficients de régression sont considérés comme des fonctions statistiques de $F$.\n",
        "La simulation de rééchantillonnage implique d'échantillonner des paires avec remplacement à partir de $\\{(x_1,y_1),...,(x_n,y_n)\\}$. Cela revient à prendre $(x^*,y^*) = (x_i,y_i)$, où $i$ est uniformément distribué sur $\\{1,2,...,n\\}$. Les valeurs simulées $\\beta_0^*, \\beta_1^*$ des estimations des coefficients sont calculées à partir de $(x_1^*,y_1^*),...,(x_n^*,y_n^*)$ en utilisant l'algorithme de régression linéaire.\n",
        "\n",
        "Nous allons illustrer l'efficacité de cette methode avec  le jeu de données kidiq. Puis nous ferons un contre exemple avec un jeu de donnés simulé."
      ],
      "metadata": {
        "id": "1OajaJo0GOFH"
      }
    },
    {
      "cell_type": "markdown",
      "source": [
        "### Exemple avec le jeu de données Kidiq:\n",
        "\n",
        "Le jeu de données \"kidiq\" comprend les variables suivantes :\n",
        "\n",
        "- $\\textbf{kid_score}$: Le quotient intellectuel (QI) de l'enfant.\n",
        "-  $\\textbf{mom_hs}$ : Un indicateur binaire indiquant si la mère a obtenu son diplôme d'études secondaires.\n",
        "-  $\\textbf{mom_iq}$ : Le QI de la mère.\n",
        "-  $\\textbf{mom_work}$ : Un indicateur binaire indiquant si la mère travaille ou non.\n",
        "-  $\\text{mom_age}$ : L'âge de la mère.\n"
      ],
      "metadata": {
        "id": "ZretPhu18OcD"
      }
    },
    {
      "cell_type": "code",
      "source": [
        "# Importation de la table\n",
        "kidiq = pd.read_csv(\"kidiq.csv\")\n",
        "kidiq.head()"
      ],
      "metadata": {
        "id": "07yAjXu7GNWT",
        "colab": {
          "base_uri": "https://localhost:8080/",
          "height": 206
        },
        "outputId": "5c1946f3-b91b-4e8c-8fd6-78d61d596f65"
      },
      "execution_count": 13,
      "outputs": [
        {
          "output_type": "execute_result",
          "data": {
            "text/plain": [
              "   kid_score  mom_hs      mom_iq  mom_work  mom_age\n",
              "0         65       1  121.117529         4       27\n",
              "1         98       1   89.361882         4       25\n",
              "2         85       1  115.443165         4       27\n",
              "3         83       1   99.449639         3       25\n",
              "4        115       1   92.745710         4       27"
            ],
            "text/html": [
              "\n",
              "  <div id=\"df-8c3ed75b-c494-475e-9c0e-459ddb5035f7\" class=\"colab-df-container\">\n",
              "    <div>\n",
              "<style scoped>\n",
              "    .dataframe tbody tr th:only-of-type {\n",
              "        vertical-align: middle;\n",
              "    }\n",
              "\n",
              "    .dataframe tbody tr th {\n",
              "        vertical-align: top;\n",
              "    }\n",
              "\n",
              "    .dataframe thead th {\n",
              "        text-align: right;\n",
              "    }\n",
              "</style>\n",
              "<table border=\"1\" class=\"dataframe\">\n",
              "  <thead>\n",
              "    <tr style=\"text-align: right;\">\n",
              "      <th></th>\n",
              "      <th>kid_score</th>\n",
              "      <th>mom_hs</th>\n",
              "      <th>mom_iq</th>\n",
              "      <th>mom_work</th>\n",
              "      <th>mom_age</th>\n",
              "    </tr>\n",
              "  </thead>\n",
              "  <tbody>\n",
              "    <tr>\n",
              "      <th>0</th>\n",
              "      <td>65</td>\n",
              "      <td>1</td>\n",
              "      <td>121.117529</td>\n",
              "      <td>4</td>\n",
              "      <td>27</td>\n",
              "    </tr>\n",
              "    <tr>\n",
              "      <th>1</th>\n",
              "      <td>98</td>\n",
              "      <td>1</td>\n",
              "      <td>89.361882</td>\n",
              "      <td>4</td>\n",
              "      <td>25</td>\n",
              "    </tr>\n",
              "    <tr>\n",
              "      <th>2</th>\n",
              "      <td>85</td>\n",
              "      <td>1</td>\n",
              "      <td>115.443165</td>\n",
              "      <td>4</td>\n",
              "      <td>27</td>\n",
              "    </tr>\n",
              "    <tr>\n",
              "      <th>3</th>\n",
              "      <td>83</td>\n",
              "      <td>1</td>\n",
              "      <td>99.449639</td>\n",
              "      <td>3</td>\n",
              "      <td>25</td>\n",
              "    </tr>\n",
              "    <tr>\n",
              "      <th>4</th>\n",
              "      <td>115</td>\n",
              "      <td>1</td>\n",
              "      <td>92.745710</td>\n",
              "      <td>4</td>\n",
              "      <td>27</td>\n",
              "    </tr>\n",
              "  </tbody>\n",
              "</table>\n",
              "</div>\n",
              "    <div class=\"colab-df-buttons\">\n",
              "\n",
              "  <div class=\"colab-df-container\">\n",
              "    <button class=\"colab-df-convert\" onclick=\"convertToInteractive('df-8c3ed75b-c494-475e-9c0e-459ddb5035f7')\"\n",
              "            title=\"Convert this dataframe to an interactive table.\"\n",
              "            style=\"display:none;\">\n",
              "\n",
              "  <svg xmlns=\"http://www.w3.org/2000/svg\" height=\"24px\" viewBox=\"0 -960 960 960\">\n",
              "    <path d=\"M120-120v-720h720v720H120Zm60-500h600v-160H180v160Zm220 220h160v-160H400v160Zm0 220h160v-160H400v160ZM180-400h160v-160H180v160Zm440 0h160v-160H620v160ZM180-180h160v-160H180v160Zm440 0h160v-160H620v160Z\"/>\n",
              "  </svg>\n",
              "    </button>\n",
              "\n",
              "  <style>\n",
              "    .colab-df-container {\n",
              "      display:flex;\n",
              "      gap: 12px;\n",
              "    }\n",
              "\n",
              "    .colab-df-convert {\n",
              "      background-color: #E8F0FE;\n",
              "      border: none;\n",
              "      border-radius: 50%;\n",
              "      cursor: pointer;\n",
              "      display: none;\n",
              "      fill: #1967D2;\n",
              "      height: 32px;\n",
              "      padding: 0 0 0 0;\n",
              "      width: 32px;\n",
              "    }\n",
              "\n",
              "    .colab-df-convert:hover {\n",
              "      background-color: #E2EBFA;\n",
              "      box-shadow: 0px 1px 2px rgba(60, 64, 67, 0.3), 0px 1px 3px 1px rgba(60, 64, 67, 0.15);\n",
              "      fill: #174EA6;\n",
              "    }\n",
              "\n",
              "    .colab-df-buttons div {\n",
              "      margin-bottom: 4px;\n",
              "    }\n",
              "\n",
              "    [theme=dark] .colab-df-convert {\n",
              "      background-color: #3B4455;\n",
              "      fill: #D2E3FC;\n",
              "    }\n",
              "\n",
              "    [theme=dark] .colab-df-convert:hover {\n",
              "      background-color: #434B5C;\n",
              "      box-shadow: 0px 1px 3px 1px rgba(0, 0, 0, 0.15);\n",
              "      filter: drop-shadow(0px 1px 2px rgba(0, 0, 0, 0.3));\n",
              "      fill: #FFFFFF;\n",
              "    }\n",
              "  </style>\n",
              "\n",
              "    <script>\n",
              "      const buttonEl =\n",
              "        document.querySelector('#df-8c3ed75b-c494-475e-9c0e-459ddb5035f7 button.colab-df-convert');\n",
              "      buttonEl.style.display =\n",
              "        google.colab.kernel.accessAllowed ? 'block' : 'none';\n",
              "\n",
              "      async function convertToInteractive(key) {\n",
              "        const element = document.querySelector('#df-8c3ed75b-c494-475e-9c0e-459ddb5035f7');\n",
              "        const dataTable =\n",
              "          await google.colab.kernel.invokeFunction('convertToInteractive',\n",
              "                                                    [key], {});\n",
              "        if (!dataTable) return;\n",
              "\n",
              "        const docLinkHtml = 'Like what you see? Visit the ' +\n",
              "          '<a target=\"_blank\" href=https://colab.research.google.com/notebooks/data_table.ipynb>data table notebook</a>'\n",
              "          + ' to learn more about interactive tables.';\n",
              "        element.innerHTML = '';\n",
              "        dataTable['output_type'] = 'display_data';\n",
              "        await google.colab.output.renderOutput(dataTable, element);\n",
              "        const docLink = document.createElement('div');\n",
              "        docLink.innerHTML = docLinkHtml;\n",
              "        element.appendChild(docLink);\n",
              "      }\n",
              "    </script>\n",
              "  </div>\n",
              "\n",
              "\n",
              "<div id=\"df-da8ce512-851d-41c5-9f65-560f8d0fe5c6\">\n",
              "  <button class=\"colab-df-quickchart\" onclick=\"quickchart('df-da8ce512-851d-41c5-9f65-560f8d0fe5c6')\"\n",
              "            title=\"Suggest charts\"\n",
              "            style=\"display:none;\">\n",
              "\n",
              "<svg xmlns=\"http://www.w3.org/2000/svg\" height=\"24px\"viewBox=\"0 0 24 24\"\n",
              "     width=\"24px\">\n",
              "    <g>\n",
              "        <path d=\"M19 3H5c-1.1 0-2 .9-2 2v14c0 1.1.9 2 2 2h14c1.1 0 2-.9 2-2V5c0-1.1-.9-2-2-2zM9 17H7v-7h2v7zm4 0h-2V7h2v10zm4 0h-2v-4h2v4z\"/>\n",
              "    </g>\n",
              "</svg>\n",
              "  </button>\n",
              "\n",
              "<style>\n",
              "  .colab-df-quickchart {\n",
              "      --bg-color: #E8F0FE;\n",
              "      --fill-color: #1967D2;\n",
              "      --hover-bg-color: #E2EBFA;\n",
              "      --hover-fill-color: #174EA6;\n",
              "      --disabled-fill-color: #AAA;\n",
              "      --disabled-bg-color: #DDD;\n",
              "  }\n",
              "\n",
              "  [theme=dark] .colab-df-quickchart {\n",
              "      --bg-color: #3B4455;\n",
              "      --fill-color: #D2E3FC;\n",
              "      --hover-bg-color: #434B5C;\n",
              "      --hover-fill-color: #FFFFFF;\n",
              "      --disabled-bg-color: #3B4455;\n",
              "      --disabled-fill-color: #666;\n",
              "  }\n",
              "\n",
              "  .colab-df-quickchart {\n",
              "    background-color: var(--bg-color);\n",
              "    border: none;\n",
              "    border-radius: 50%;\n",
              "    cursor: pointer;\n",
              "    display: none;\n",
              "    fill: var(--fill-color);\n",
              "    height: 32px;\n",
              "    padding: 0;\n",
              "    width: 32px;\n",
              "  }\n",
              "\n",
              "  .colab-df-quickchart:hover {\n",
              "    background-color: var(--hover-bg-color);\n",
              "    box-shadow: 0 1px 2px rgba(60, 64, 67, 0.3), 0 1px 3px 1px rgba(60, 64, 67, 0.15);\n",
              "    fill: var(--button-hover-fill-color);\n",
              "  }\n",
              "\n",
              "  .colab-df-quickchart-complete:disabled,\n",
              "  .colab-df-quickchart-complete:disabled:hover {\n",
              "    background-color: var(--disabled-bg-color);\n",
              "    fill: var(--disabled-fill-color);\n",
              "    box-shadow: none;\n",
              "  }\n",
              "\n",
              "  .colab-df-spinner {\n",
              "    border: 2px solid var(--fill-color);\n",
              "    border-color: transparent;\n",
              "    border-bottom-color: var(--fill-color);\n",
              "    animation:\n",
              "      spin 1s steps(1) infinite;\n",
              "  }\n",
              "\n",
              "  @keyframes spin {\n",
              "    0% {\n",
              "      border-color: transparent;\n",
              "      border-bottom-color: var(--fill-color);\n",
              "      border-left-color: var(--fill-color);\n",
              "    }\n",
              "    20% {\n",
              "      border-color: transparent;\n",
              "      border-left-color: var(--fill-color);\n",
              "      border-top-color: var(--fill-color);\n",
              "    }\n",
              "    30% {\n",
              "      border-color: transparent;\n",
              "      border-left-color: var(--fill-color);\n",
              "      border-top-color: var(--fill-color);\n",
              "      border-right-color: var(--fill-color);\n",
              "    }\n",
              "    40% {\n",
              "      border-color: transparent;\n",
              "      border-right-color: var(--fill-color);\n",
              "      border-top-color: var(--fill-color);\n",
              "    }\n",
              "    60% {\n",
              "      border-color: transparent;\n",
              "      border-right-color: var(--fill-color);\n",
              "    }\n",
              "    80% {\n",
              "      border-color: transparent;\n",
              "      border-right-color: var(--fill-color);\n",
              "      border-bottom-color: var(--fill-color);\n",
              "    }\n",
              "    90% {\n",
              "      border-color: transparent;\n",
              "      border-bottom-color: var(--fill-color);\n",
              "    }\n",
              "  }\n",
              "</style>\n",
              "\n",
              "  <script>\n",
              "    async function quickchart(key) {\n",
              "      const quickchartButtonEl =\n",
              "        document.querySelector('#' + key + ' button');\n",
              "      quickchartButtonEl.disabled = true;  // To prevent multiple clicks.\n",
              "      quickchartButtonEl.classList.add('colab-df-spinner');\n",
              "      try {\n",
              "        const charts = await google.colab.kernel.invokeFunction(\n",
              "            'suggestCharts', [key], {});\n",
              "      } catch (error) {\n",
              "        console.error('Error during call to suggestCharts:', error);\n",
              "      }\n",
              "      quickchartButtonEl.classList.remove('colab-df-spinner');\n",
              "      quickchartButtonEl.classList.add('colab-df-quickchart-complete');\n",
              "    }\n",
              "    (() => {\n",
              "      let quickchartButtonEl =\n",
              "        document.querySelector('#df-da8ce512-851d-41c5-9f65-560f8d0fe5c6 button');\n",
              "      quickchartButtonEl.style.display =\n",
              "        google.colab.kernel.accessAllowed ? 'block' : 'none';\n",
              "    })();\n",
              "  </script>\n",
              "</div>\n",
              "    </div>\n",
              "  </div>\n"
            ],
            "application/vnd.google.colaboratory.intrinsic+json": {
              "type": "dataframe",
              "variable_name": "kidiq",
              "summary": "{\n  \"name\": \"kidiq\",\n  \"rows\": 434,\n  \"fields\": [\n    {\n      \"column\": \"kid_score\",\n      \"properties\": {\n        \"dtype\": \"number\",\n        \"std\": 20,\n        \"min\": 20,\n        \"max\": 144,\n        \"num_unique_values\": 85,\n        \"samples\": [\n          44,\n          65,\n          74\n        ],\n        \"semantic_type\": \"\",\n        \"description\": \"\"\n      }\n    },\n    {\n      \"column\": \"mom_hs\",\n      \"properties\": {\n        \"dtype\": \"number\",\n        \"std\": 0,\n        \"min\": 0,\n        \"max\": 1,\n        \"num_unique_values\": 2,\n        \"samples\": [\n          0,\n          1\n        ],\n        \"semantic_type\": \"\",\n        \"description\": \"\"\n      }\n    },\n    {\n      \"column\": \"mom_iq\",\n      \"properties\": {\n        \"dtype\": \"number\",\n        \"std\": 14.999999999999986,\n        \"min\": 71.037405135663,\n        \"max\": 138.893106071162,\n        \"num_unique_values\": 332,\n        \"samples\": [\n          121.748013460479,\n          88.6909811561733\n        ],\n        \"semantic_type\": \"\",\n        \"description\": \"\"\n      }\n    },\n    {\n      \"column\": \"mom_work\",\n      \"properties\": {\n        \"dtype\": \"number\",\n        \"std\": 1,\n        \"min\": 1,\n        \"max\": 4,\n        \"num_unique_values\": 4,\n        \"samples\": [\n          3,\n          2\n        ],\n        \"semantic_type\": \"\",\n        \"description\": \"\"\n      }\n    },\n    {\n      \"column\": \"mom_age\",\n      \"properties\": {\n        \"dtype\": \"number\",\n        \"std\": 2,\n        \"min\": 17,\n        \"max\": 29,\n        \"num_unique_values\": 13,\n        \"samples\": [\n          28,\n          21\n        ],\n        \"semantic_type\": \"\",\n        \"description\": \"\"\n      }\n    }\n  ]\n}"
            }
          },
          "metadata": {},
          "execution_count": 13
        }
      ]
    },
    {
      "cell_type": "code",
      "source": [
        "# Entrainement du modèle ( Régression linéaire entre l'IQ de l'enfant et l'IQ de la mère)\n",
        "x= kidiq[[\"mom_iq\"]]\n",
        "y= kidiq[[\"kid_score\"]]\n",
        "model= LinearRegression()\n",
        "model.fit(x,y)"
      ],
      "metadata": {
        "colab": {
          "base_uri": "https://localhost:8080/",
          "height": 74
        },
        "id": "055hFQNEMu3O",
        "outputId": "6c3cd17c-faf4-4c76-893e-0362b89012eb"
      },
      "execution_count": 78,
      "outputs": [
        {
          "output_type": "execute_result",
          "data": {
            "text/plain": [
              "LinearRegression()"
            ],
            "text/html": [
              "<style>#sk-container-id-2 {color: black;background-color: white;}#sk-container-id-2 pre{padding: 0;}#sk-container-id-2 div.sk-toggleable {background-color: white;}#sk-container-id-2 label.sk-toggleable__label {cursor: pointer;display: block;width: 100%;margin-bottom: 0;padding: 0.3em;box-sizing: border-box;text-align: center;}#sk-container-id-2 label.sk-toggleable__label-arrow:before {content: \"▸\";float: left;margin-right: 0.25em;color: #696969;}#sk-container-id-2 label.sk-toggleable__label-arrow:hover:before {color: black;}#sk-container-id-2 div.sk-estimator:hover label.sk-toggleable__label-arrow:before {color: black;}#sk-container-id-2 div.sk-toggleable__content {max-height: 0;max-width: 0;overflow: hidden;text-align: left;background-color: #f0f8ff;}#sk-container-id-2 div.sk-toggleable__content pre {margin: 0.2em;color: black;border-radius: 0.25em;background-color: #f0f8ff;}#sk-container-id-2 input.sk-toggleable__control:checked~div.sk-toggleable__content {max-height: 200px;max-width: 100%;overflow: auto;}#sk-container-id-2 input.sk-toggleable__control:checked~label.sk-toggleable__label-arrow:before {content: \"▾\";}#sk-container-id-2 div.sk-estimator input.sk-toggleable__control:checked~label.sk-toggleable__label {background-color: #d4ebff;}#sk-container-id-2 div.sk-label input.sk-toggleable__control:checked~label.sk-toggleable__label {background-color: #d4ebff;}#sk-container-id-2 input.sk-hidden--visually {border: 0;clip: rect(1px 1px 1px 1px);clip: rect(1px, 1px, 1px, 1px);height: 1px;margin: -1px;overflow: hidden;padding: 0;position: absolute;width: 1px;}#sk-container-id-2 div.sk-estimator {font-family: monospace;background-color: #f0f8ff;border: 1px dotted black;border-radius: 0.25em;box-sizing: border-box;margin-bottom: 0.5em;}#sk-container-id-2 div.sk-estimator:hover {background-color: #d4ebff;}#sk-container-id-2 div.sk-parallel-item::after {content: \"\";width: 100%;border-bottom: 1px solid gray;flex-grow: 1;}#sk-container-id-2 div.sk-label:hover label.sk-toggleable__label {background-color: #d4ebff;}#sk-container-id-2 div.sk-serial::before {content: \"\";position: absolute;border-left: 1px solid gray;box-sizing: border-box;top: 0;bottom: 0;left: 50%;z-index: 0;}#sk-container-id-2 div.sk-serial {display: flex;flex-direction: column;align-items: center;background-color: white;padding-right: 0.2em;padding-left: 0.2em;position: relative;}#sk-container-id-2 div.sk-item {position: relative;z-index: 1;}#sk-container-id-2 div.sk-parallel {display: flex;align-items: stretch;justify-content: center;background-color: white;position: relative;}#sk-container-id-2 div.sk-item::before, #sk-container-id-2 div.sk-parallel-item::before {content: \"\";position: absolute;border-left: 1px solid gray;box-sizing: border-box;top: 0;bottom: 0;left: 50%;z-index: -1;}#sk-container-id-2 div.sk-parallel-item {display: flex;flex-direction: column;z-index: 1;position: relative;background-color: white;}#sk-container-id-2 div.sk-parallel-item:first-child::after {align-self: flex-end;width: 50%;}#sk-container-id-2 div.sk-parallel-item:last-child::after {align-self: flex-start;width: 50%;}#sk-container-id-2 div.sk-parallel-item:only-child::after {width: 0;}#sk-container-id-2 div.sk-dashed-wrapped {border: 1px dashed gray;margin: 0 0.4em 0.5em 0.4em;box-sizing: border-box;padding-bottom: 0.4em;background-color: white;}#sk-container-id-2 div.sk-label label {font-family: monospace;font-weight: bold;display: inline-block;line-height: 1.2em;}#sk-container-id-2 div.sk-label-container {text-align: center;}#sk-container-id-2 div.sk-container {/* jupyter's `normalize.less` sets `[hidden] { display: none; }` but bootstrap.min.css set `[hidden] { display: none !important; }` so we also need the `!important` here to be able to override the default hidden behavior on the sphinx rendered scikit-learn.org. See: https://github.com/scikit-learn/scikit-learn/issues/21755 */display: inline-block !important;position: relative;}#sk-container-id-2 div.sk-text-repr-fallback {display: none;}</style><div id=\"sk-container-id-2\" class=\"sk-top-container\"><div class=\"sk-text-repr-fallback\"><pre>LinearRegression()</pre><b>In a Jupyter environment, please rerun this cell to show the HTML representation or trust the notebook. <br />On GitHub, the HTML representation is unable to render, please try loading this page with nbviewer.org.</b></div><div class=\"sk-container\" hidden><div class=\"sk-item\"><div class=\"sk-estimator sk-toggleable\"><input class=\"sk-toggleable__control sk-hidden--visually\" id=\"sk-estimator-id-2\" type=\"checkbox\" checked><label for=\"sk-estimator-id-2\" class=\"sk-toggleable__label sk-toggleable__label-arrow\">LinearRegression</label><div class=\"sk-toggleable__content\"><pre>LinearRegression()</pre></div></div></div></div></div>"
            ]
          },
          "metadata": {},
          "execution_count": 78
        }
      ]
    },
    {
      "cell_type": "code",
      "source": [
        "# Les coefficients intercept_=b_0 et coef_=b_1 par moindres carrés\n",
        "print(f\" intercept beta0 = {model.intercept_[0]}\")\n",
        "\n",
        "print(f\" coefficient beta1 = {model.coef_[0][0]}\")\n",
        "\n",
        "\n",
        "beta0=model.intercept_[0]\n",
        "beta1 = model.coef_[0][0]"
      ],
      "metadata": {
        "colab": {
          "base_uri": "https://localhost:8080/"
        },
        "id": "EepBAFLkMwq-",
        "outputId": "fdc7d159-d4c0-4b96-8067-90b3603759c8"
      },
      "execution_count": 79,
      "outputs": [
        {
          "output_type": "stream",
          "name": "stdout",
          "text": [
            " intercept beta0 = 25.799777849962837\n",
            " coefficient beta1 = 0.6099745717307865\n"
          ]
        }
      ]
    },
    {
      "cell_type": "code",
      "source": [
        "# Nuage des points et droite de régression\n",
        "plt.plot(x, y, \"bo\", label=\"data\")\n",
        "plt.plot(x, beta1* x + beta0, \"r-\", label=\"regression\")\n",
        "plt.xlabel(\"IQ de la mère\")\n",
        "plt.ylabel(\"IQ de l'enfant\")\n",
        "plt.title(\"Regression linéaire \")"
      ],
      "metadata": {
        "id": "OHlSKofQN7Eu",
        "colab": {
          "base_uri": "https://localhost:8080/",
          "height": 489
        },
        "outputId": "fbde2bd7-d725-40b7-aca4-17f72a50b924"
      },
      "execution_count": 80,
      "outputs": [
        {
          "output_type": "execute_result",
          "data": {
            "text/plain": [
              "Text(0.5, 1.0, 'Regression linéaire ')"
            ]
          },
          "metadata": {},
          "execution_count": 80
        },
        {
          "output_type": "display_data",
          "data": {
            "text/plain": [
              "<Figure size 640x480 with 1 Axes>"
            ],
            "image/png": "[encoded data removed]"
          },
          "metadata": {}
        }
      ]
    },
    {
      "cell_type": "markdown",
      "source": [
        " Estimation de la loi de $\\beta_1$ par Boostrap"
      ],
      "metadata": {
        "id": "ogpKTY0m5dDx"
      }
    },
    {
      "cell_type": "code",
      "source": [
        "np.random.seed(2)\n",
        "# fonction du Bootsrap par paires\n",
        "def bootstrap_pair(X, Y, N, indice):\n",
        "    ech_beta = []\n",
        "    data = pd.DataFrame({'X': X, 'Y': Y})\n",
        "\n",
        "    for i in range(N):\n",
        "        ech_boots = data.sample(n=len(data), replace=True)\n",
        "        X_boot = ech_boots[\"X\"]\n",
        "        Y_boot = ech_boots[\"Y\"]\n",
        "        X_boot = sm.add_constant(X_boot)\n",
        "        model_lr = sm.OLS(Y_boot, X_boot).fit()\n",
        "        ech_beta.append(model_lr.params[indice])\n",
        "\n",
        "    return ech_beta\n",
        "\n",
        "\n",
        "X= np.array(kidiq[\"mom_iq\"])\n",
        "Y= np.array(kidiq[\"kid_score\"])\n",
        "moy_beta_1 = np.mean(bootstrap_pair(X,Y,1000,1))\n",
        "print(moy_beta_1)\n",
        "np.std(bootstrap_pair(X,Y,1000,1))"
      ],
      "metadata": {
        "colab": {
          "base_uri": "https://localhost:8080/"
        },
        "id": "BceYXdGn5fVc",
        "outputId": "1be40858-ea1c-4928-c60f-f297fba00cb8"
      },
      "execution_count": 81,
      "outputs": [
        {
          "output_type": "stream",
          "name": "stdout",
          "text": [
            "0.608274974156682\n"
          ]
        },
        {
          "output_type": "execute_result",
          "data": {
            "text/plain": [
              "0.05543043259879359"
            ]
          },
          "metadata": {},
          "execution_count": 81
        }
      ]
    },
    {
      "cell_type": "markdown",
      "source": [
        "\n",
        "#### Intervalle de Confiance"
      ],
      "metadata": {
        "id": "AE0hQY9D5onb"
      }
    },
    {
      "cell_type": "markdown",
      "source": [
        "##### IC théorique:"
      ],
      "metadata": {
        "id": "dIjeOlWW5qox"
      }
    },
    {
      "cell_type": "code",
      "source": [
        "# IC théorique\n",
        "lr_model = sm.OLS(y, sm.add_constant(x)).fit()\n",
        "confidence_intervals = lr_model.conf_int()\n",
        "print(f\"L'intervalle de confiance de beta_1 est [{confidence_intervals[0][1],confidence_intervals[1][1]}] la longeur est de {confidence_intervals[1][1]-confidence_intervals[0][1]}\")\n",
        "\n",
        "#lr_model.summary()"
      ],
      "metadata": {
        "colab": {
          "base_uri": "https://localhost:8080/"
        },
        "id": "O8z2BDcZ5vns",
        "outputId": "d3cec0b9-ef81-455c-c120-f887aa21872e"
      },
      "execution_count": 82,
      "outputs": [
        {
          "output_type": "stream",
          "name": "stdout",
          "text": [
            "L'intervalle de confiance de beta_1 est [(0.4949534238641568, 0.7249957195974162)] la longeur est de 0.23004229573325935\n"
          ]
        }
      ]
    },
    {
      "cell_type": "markdown",
      "source": [
        "##### IC Bootstrap:"
      ],
      "metadata": {
        "id": "2Py0Qnpn51-9"
      }
    },
    {
      "cell_type": "code",
      "source": [
        "# IC bootstrap\n",
        "def IC_bootstrap(List, alpha):\n",
        "  List = np.sort(List)\n",
        "  b_inf=np.percentile(List,alpha)\n",
        "  b_sup= np.percentile(List, 100-alpha)\n",
        "  IC=[b_inf,b_sup]\n",
        "  return IC\n",
        "ic_boots = IC_bootstrap(bootstrap_pair(X,Y,300,1),5)\n",
        "print(f\"L'intervalle de confiance Bootstrap de beta_1 est {IC_bootstrap(bootstrap_pair(X,Y,1000,1),5)} la longeur est de {ic_boots[1]-ic_boots[0]}\")\n"
      ],
      "metadata": {
        "colab": {
          "base_uri": "https://localhost:8080/"
        },
        "id": "qR9Eant056ta",
        "outputId": "976b9b83-195b-4151-c5a4-91256f5d25a3"
      },
      "execution_count": 83,
      "outputs": [
        {
          "output_type": "stream",
          "name": "stdout",
          "text": [
            "L'intervalle de confiance Bootstrap de beta_1 est [0.5182778314477559, 0.7132794706264548] la longeur est de 0.18873640901322541\n"
          ]
        }
      ]
    },
    {
      "cell_type": "markdown",
      "source": [
        "L'intervalle de confiance Bootstrap à l'air d'être plus précis que lintervalle de confiance théorique."
      ],
      "metadata": {
        "id": "xK0YL_AShQCZ"
      }
    },
    {
      "cell_type": "markdown",
      "source": [
        "### Contre exemple avec un jeu de données simulé:"
      ],
      "metadata": {
        "id": "0OYUnImd62LW"
      }
    },
    {
      "cell_type": "code",
      "source": [
        "# Simulation du jeu de données\n",
        "np.random.seed(3)\n",
        "X = np.random.normal(loc=0, scale=10, size=(150, 140)) #   p variables indépendantes (150 lignes)\n",
        "X = np.hstack((np.ones((X.shape[0], 1)), X))\n",
        "epsilon = np.random.normal(0,1,150)\n",
        "coef= np.random.rand(X.shape[1])\n",
        "\n",
        "Y = np.dot(X, coef) #+ epsilon # Variable dépendante\n",
        "X.shape\n",
        "Y.shape\n",
        "\n",
        "#data=pd.DataFrame(X)\n",
        "#corr_mat = data.corr()\n",
        "beta_1_exact = coef[1]\n",
        "beta_1_exact"
      ],
      "metadata": {
        "id": "fuWoglgV65v1",
        "colab": {
          "base_uri": "https://localhost:8080/"
        },
        "outputId": "234ff619-daa5-419b-fc09-054a212f3e23"
      },
      "execution_count": 84,
      "outputs": [
        {
          "output_type": "execute_result",
          "data": {
            "text/plain": [
              "0.39017643532201995"
            ]
          },
          "metadata": {},
          "execution_count": 84
        }
      ]
    },
    {
      "cell_type": "code",
      "source": [
        "# Régression\n",
        "model= LinearRegression()\n",
        "model.fit(X,Y)\n",
        "beta_0 = model.intercept_\n",
        "beta_1=model.coef_[1]\n",
        "beta_1"
      ],
      "metadata": {
        "id": "wbVs0RkD7CHk",
        "colab": {
          "base_uri": "https://localhost:8080/"
        },
        "outputId": "1b7b44f4-ec0c-4a5c-82e9-88895a32c2e9"
      },
      "execution_count": 85,
      "outputs": [
        {
          "output_type": "execute_result",
          "data": {
            "text/plain": [
              "0.3901764353220145"
            ]
          },
          "metadata": {},
          "execution_count": 85
        }
      ]
    },
    {
      "cell_type": "code",
      "source": [
        "# Fonction bootstrap par paires pour la régression multiple\n",
        "def bootstrap_pair_multiple(X, Y, N, indice):\n",
        "\n",
        "    ech_beta = []\n",
        "    Y=Y.reshape(len(X),1)\n",
        "    data=np.hstack((X,Y))\n",
        "\n",
        "    for i in range(N):\n",
        "        # réechantillonage\n",
        "        indice_ech = np.random.choice(data.shape[0],len(data),replace=True)\n",
        "        echantillons = data[indice_ech]\n",
        "\n",
        "        # extraction de la matrice X et du vecteur Y\n",
        "        X_boot = echantillons[:,:-1]\n",
        "        Y_boot =echantillons[:,-1]\n",
        "\n",
        "        # régression linéaire\n",
        "        X_boot = sm.add_constant(X_boot)\n",
        "        model_lr = sm.OLS(Y_boot, X_boot).fit()\n",
        "        ech_beta.append(model_lr.params[indice])\n",
        "\n",
        "    return ech_beta"
      ],
      "metadata": {
        "id": "hfbH7DD7MfZw"
      },
      "execution_count": 86,
      "outputs": []
    },
    {
      "cell_type": "code",
      "source": [
        "# simulations des échantillons bootstrap\n",
        "ech_beta_0=bootstrap_pair_multiple(X,Y,1000,0)\n",
        "np.mean(ech_beta_0)\n",
        "ech_beta_1=bootstrap_pair_multiple(X,Y,1000,1)\n",
        "np.mean(ech_beta_1)"
      ],
      "metadata": {
        "id": "2Q0tcI7W7QR9",
        "colab": {
          "base_uri": "https://localhost:8080/"
        },
        "outputId": "695eee3f-33df-49e5-a8d6-d25c7bb1c6b1"
      },
      "execution_count": 87,
      "outputs": [
        {
          "output_type": "execute_result",
          "data": {
            "text/plain": [
              "0.44602380695125854"
            ]
          },
          "metadata": {},
          "execution_count": 87
        }
      ]
    },
    {
      "cell_type": "markdown",
      "source": [
        "##### Intervalle de Confiance"
      ],
      "metadata": {
        "id": "8tSVP5lx7TSN"
      }
    },
    {
      "cell_type": "markdown",
      "source": [
        "##### IC bootstrap:"
      ],
      "metadata": {
        "id": "AhDfCJye9XJw"
      }
    },
    {
      "cell_type": "code",
      "source": [
        "IC_bootstrap(ech_beta_1,45)"
      ],
      "metadata": {
        "colab": {
          "base_uri": "https://localhost:8080/"
        },
        "id": "6j-EK75h3WXZ",
        "outputId": "159b1439-ad8c-4153-9e10-8c380d06d53e"
      },
      "execution_count": 88,
      "outputs": [
        {
          "output_type": "execute_result",
          "data": {
            "text/plain": [
              "[0.4210905116642548, 0.4725328972266625]"
            ]
          },
          "metadata": {},
          "execution_count": 88
        }
      ]
    },
    {
      "cell_type": "code",
      "source": [
        "# Vérification de l'IC bootstrap\n",
        "nombre_ech = 100\n",
        "n = 100\n",
        "nbr3 = 0\n",
        "for i in range(nombre_ech):\n",
        "  ech_b1=[]\n",
        "  Y=Y.reshape(len(X),1)\n",
        "  data=np.hstack((X,Y))\n",
        "  IC_b=[]\n",
        "  for j in range(n):\n",
        "        # réechantillonage\n",
        "        indice_ech = np.random.choice(data.shape[0],len(data),replace=True)\n",
        "        echantillons = data[indice_ech]\n",
        "\n",
        "        # extraction de la matrice X et du vecteur Y\n",
        "        X_boot = echantillons[:,:-1]\n",
        "        Y_boot =echantillons[:,-1]\n",
        "\n",
        "        # régression linéaire\n",
        "        X_boot = sm.add_constant(X_boot)\n",
        "        model_lr = sm.OLS(Y_boot, X_boot).fit()\n",
        "        ech_b1.append(model_lr.params[1])\n",
        "\n",
        "  IC_b=IC_bootstrap(ech_b1,45)\n",
        "\n",
        "  if IC_b[0] < beta_1_exact < IC_b[1]:\n",
        "    nbr3 = nbr3 + 1\n",
        "\n",
        "\n",
        "print(f\" le paramètre tombe dans l'IC_boots dans {100*nbr3/nombre_ech} % des cas\")"
      ],
      "metadata": {
        "colab": {
          "base_uri": "https://localhost:8080/"
        },
        "id": "K34SMA7V3vGM",
        "outputId": "d8d0953c-744d-4d63-98a6-20051a46aa3b"
      },
      "execution_count": 89,
      "outputs": [
        {
          "output_type": "stream",
          "name": "stdout",
          "text": [
            " le paramètre tombe dans l'IC_boots dans 12.0 % des cas\n"
          ]
        }
      ]
    },
    {
      "cell_type": "markdown",
      "source": [
        "Plus on augmente le nombre de covariables moins est la précision de la méthode (Intervalle de confiance Bootstrap)."
      ],
      "metadata": {
        "id": "RCVXkPwVg7Q6"
      }
    },
    {
      "cell_type": "markdown",
      "source": [
        "IC théorique"
      ],
      "metadata": {
        "id": "n_HhqXP63rcy"
      }
    },
    {
      "cell_type": "code",
      "source": [
        "# IC théorique\n",
        "\n",
        "lr_model = sm.OLS(Y, sm.add_constant(X)).fit()\n",
        "confidence_intervals = lr_model.conf_int()\n",
        "print(f\"L'intervalle de confiance de beta_1 est {confidence_intervals[1]}\")\n",
        "print(f\" l'Amplitude est de {confidence_intervals[1][1]-confidence_intervals[1][0]}\")"
      ],
      "metadata": {
        "id": "y9z5pWx-3Ixs",
        "colab": {
          "base_uri": "https://localhost:8080/"
        },
        "outputId": "e4faf0e2-03a5-4b29-a09d-098dc622c9b8"
      },
      "execution_count": 90,
      "outputs": [
        {
          "output_type": "stream",
          "name": "stdout",
          "text": [
            "L'intervalle de confiance de beta_1 est [0.39017644 0.39017644]\n",
            " l'Amplitude est de 1.0702549957386509e-13\n"
          ]
        }
      ]
    },
    {
      "cell_type": "markdown",
      "metadata": {
        "id": "g1Ut3PoQ6Af7"
      },
      "source": [
        "# Partie 3 :"
      ]
    },
    {
      "cell_type": "markdown",
      "source": [
        "## Bootsrap paramétrique"
      ],
      "metadata": {
        "id": "7DQMssmZz8tR"
      }
    },
    {
      "cell_type": "markdown",
      "source": [
        "Le bootstrap paramétrique est une méthode où les échantillons bootstrap ne sont pas obtenus par tirage à partir des données originales, mais simulés à partir du modèle paramétrique ajusté aux données. . Elle s’applique lorsqu’on peut supposer que les données proviennent d’une distribution précise, mais qu’on ne connait pas la distribution de la statistique qui nous intéresse."
      ],
      "metadata": {
        "id": "mstfjOlpz2ZE"
      }
    },
    {
      "cell_type": "markdown",
      "metadata": {
        "id": "UEhHheiK6Ij4"
      },
      "source": [
        "l'application du principe de boostrap parametrique sur la regression en utilsante la loi normal"
      ]
    },
    {
      "cell_type": "code",
      "execution_count": null,
      "metadata": {
        "id": "f-Aoiz1u2yXV",
        "colab": {
          "base_uri": "https://localhost:8080/",
          "height": 206
        },
        "outputId": "f192cf57-b92f-4957-880e-2873ef9b971d"
      },
      "outputs": [
        {
          "output_type": "execute_result",
          "data": {
            "text/plain": [
              "   kid_score  mom_hs      mom_iq  mom_work  mom_age\n",
              "0         65       1  121.117529         4       27\n",
              "1         98       1   89.361882         4       25\n",
              "2         85       1  115.443165         4       27\n",
              "3         83       1   99.449639         3       25\n",
              "4        115       1   92.745710         4       27"
            ],
            "text/html": [
              "\n",
              "  <div id=\"df-d0981eff-b558-45e3-a91f-cda6a79c2796\" class=\"colab-df-container\">\n",
              "    <div>\n",
              "<style scoped>\n",
              "    .dataframe tbody tr th:only-of-type {\n",
              "        vertical-align: middle;\n",
              "    }\n",
              "\n",
              "    .dataframe tbody tr th {\n",
              "        vertical-align: top;\n",
              "    }\n",
              "\n",
              "    .dataframe thead th {\n",
              "        text-align: right;\n",
              "    }\n",
              "</style>\n",
              "<table border=\"1\" class=\"dataframe\">\n",
              "  <thead>\n",
              "    <tr style=\"text-align: right;\">\n",
              "      <th></th>\n",
              "      <th>kid_score</th>\n",
              "      <th>mom_hs</th>\n",
              "      <th>mom_iq</th>\n",
              "      <th>mom_work</th>\n",
              "      <th>mom_age</th>\n",
              "    </tr>\n",
              "  </thead>\n",
              "  <tbody>\n",
              "    <tr>\n",
              "      <th>0</th>\n",
              "      <td>65</td>\n",
              "      <td>1</td>\n",
              "      <td>121.117529</td>\n",
              "      <td>4</td>\n",
              "      <td>27</td>\n",
              "    </tr>\n",
              "    <tr>\n",
              "      <th>1</th>\n",
              "      <td>98</td>\n",
              "      <td>1</td>\n",
              "      <td>89.361882</td>\n",
              "      <td>4</td>\n",
              "      <td>25</td>\n",
              "    </tr>\n",
              "    <tr>\n",
              "      <th>2</th>\n",
              "      <td>85</td>\n",
              "      <td>1</td>\n",
              "      <td>115.443165</td>\n",
              "      <td>4</td>\n",
              "      <td>27</td>\n",
              "    </tr>\n",
              "    <tr>\n",
              "      <th>3</th>\n",
              "      <td>83</td>\n",
              "      <td>1</td>\n",
              "      <td>99.449639</td>\n",
              "      <td>3</td>\n",
              "      <td>25</td>\n",
              "    </tr>\n",
              "    <tr>\n",
              "      <th>4</th>\n",
              "      <td>115</td>\n",
              "      <td>1</td>\n",
              "      <td>92.745710</td>\n",
              "      <td>4</td>\n",
              "      <td>27</td>\n",
              "    </tr>\n",
              "  </tbody>\n",
              "</table>\n",
              "</div>\n",
              "    <div class=\"colab-df-buttons\">\n",
              "\n",
              "  <div class=\"colab-df-container\">\n",
              "    <button class=\"colab-df-convert\" onclick=\"convertToInteractive('df-d0981eff-b558-45e3-a91f-cda6a79c2796')\"\n",
              "            title=\"Convert this dataframe to an interactive table.\"\n",
              "            style=\"display:none;\">\n",
              "\n",
              "  <svg xmlns=\"http://www.w3.org/2000/svg\" height=\"24px\" viewBox=\"0 -960 960 960\">\n",
              "    <path d=\"M120-120v-720h720v720H120Zm60-500h600v-160H180v160Zm220 220h160v-160H400v160Zm0 220h160v-160H400v160ZM180-400h160v-160H180v160Zm440 0h160v-160H620v160ZM180-180h160v-160H180v160Zm440 0h160v-160H620v160Z\"/>\n",
              "  </svg>\n",
              "    </button>\n",
              "\n",
              "  <style>\n",
              "    .colab-df-container {\n",
              "      display:flex;\n",
              "      gap: 12px;\n",
              "    }\n",
              "\n",
              "    .colab-df-convert {\n",
              "      background-color: #E8F0FE;\n",
              "      border: none;\n",
              "      border-radius: 50%;\n",
              "      cursor: pointer;\n",
              "      display: none;\n",
              "      fill: #1967D2;\n",
              "      height: 32px;\n",
              "      padding: 0 0 0 0;\n",
              "      width: 32px;\n",
              "    }\n",
              "\n",
              "    .colab-df-convert:hover {\n",
              "      background-color: #E2EBFA;\n",
              "      box-shadow: 0px 1px 2px rgba(60, 64, 67, 0.3), 0px 1px 3px 1px rgba(60, 64, 67, 0.15);\n",
              "      fill: #174EA6;\n",
              "    }\n",
              "\n",
              "    .colab-df-buttons div {\n",
              "      margin-bottom: 4px;\n",
              "    }\n",
              "\n",
              "    [theme=dark] .colab-df-convert {\n",
              "      background-color: #3B4455;\n",
              "      fill: #D2E3FC;\n",
              "    }\n",
              "\n",
              "    [theme=dark] .colab-df-convert:hover {\n",
              "      background-color: #434B5C;\n",
              "      box-shadow: 0px 1px 3px 1px rgba(0, 0, 0, 0.15);\n",
              "      filter: drop-shadow(0px 1px 2px rgba(0, 0, 0, 0.3));\n",
              "      fill: #FFFFFF;\n",
              "    }\n",
              "  </style>\n",
              "\n",
              "    <script>\n",
              "      const buttonEl =\n",
              "        document.querySelector('#df-d0981eff-b558-45e3-a91f-cda6a79c2796 button.colab-df-convert');\n",
              "      buttonEl.style.display =\n",
              "        google.colab.kernel.accessAllowed ? 'block' : 'none';\n",
              "\n",
              "      async function convertToInteractive(key) {\n",
              "        const element = document.querySelector('#df-d0981eff-b558-45e3-a91f-cda6a79c2796');\n",
              "        const dataTable =\n",
              "          await google.colab.kernel.invokeFunction('convertToInteractive',\n",
              "                                                    [key], {});\n",
              "        if (!dataTable) return;\n",
              "\n",
              "        const docLinkHtml = 'Like what you see? Visit the ' +\n",
              "          '<a target=\"_blank\" href=https://colab.research.google.com/notebooks/data_table.ipynb>data table notebook</a>'\n",
              "          + ' to learn more about interactive tables.';\n",
              "        element.innerHTML = '';\n",
              "        dataTable['output_type'] = 'display_data';\n",
              "        await google.colab.output.renderOutput(dataTable, element);\n",
              "        const docLink = document.createElement('div');\n",
              "        docLink.innerHTML = docLinkHtml;\n",
              "        element.appendChild(docLink);\n",
              "      }\n",
              "    </script>\n",
              "  </div>\n",
              "\n",
              "\n",
              "<div id=\"df-3d15d929-ca5e-4f4c-bf14-4a15ec7d2f1e\">\n",
              "  <button class=\"colab-df-quickchart\" onclick=\"quickchart('df-3d15d929-ca5e-4f4c-bf14-4a15ec7d2f1e')\"\n",
              "            title=\"Suggest charts\"\n",
              "            style=\"display:none;\">\n",
              "\n",
              "<svg xmlns=\"http://www.w3.org/2000/svg\" height=\"24px\"viewBox=\"0 0 24 24\"\n",
              "     width=\"24px\">\n",
              "    <g>\n",
              "        <path d=\"M19 3H5c-1.1 0-2 .9-2 2v14c0 1.1.9 2 2 2h14c1.1 0 2-.9 2-2V5c0-1.1-.9-2-2-2zM9 17H7v-7h2v7zm4 0h-2V7h2v10zm4 0h-2v-4h2v4z\"/>\n",
              "    </g>\n",
              "</svg>\n",
              "  </button>\n",
              "\n",
              "<style>\n",
              "  .colab-df-quickchart {\n",
              "      --bg-color: #E8F0FE;\n",
              "      --fill-color: #1967D2;\n",
              "      --hover-bg-color: #E2EBFA;\n",
              "      --hover-fill-color: #174EA6;\n",
              "      --disabled-fill-color: #AAA;\n",
              "      --disabled-bg-color: #DDD;\n",
              "  }\n",
              "\n",
              "  [theme=dark] .colab-df-quickchart {\n",
              "      --bg-color: #3B4455;\n",
              "      --fill-color: #D2E3FC;\n",
              "      --hover-bg-color: #434B5C;\n",
              "      --hover-fill-color: #FFFFFF;\n",
              "      --disabled-bg-color: #3B4455;\n",
              "      --disabled-fill-color: #666;\n",
              "  }\n",
              "\n",
              "  .colab-df-quickchart {\n",
              "    background-color: var(--bg-color);\n",
              "    border: none;\n",
              "    border-radius: 50%;\n",
              "    cursor: pointer;\n",
              "    display: none;\n",
              "    fill: var(--fill-color);\n",
              "    height: 32px;\n",
              "    padding: 0;\n",
              "    width: 32px;\n",
              "  }\n",
              "\n",
              "  .colab-df-quickchart:hover {\n",
              "    background-color: var(--hover-bg-color);\n",
              "    box-shadow: 0 1px 2px rgba(60, 64, 67, 0.3), 0 1px 3px 1px rgba(60, 64, 67, 0.15);\n",
              "    fill: var(--button-hover-fill-color);\n",
              "  }\n",
              "\n",
              "  .colab-df-quickchart-complete:disabled,\n",
              "  .colab-df-quickchart-complete:disabled:hover {\n",
              "    background-color: var(--disabled-bg-color);\n",
              "    fill: var(--disabled-fill-color);\n",
              "    box-shadow: none;\n",
              "  }\n",
              "\n",
              "  .colab-df-spinner {\n",
              "    border: 2px solid var(--fill-color);\n",
              "    border-color: transparent;\n",
              "    border-bottom-color: var(--fill-color);\n",
              "    animation:\n",
              "      spin 1s steps(1) infinite;\n",
              "  }\n",
              "\n",
              "  @keyframes spin {\n",
              "    0% {\n",
              "      border-color: transparent;\n",
              "      border-bottom-color: var(--fill-color);\n",
              "      border-left-color: var(--fill-color);\n",
              "    }\n",
              "    20% {\n",
              "      border-color: transparent;\n",
              "      border-left-color: var(--fill-color);\n",
              "      border-top-color: var(--fill-color);\n",
              "    }\n",
              "    30% {\n",
              "      border-color: transparent;\n",
              "      border-left-color: var(--fill-color);\n",
              "      border-top-color: var(--fill-color);\n",
              "      border-right-color: var(--fill-color);\n",
              "    }\n",
              "    40% {\n",
              "      border-color: transparent;\n",
              "      border-right-color: var(--fill-color);\n",
              "      border-top-color: var(--fill-color);\n",
              "    }\n",
              "    60% {\n",
              "      border-color: transparent;\n",
              "      border-right-color: var(--fill-color);\n",
              "    }\n",
              "    80% {\n",
              "      border-color: transparent;\n",
              "      border-right-color: var(--fill-color);\n",
              "      border-bottom-color: var(--fill-color);\n",
              "    }\n",
              "    90% {\n",
              "      border-color: transparent;\n",
              "      border-bottom-color: var(--fill-color);\n",
              "    }\n",
              "  }\n",
              "</style>\n",
              "\n",
              "  <script>\n",
              "    async function quickchart(key) {\n",
              "      const quickchartButtonEl =\n",
              "        document.querySelector('#' + key + ' button');\n",
              "      quickchartButtonEl.disabled = true;  // To prevent multiple clicks.\n",
              "      quickchartButtonEl.classList.add('colab-df-spinner');\n",
              "      try {\n",
              "        const charts = await google.colab.kernel.invokeFunction(\n",
              "            'suggestCharts', [key], {});\n",
              "      } catch (error) {\n",
              "        console.error('Error during call to suggestCharts:', error);\n",
              "      }\n",
              "      quickchartButtonEl.classList.remove('colab-df-spinner');\n",
              "      quickchartButtonEl.classList.add('colab-df-quickchart-complete');\n",
              "    }\n",
              "    (() => {\n",
              "      let quickchartButtonEl =\n",
              "        document.querySelector('#df-3d15d929-ca5e-4f4c-bf14-4a15ec7d2f1e button');\n",
              "      quickchartButtonEl.style.display =\n",
              "        google.colab.kernel.accessAllowed ? 'block' : 'none';\n",
              "    })();\n",
              "  </script>\n",
              "</div>\n",
              "    </div>\n",
              "  </div>\n"
            ],
            "application/vnd.google.colaboratory.intrinsic+json": {
              "type": "dataframe",
              "variable_name": "kidiq",
              "summary": "{\n  \"name\": \"kidiq\",\n  \"rows\": 434,\n  \"fields\": [\n    {\n      \"column\": \"kid_score\",\n      \"properties\": {\n        \"dtype\": \"number\",\n        \"std\": 20,\n        \"min\": 20,\n        \"max\": 144,\n        \"num_unique_values\": 85,\n        \"samples\": [\n          44,\n          65,\n          74\n        ],\n        \"semantic_type\": \"\",\n        \"description\": \"\"\n      }\n    },\n    {\n      \"column\": \"mom_hs\",\n      \"properties\": {\n        \"dtype\": \"number\",\n        \"std\": 0,\n        \"min\": 0,\n        \"max\": 1,\n        \"num_unique_values\": 2,\n        \"samples\": [\n          0,\n          1\n        ],\n        \"semantic_type\": \"\",\n        \"description\": \"\"\n      }\n    },\n    {\n      \"column\": \"mom_iq\",\n      \"properties\": {\n        \"dtype\": \"number\",\n        \"std\": 14.999999999999986,\n        \"min\": 71.037405135663,\n        \"max\": 138.893106071162,\n        \"num_unique_values\": 332,\n        \"samples\": [\n          121.748013460479,\n          88.6909811561733\n        ],\n        \"semantic_type\": \"\",\n        \"description\": \"\"\n      }\n    },\n    {\n      \"column\": \"mom_work\",\n      \"properties\": {\n        \"dtype\": \"number\",\n        \"std\": 1,\n        \"min\": 1,\n        \"max\": 4,\n        \"num_unique_values\": 4,\n        \"samples\": [\n          3,\n          2\n        ],\n        \"semantic_type\": \"\",\n        \"description\": \"\"\n      }\n    },\n    {\n      \"column\": \"mom_age\",\n      \"properties\": {\n        \"dtype\": \"number\",\n        \"std\": 2,\n        \"min\": 17,\n        \"max\": 29,\n        \"num_unique_values\": 13,\n        \"samples\": [\n          28,\n          21\n        ],\n        \"semantic_type\": \"\",\n        \"description\": \"\"\n      }\n    }\n  ]\n}"
            }
          },
          "metadata": {},
          "execution_count": 53
        }
      ],
      "source": [
        "# Importation de la table\n",
        "kidiq = pd.read_csv(\"kidiq.csv\")\n",
        "kidiq.head()\n"
      ]
    },
    {
      "cell_type": "code",
      "execution_count": null,
      "metadata": {
        "id": "lzop94EW6Xg-",
        "colab": {
          "base_uri": "https://localhost:8080/"
        },
        "outputId": "6d9cfcf7-e050-44c0-f10d-a6c64d9d7f25"
      },
      "outputs": [
        {
          "output_type": "execute_result",
          "data": {
            "text/plain": [
              "[const      70.956921\n",
              " mom_age     0.695186\n",
              " dtype: float64]"
            ]
          },
          "metadata": {},
          "execution_count": 54
        }
      ],
      "source": [
        "X = kidiq['mom_age']\n",
        "Y = kidiq['kid_score']\n",
        "W =[]\n",
        "\n",
        "X0= sm.add_constant(X)\n",
        "model1 = sm.OLS(Y, X0).fit()\n",
        "W.append(model1.params)\n",
        "W"
      ]
    },
    {
      "cell_type": "code",
      "execution_count": null,
      "metadata": {
        "id": "e8OpzL1BAM4Z",
        "colab": {
          "base_uri": "https://localhost:8080/",
          "height": 112
        },
        "outputId": "d327a7e3-e02a-4c57-a55c-3b2514fc628f"
      },
      "outputs": [
        {
          "output_type": "execute_result",
          "data": {
            "text/plain": [
              "                 0          1\n",
              "const    54.630660  87.283182\n",
              "mom_age  -0.016356   1.406729"
            ],
            "text/html": [
              "\n",
              "  <div id=\"df-d1f182f5-f819-4e0a-a739-8d1149f4570e\" class=\"colab-df-container\">\n",
              "    <div>\n",
              "<style scoped>\n",
              "    .dataframe tbody tr th:only-of-type {\n",
              "        vertical-align: middle;\n",
              "    }\n",
              "\n",
              "    .dataframe tbody tr th {\n",
              "        vertical-align: top;\n",
              "    }\n",
              "\n",
              "    .dataframe thead th {\n",
              "        text-align: right;\n",
              "    }\n",
              "</style>\n",
              "<table border=\"1\" class=\"dataframe\">\n",
              "  <thead>\n",
              "    <tr style=\"text-align: right;\">\n",
              "      <th></th>\n",
              "      <th>0</th>\n",
              "      <th>1</th>\n",
              "    </tr>\n",
              "  </thead>\n",
              "  <tbody>\n",
              "    <tr>\n",
              "      <th>const</th>\n",
              "      <td>54.630660</td>\n",
              "      <td>87.283182</td>\n",
              "    </tr>\n",
              "    <tr>\n",
              "      <th>mom_age</th>\n",
              "      <td>-0.016356</td>\n",
              "      <td>1.406729</td>\n",
              "    </tr>\n",
              "  </tbody>\n",
              "</table>\n",
              "</div>\n",
              "    <div class=\"colab-df-buttons\">\n",
              "\n",
              "  <div class=\"colab-df-container\">\n",
              "    <button class=\"colab-df-convert\" onclick=\"convertToInteractive('df-d1f182f5-f819-4e0a-a739-8d1149f4570e')\"\n",
              "            title=\"Convert this dataframe to an interactive table.\"\n",
              "            style=\"display:none;\">\n",
              "\n",
              "  <svg xmlns=\"http://www.w3.org/2000/svg\" height=\"24px\" viewBox=\"0 -960 960 960\">\n",
              "    <path d=\"M120-120v-720h720v720H120Zm60-500h600v-160H180v160Zm220 220h160v-160H400v160Zm0 220h160v-160H400v160ZM180-400h160v-160H180v160Zm440 0h160v-160H620v160ZM180-180h160v-160H180v160Zm440 0h160v-160H620v160Z\"/>\n",
              "  </svg>\n",
              "    </button>\n",
              "\n",
              "  <style>\n",
              "    .colab-df-container {\n",
              "      display:flex;\n",
              "      gap: 12px;\n",
              "    }\n",
              "\n",
              "    .colab-df-convert {\n",
              "      background-color: #E8F0FE;\n",
              "      border: none;\n",
              "      border-radius: 50%;\n",
              "      cursor: pointer;\n",
              "      display: none;\n",
              "      fill: #1967D2;\n",
              "      height: 32px;\n",
              "      padding: 0 0 0 0;\n",
              "      width: 32px;\n",
              "    }\n",
              "\n",
              "    .colab-df-convert:hover {\n",
              "      background-color: #E2EBFA;\n",
              "      box-shadow: 0px 1px 2px rgba(60, 64, 67, 0.3), 0px 1px 3px 1px rgba(60, 64, 67, 0.15);\n",
              "      fill: #174EA6;\n",
              "    }\n",
              "\n",
              "    .colab-df-buttons div {\n",
              "      margin-bottom: 4px;\n",
              "    }\n",
              "\n",
              "    [theme=dark] .colab-df-convert {\n",
              "      background-color: #3B4455;\n",
              "      fill: #D2E3FC;\n",
              "    }\n",
              "\n",
              "    [theme=dark] .colab-df-convert:hover {\n",
              "      background-color: #434B5C;\n",
              "      box-shadow: 0px 1px 3px 1px rgba(0, 0, 0, 0.15);\n",
              "      filter: drop-shadow(0px 1px 2px rgba(0, 0, 0, 0.3));\n",
              "      fill: #FFFFFF;\n",
              "    }\n",
              "  </style>\n",
              "\n",
              "    <script>\n",
              "      const buttonEl =\n",
              "        document.querySelector('#df-d1f182f5-f819-4e0a-a739-8d1149f4570e button.colab-df-convert');\n",
              "      buttonEl.style.display =\n",
              "        google.colab.kernel.accessAllowed ? 'block' : 'none';\n",
              "\n",
              "      async function convertToInteractive(key) {\n",
              "        const element = document.querySelector('#df-d1f182f5-f819-4e0a-a739-8d1149f4570e');\n",
              "        const dataTable =\n",
              "          await google.colab.kernel.invokeFunction('convertToInteractive',\n",
              "                                                    [key], {});\n",
              "        if (!dataTable) return;\n",
              "\n",
              "        const docLinkHtml = 'Like what you see? Visit the ' +\n",
              "          '<a target=\"_blank\" href=https://colab.research.google.com/notebooks/data_table.ipynb>data table notebook</a>'\n",
              "          + ' to learn more about interactive tables.';\n",
              "        element.innerHTML = '';\n",
              "        dataTable['output_type'] = 'display_data';\n",
              "        await google.colab.output.renderOutput(dataTable, element);\n",
              "        const docLink = document.createElement('div');\n",
              "        docLink.innerHTML = docLinkHtml;\n",
              "        element.appendChild(docLink);\n",
              "      }\n",
              "    </script>\n",
              "  </div>\n",
              "\n",
              "\n",
              "<div id=\"df-5d9518d0-1291-4595-aa9e-9c0b511748e2\">\n",
              "  <button class=\"colab-df-quickchart\" onclick=\"quickchart('df-5d9518d0-1291-4595-aa9e-9c0b511748e2')\"\n",
              "            title=\"Suggest charts\"\n",
              "            style=\"display:none;\">\n",
              "\n",
              "<svg xmlns=\"http://www.w3.org/2000/svg\" height=\"24px\"viewBox=\"0 0 24 24\"\n",
              "     width=\"24px\">\n",
              "    <g>\n",
              "        <path d=\"M19 3H5c-1.1 0-2 .9-2 2v14c0 1.1.9 2 2 2h14c1.1 0 2-.9 2-2V5c0-1.1-.9-2-2-2zM9 17H7v-7h2v7zm4 0h-2V7h2v10zm4 0h-2v-4h2v4z\"/>\n",
              "    </g>\n",
              "</svg>\n",
              "  </button>\n",
              "\n",
              "<style>\n",
              "  .colab-df-quickchart {\n",
              "      --bg-color: #E8F0FE;\n",
              "      --fill-color: #1967D2;\n",
              "      --hover-bg-color: #E2EBFA;\n",
              "      --hover-fill-color: #174EA6;\n",
              "      --disabled-fill-color: #AAA;\n",
              "      --disabled-bg-color: #DDD;\n",
              "  }\n",
              "\n",
              "  [theme=dark] .colab-df-quickchart {\n",
              "      --bg-color: #3B4455;\n",
              "      --fill-color: #D2E3FC;\n",
              "      --hover-bg-color: #434B5C;\n",
              "      --hover-fill-color: #FFFFFF;\n",
              "      --disabled-bg-color: #3B4455;\n",
              "      --disabled-fill-color: #666;\n",
              "  }\n",
              "\n",
              "  .colab-df-quickchart {\n",
              "    background-color: var(--bg-color);\n",
              "    border: none;\n",
              "    border-radius: 50%;\n",
              "    cursor: pointer;\n",
              "    display: none;\n",
              "    fill: var(--fill-color);\n",
              "    height: 32px;\n",
              "    padding: 0;\n",
              "    width: 32px;\n",
              "  }\n",
              "\n",
              "  .colab-df-quickchart:hover {\n",
              "    background-color: var(--hover-bg-color);\n",
              "    box-shadow: 0 1px 2px rgba(60, 64, 67, 0.3), 0 1px 3px 1px rgba(60, 64, 67, 0.15);\n",
              "    fill: var(--button-hover-fill-color);\n",
              "  }\n",
              "\n",
              "  .colab-df-quickchart-complete:disabled,\n",
              "  .colab-df-quickchart-complete:disabled:hover {\n",
              "    background-color: var(--disabled-bg-color);\n",
              "    fill: var(--disabled-fill-color);\n",
              "    box-shadow: none;\n",
              "  }\n",
              "\n",
              "  .colab-df-spinner {\n",
              "    border: 2px solid var(--fill-color);\n",
              "    border-color: transparent;\n",
              "    border-bottom-color: var(--fill-color);\n",
              "    animation:\n",
              "      spin 1s steps(1) infinite;\n",
              "  }\n",
              "\n",
              "  @keyframes spin {\n",
              "    0% {\n",
              "      border-color: transparent;\n",
              "      border-bottom-color: var(--fill-color);\n",
              "      border-left-color: var(--fill-color);\n",
              "    }\n",
              "    20% {\n",
              "      border-color: transparent;\n",
              "      border-left-color: var(--fill-color);\n",
              "      border-top-color: var(--fill-color);\n",
              "    }\n",
              "    30% {\n",
              "      border-color: transparent;\n",
              "      border-left-color: var(--fill-color);\n",
              "      border-top-color: var(--fill-color);\n",
              "      border-right-color: var(--fill-color);\n",
              "    }\n",
              "    40% {\n",
              "      border-color: transparent;\n",
              "      border-right-color: var(--fill-color);\n",
              "      border-top-color: var(--fill-color);\n",
              "    }\n",
              "    60% {\n",
              "      border-color: transparent;\n",
              "      border-right-color: var(--fill-color);\n",
              "    }\n",
              "    80% {\n",
              "      border-color: transparent;\n",
              "      border-right-color: var(--fill-color);\n",
              "      border-bottom-color: var(--fill-color);\n",
              "    }\n",
              "    90% {\n",
              "      border-color: transparent;\n",
              "      border-bottom-color: var(--fill-color);\n",
              "    }\n",
              "  }\n",
              "</style>\n",
              "\n",
              "  <script>\n",
              "    async function quickchart(key) {\n",
              "      const quickchartButtonEl =\n",
              "        document.querySelector('#' + key + ' button');\n",
              "      quickchartButtonEl.disabled = true;  // To prevent multiple clicks.\n",
              "      quickchartButtonEl.classList.add('colab-df-spinner');\n",
              "      try {\n",
              "        const charts = await google.colab.kernel.invokeFunction(\n",
              "            'suggestCharts', [key], {});\n",
              "      } catch (error) {\n",
              "        console.error('Error during call to suggestCharts:', error);\n",
              "      }\n",
              "      quickchartButtonEl.classList.remove('colab-df-spinner');\n",
              "      quickchartButtonEl.classList.add('colab-df-quickchart-complete');\n",
              "    }\n",
              "    (() => {\n",
              "      let quickchartButtonEl =\n",
              "        document.querySelector('#df-5d9518d0-1291-4595-aa9e-9c0b511748e2 button');\n",
              "      quickchartButtonEl.style.display =\n",
              "        google.colab.kernel.accessAllowed ? 'block' : 'none';\n",
              "    })();\n",
              "  </script>\n",
              "</div>\n",
              "    </div>\n",
              "  </div>\n"
            ],
            "application/vnd.google.colaboratory.intrinsic+json": {
              "type": "dataframe",
              "variable_name": "I_confiance",
              "summary": "{\n  \"name\": \"I_confiance\",\n  \"rows\": 2,\n  \"fields\": [\n    {\n      \"column\": 0,\n      \"properties\": {\n        \"dtype\": \"number\",\n        \"std\": 38.64127568533372,\n        \"min\": -0.01635631714584085,\n        \"max\": 54.63065982445082,\n        \"num_unique_values\": 2,\n        \"samples\": [\n          -0.01635631714584085,\n          54.63065982445082\n        ],\n        \"semantic_type\": \"\",\n        \"description\": \"\"\n      }\n    },\n    {\n      \"column\": 1,\n      \"properties\": {\n        \"dtype\": \"number\",\n        \"std\": 60.723822486708876,\n        \"min\": 1.4067287140979348,\n        \"max\": 87.28318203393795,\n        \"num_unique_values\": 2,\n        \"samples\": [\n          1.4067287140979348,\n          87.28318203393795\n        ],\n        \"semantic_type\": \"\",\n        \"description\": \"\"\n      }\n    }\n  ]\n}"
            }
          },
          "metadata": {},
          "execution_count": 55
        }
      ],
      "source": [
        "X0= sm.add_constant(X)\n",
        "model1 = sm.OLS(Y, X0).fit()\n",
        "W.append(model1.params)\n",
        "W\n",
        "\n",
        "# calculuer les intervales de confiance des parametres\n",
        "I_confiance= model1.conf_int()\n",
        "I_confiance\n",
        "\n"
      ]
    },
    {
      "cell_type": "markdown",
      "source": [
        "Calcul des résidus : Nous calculons les résidus du modèle, qui sont les différences entre les valeurs observées de la variable dépendante et les valeurs prédites par le modèle pour ces mêmes observations puis  nous traçons un histogramme des résidus pour visualiser leur distribution. Une distribution approximativement normale des résidus est une hypothèse importante de nombreux modèles de régression linéaire."
      ],
      "metadata": {
        "id": "EchwF8wX19Qh"
      }
    },
    {
      "cell_type": "code",
      "execution_count": null,
      "metadata": {
        "id": "oMbqJlMvBOp7",
        "colab": {
          "base_uri": "https://localhost:8080/",
          "height": 472
        },
        "outputId": "b1ed6396-bdc6-421f-b4eb-b9bfe31db8f4"
      },
      "outputs": [
        {
          "output_type": "display_data",
          "data": {
            "text/plain": [
              "<Figure size 640x480 with 1 Axes>"
            ],
            "image/png": "[encoded data removed]"
          },
          "metadata": {}
        }
      ],
      "source": [
        "# calculent les résidus du modèle en soustrayant les\n",
        "#valeurs observées de la variable cible aux valeurs prédites par le modèle.\n",
        "resid = model1.resid\n",
        "residus = np.array(resid)\n",
        "plt.hist(residus, bins=200, edgecolor='green')\n",
        "# Affichage de l'histogramme des résidus\n",
        "sns.histplot(residus, kde=True, color='skyblue')\n",
        "plt.title('Distribution des résidus')\n",
        "plt.xlabel('Résidus')\n",
        "plt.ylabel('Fréquence')\n",
        "plt.grid(True)\n",
        "plt.show()"
      ]
    },
    {
      "cell_type": "code",
      "source": [
        "import pandas as pd\n",
        "import matplotlib.pyplot as plt\n",
        "import seaborn as sns\n",
        "import statsmodels.api as sm\n",
        "from sklearn.linear_model import LinearRegression\n",
        "import numpy as np\n",
        "from scipy.stats import t\n",
        "import scipy.stats as stats\n",
        "\n",
        "n = len(residus)\n",
        "residuals = stats.t.rvs(df=n-1, size=n)\n",
        "\n",
        "# Normalisation des rÃ©sidus\n",
        "residus_n = (residuals - np.mean(residuals)) / np.std(residuals)\n",
        "\n",
        "# TracÃ© de l'histogramme avec la KDE\n",
        "sns.histplot(residus_n, kde=True, color='skyblue', edgecolor='black')\n",
        "plt.xlabel('RÃ©sidus normalisÃ©s (loi de Student)')\n",
        "plt.ylabel('FrÃ©quence')\n",
        "plt.title('Histogramme des rÃ©sidus normalisÃ©s (loi de Student) avec KDE')\n",
        "plt.grid(True)\n",
        "plt.show()"
      ],
      "metadata": {
        "colab": {
          "base_uri": "https://localhost:8080/",
          "height": 475
        },
        "id": "UxFeecdOJ-Zh",
        "outputId": "fe357984-dac0-4ce7-9aaa-6db2f9025e15"
      },
      "execution_count": null,
      "outputs": [
        {
          "output_type": "display_data",
          "data": {
            "text/plain": [
              "<Figure size 640x480 with 1 Axes>"
            ],
            "image/png": "[encoded data removed]"
          },
          "metadata": {}
        }
      ]
    },
    {
      "cell_type": "markdown",
      "source": [
        "methode de moussa :"
      ],
      "metadata": {
        "id": "GbNqnKb8KiSJ"
      }
    },
    {
      "cell_type": "code",
      "source": [
        "#normalisation des résidus en appliquant la formule de la première partie\n",
        "Y_predic = model1.predict(X0)\n",
        "n=len(residus)\n",
        "h=(1/n + (X-np.mean(X))**2/sum((X-np.mean(X))**2))\n",
        "residus_s=1/(np.sqrt(1-h))*(Y-Y_predic)\n",
        "residus_n=residus_s-np.mean(residus_s)\n",
        "\n",
        "# Affichage de l'histogramme des résidus\n",
        "plt.figure(figsize=(10, 8))\n",
        "sns.histplot(residus_n, kde=True, color='skyblue')\n",
        "plt.title('Distribution des résidus')\n",
        "plt.xlabel('Résidus')\n",
        "plt.ylabel('Fréquence')\n",
        "plt.grid(True)\n",
        "plt.show()"
      ],
      "metadata": {
        "id": "4pFqIN7h9CgA",
        "colab": {
          "base_uri": "https://localhost:8080/",
          "height": 718
        },
        "outputId": "88a264fe-e8cb-475f-dad5-fb0a57ccaa6b"
      },
      "execution_count": null,
      "outputs": [
        {
          "output_type": "display_data",
          "data": {
            "text/plain": [
              "<Figure size 1000x800 with 1 Axes>"
            ],
            "image/png": "[encoded data removed]"
          },
          "metadata": {}
        }
      ]
    },
    {
      "cell_type": "code",
      "source": [
        "# Estimation des paramètres de la distribution normale des résidus\n",
        "moyenne_residus = np.mean(residus_n)\n",
        "ecart_type_residus = np.std(residus_n)\n",
        "print(moyenne_residus)\n",
        "print(ecart_type_residus)\n",
        "# maintenant on vas appliquer le  Bootstrap paramétrique   on supposons que la loi de Y sanacht X  est normal\n",
        "nb_bootstrap = 1000\n",
        "bootstrap_params0 = []\n",
        "bootstrap_params1 = []\n",
        "\n",
        "\n",
        "for _ in range(nb_bootstrap):\n",
        "    # Génération d'échantillons bootstrap de résidus\n",
        "    bootstrap_residus = np.random.normal(moyenne_residus ,ecart_type_residus, len(residus_n))\n",
        "\n",
        "    # Réajustement du modèle avec les résidus bootstrap\n",
        "    y_bootstrap = model1.fittedvalues + bootstrap_residus\n",
        "    modele_bootstrap = sm.OLS(y_bootstrap, X0).fit()\n",
        "    #model1.fittedvalues represente les valeurs predites de B\n",
        "    # Stockage des paramètres estimés\n",
        "    bootstrap_params0.append(modele_bootstrap.params[0])\n",
        "    bootstrap_params1.append(modele_bootstrap.params[1])\n",
        "\n",
        "print(bootstrap_params0)\n",
        "print(bootstrap_params1)"
      ],
      "metadata": {
        "id": "n7qI5Lyf02GZ",
        "colab": {
          "base_uri": "https://localhost:8080/"
        },
        "outputId": "7e67aa14-f118-44f3-e635-14b069e67247"
      },
      "execution_count": null,
      "outputs": [
        {
          "output_type": "stream",
          "name": "stdout",
          "text": [
            "0.0\n",
            "20.34773603884035\n",
            "[66.02857518846741, 51.565388990256174, 65.46014859425497, 55.13444726557831, 61.99455157936965, 81.31963413580824, 63.872221098677926, 74.31059793743476, 65.37085240311814, 66.80033185763344, 55.67335878927915, 81.24766289651319, 61.25134009147327, 50.99945256905883, 78.85434855159438, 80.91746267329535, 85.0141871125383, 84.47795760928345, 65.7376791068753, 58.03423898848226, 74.60900029355622, 81.16631219225955, 67.71915134737183, 77.95766250670646, 62.47710641483141, 70.73106277407554, 78.40124708529899, 54.88900431886127, 86.54117788539872, 60.483457355017286, 74.59441284427675, 73.73601844522905, 54.073093806810675, 76.18502152703888, 70.33277675036973, 82.18096471367868, 77.42636874290775, 76.98817894183486, 69.25680704174438, 79.02706759055312, 73.720854604412, 65.45508186970025, 71.51874560546445, 70.46315331415781, 68.09836402507467, 68.78343776229707, 82.19071286121532, 62.6220978893417, 62.00093260726629, 59.06901688515189, 69.31820758862285, 64.3483259409511, 68.24947573982168, 64.137546038954, 82.0958992831273, 65.54103361444929, 73.50418546806443, 83.01478190094642, 66.88151120848288, 83.72623335653319, 70.35052776471994, 80.9445588247414, 79.68038290213707, 55.46209747957679, 84.92569576001276, 70.50144647857655, 86.53745119613588, 77.10298855315794, 79.80548768912841, 80.05565710886353, 77.5271805583675, 58.555305150999914, 71.00198066207571, 77.09403821977303, 72.96289944589734, 80.53621175436614, 67.9820627834964, 57.80620667139646, 77.37519636159207, 60.84240818784518, 79.10450893506612, 78.25850863655964, 71.30479116835681, 71.06400064807708, 69.56144328336885, 76.36009277384552, 63.39636946852684, 72.70511885330903, 63.138263277595, 84.99785965941822, 71.36715884259684, 55.32639795069738, 65.90302274789906, 84.13364184652791, 73.59094191434757, 76.73312050127416, 74.82229690061932, 74.42913630319943, 62.301743890407515, 64.82973165237152, 88.47857186392001, 54.3834331497157, 74.5666768049941, 71.9938107843404, 58.39880983742961, 61.766995668872255, 68.25222797401665, 67.41640345130502, 66.10317705165285, 73.10256060445128, 79.95575143207888, 63.638398654909395, 72.1065944928123, 66.96638712582302, 72.53164208896035, 89.9671458926611, 79.03731562759407, 80.25775319559732, 76.80350060924746, 81.15722844375479, 56.33161287665313, 79.36542941831911, 68.94739276865533, 70.71149194063406, 55.092453914815934, 66.8602823237054, 62.96664569469251, 82.24793368194476, 64.96935942074568, 77.1443737755382, 66.37667451435063, 90.48453525444899, 70.83116255375478, 79.32858304956802, 58.797663082895156, 60.22534167222131, 68.72185293810486, 61.8454754157907, 83.96732985384122, 65.73558933159974, 66.52451647284295, 64.41871247222106, 63.000967936429355, 70.28168981943828, 65.937582204922, 53.785122529221205, 65.50641183430825, 63.64351068943457, 71.88101627259084, 76.30073795344198, 72.85876890037588, 71.96196519617615, 75.84474929369904, 68.44250222573692, 60.147898857471624, 73.83816435039056, 65.63072592164748, 72.56707274892071, 96.16441273889737, 64.24875926902492, 83.49799533704079, 74.55425888165477, 57.58703879843191, 62.45357812996957, 56.82621570542105, 66.199064716983, 71.54458590983769, 62.33758329435079, 80.81476951489412, 71.96073691531092, 53.803086418545, 78.4831299862574, 64.80624753308648, 60.19565018487302, 70.64307369099909, 76.34404600387143, 57.44305967707089, 75.7009365482562, 57.201436437757245, 67.76760217396442, 69.27330876477845, 68.93846050192788, 77.47283155720659, 66.90551612138255, 77.8709018743623, 77.33131309364634, 69.7557093526681, 79.10971835270473, 71.72058103312091, 74.0774164721629, 73.75711080724135, 75.035400875087, 69.20599246694553, 73.27518562231467, 89.78005192952328, 65.45408330992036, 71.18281338084083, 75.72690112683381, 82.72187012446133, 65.10846181088087, 70.47136883763086, 64.47773947968597, 70.99084628300281, 62.24801302039011, 65.87051505566268, 81.50661448575251, 70.84724631816276, 65.38463799695143, 59.208319916021416, 58.16324561795714, 65.59552198908243, 75.29668350786777, 75.56956536576843, 69.59062614372472, 70.0805479226027, 59.59052769794676, 53.69133579834017, 73.56031853482442, 73.30818377791506, 64.92374365050108, 72.80233285474547, 70.96403862657564, 73.87045137112985, 80.87676239081682, 83.9182451273158, 75.60093226982131, 72.0441030284558, 69.94841709624954, 80.75903769700169, 81.96209748252261, 68.19676885882927, 79.15590089099459, 85.43448322085743, 72.00400533975173, 78.6664189541952, 73.36751260414798, 82.43138494083964, 55.08297257158668, 66.5607020514995, 70.97611995362652, 69.55483680539416, 73.46334196394788, 60.246380378738294, 77.36874535367814, 82.4508511593975, 71.45314618824884, 78.37930348721129, 76.60213696446905, 68.70815893902105, 72.0085766753272, 73.11511820629242, 54.27630111457182, 75.92288109090511, 78.8848572952635, 75.70812697542897, 79.15154549710597, 77.02919954128144, 70.82182442402872, 84.52330691016915, 75.54639685676734, 70.6802778344882, 69.48901317520857, 63.70186166994127, 86.31897587318981, 74.77216926422557, 58.38828667917883, 58.00831369094998, 72.65905237854798, 65.11763252815224, 76.20677938476834, 68.07475772349575, 82.74636865496896, 73.1487945154101, 79.01457152100599, 70.5705961442854, 73.71155561026706, 78.90882647256247, 52.94875759768279, 71.1639737902346, 63.66218297247368, 76.41046041495464, 69.28627464461174, 78.46156120454052, 73.58405279906553, 83.80047501009473, 77.07477978923808, 86.01973079001172, 72.88822986883157, 72.67267960770596, 83.62863705233596, 73.63969269697883, 63.33110758117775, 68.86805280287881, 72.2149330674396, 77.3779061381378, 66.02273544194475, 84.66316674524954, 62.90286179675181, 58.93020202133254, 71.29331332986159, 62.19177749390058, 84.90829378566042, 96.3394394377925, 80.54459498382894, 72.85051364025033, 90.85071492637512, 73.61582038992094, 55.70494212618657, 85.16590305562124, 82.76501673011816, 68.96152026093766, 68.04908602435763, 69.0791762152043, 71.40005143642918, 76.2155375448543, 80.60945416104701, 69.65639542922439, 52.64914365165126, 77.65033204702961, 82.72381358015733, 71.09478843831604, 71.74583475325694, 61.14127000800796, 75.56425740506516, 87.79636446552428, 74.69875956189391, 65.7823815192856, 55.45442112770722, 78.96792604805798, 71.63802400256975, 71.30346324743309, 75.9063022680741, 77.68151653885207, 68.58173574515475, 62.034357456730106, 83.0204524008699, 77.3199684532755, 65.2713425708218, 77.2557433881124, 51.33768327679184, 84.10029435324316, 74.94657851084195, 54.92318187956076, 70.34744349189955, 72.81958040561818, 58.84490790991512, 64.53009310127335, 64.07842632741809, 66.6505139933027, 73.76098692623607, 60.33631391090681, 69.19608406626871, 58.25631026500534, 82.01963598181507, 79.97656366812365, 68.67532031616872, 80.58885379577839, 70.81601781690917, 64.44205804544313, 68.59913000140074, 75.58623348723076, 77.22653098400806, 70.58417391820849, 65.504904745391, 84.86747106158874, 62.017295286730445, 86.19188781060392, 67.16712142150277, 62.69671072448959, 66.1054488711612, 85.45950212644622, 75.11286931982225, 81.16049409759452, 72.72964565783391, 57.960614710800776, 60.99026685967065, 76.76277813854678, 66.26294724885669, 80.92941475126483, 57.17233847975358, 75.02708737747061, 83.58387739877313, 68.80640382236925, 71.77536847163894, 71.77816378466072, 68.55788905619423, 67.5054602886263, 73.06993263611062, 81.25943893376444, 83.20100468053818, 67.21172438829447, 69.19164074597998, 55.48664339132966, 55.300733192140974, 81.7248509527566, 73.22222905542456, 72.84531817677784, 62.85040242841788, 76.32187945347317, 74.92349809920938, 71.39858842353846, 71.31765512077759, 58.86683641301263, 51.94332652237193, 63.02833627108404, 62.81027592522528, 70.02263002044718, 75.06458897304125, 63.645092946365835, 71.4819294170499, 55.83262329235426, 75.77981859510044, 58.00973975323177, 74.48450307485703, 73.4196218489898, 84.9579327085073, 66.11448756414934, 62.90736423675506, 61.66561959499726, 76.3352882884317, 76.38721990065108, 72.35434518681964, 72.04542234154881, 87.70794125895954, 69.84683317210339, 74.11500840412114, 74.3221834501428, 71.56892867564392, 71.40207968488447, 71.86439202602632, 65.69256380032603, 59.541910836912265, 68.23798484273142, 65.65946995530751, 74.581220005659, 53.585827782088884, 68.5772388998181, 70.92517731910993, 83.79661902093669, 65.64073836132083, 89.0524040690031, 80.19136754435971, 81.80399355702653, 69.37819556021493, 81.00230948100824, 90.00449994273966, 78.66463855691619, 70.21313586575612, 86.72091525944136, 57.15557590438696, 81.4507718970987, 74.16398287004314, 68.56443621867183, 81.25524226636234, 72.07561591061214, 51.221010926431056, 55.89500025966139, 74.26064710821686, 72.71065421692069, 73.40673005668499, 62.12092272627404, 71.62663433681226, 69.5880633870843, 59.48529993783, 68.61303831176718, 67.48435349140334, 66.3912088775738, 92.74681751695384, 71.30524117264136, 56.35656605064572, 67.26409555454278, 78.71993950089572, 69.6517405270361, 55.83353404029564, 59.423677222840794, 66.06796039160689, 80.87250205849487, 67.18156859057153, 71.43364876448976, 67.6321663012194, 65.8382517220318, 69.82265021619587, 75.50495007321719, 66.84617955496044, 64.84609097321801, 62.39386945987552, 76.58914832632371, 71.30248332993875, 77.07842206787548, 65.21118043921986, 67.24297486349458, 66.56013044466006, 72.52095352268435, 84.02535950029035, 81.23836900123703, 76.57616700643023, 71.49999981040021, 84.47327579592671, 74.9945260136163, 80.58709384520913, 82.20762851758174, 67.71495492954304, 65.38869943221887, 75.82048160976862, 85.13507092507088, 64.42125605682367, 65.31505713226488, 60.714180352950514, 81.87710378001069, 70.88410632871508, 77.52180481594355, 83.32404156494815, 98.84686567830174, 59.79769178396994, 77.12549194653148, 68.37891246372787, 67.85370636848312, 71.47710985398247, 86.00424210120434, 53.77384248110874, 74.66908364561385, 79.05149040369122, 62.92449216425419, 68.56791653899391, 65.86836153226038, 82.6243607084997, 62.3648836266883, 68.8133786350507, 70.31879462239708, 67.44645917780664, 76.7052966976039, 58.14514920345057, 48.750102083038094, 67.74837418654165, 65.41528668678473, 62.27960573688803, 77.40113410163192, 74.8657686301915, 74.26702882756544, 60.61980182827724, 76.64099541863226, 67.45169913991339, 75.15818856449727, 68.89650629220523, 69.46446048030946, 73.6709966531261, 66.05184673988396, 67.29188219915339, 85.92863531848884, 68.58155794505264, 59.41704190411733, 81.96344737066654, 73.51870328678586, 68.90363944241338, 87.95595211061418, 68.72925943154226, 58.329897414354946, 62.91499570473062, 64.62249954840622, 79.47020576459177, 50.76705888885219, 77.51980091913778, 77.90898422339556, 80.63572799660074, 67.01396836948865, 83.89808196685316, 77.62314306327534, 65.15818295208246, 73.82537688651324, 61.416369969000385, 69.01396353634134, 73.16499819229864, 75.47499594004199, 68.37946859608165, 69.45896522329532, 78.98106712629065, 67.67374379348841, 74.84272579362523, 64.55521766491388, 82.30245686270277, 60.469087770839096, 77.01707992835605, 94.59179323486576, 68.65936194665336, 66.81264886256763, 74.16048019223705, 81.08970117995736, 76.31262641511131, 78.40105101172632, 80.13725802342033, 59.47576779891333, 72.77406735677555, 56.84456997831507, 71.51721694507158, 58.10793568168624, 65.59361996260343, 66.70074182847613, 84.30292496606694, 89.5387724404242, 69.70010354729838, 50.33978032496818, 71.3047031755952, 64.56699713957948, 87.73088463275609, 68.04909520794968, 68.71779451211235, 72.11216000355832, 62.08232073242259, 68.66218560118548, 65.47956659172377, 95.40188495551095, 91.76300913999711, 64.07077671782658, 68.78400307811167, 65.15552834807565, 67.63755050516092, 75.97955267616678, 77.2358225014528, 74.93868148444461, 89.16663625664955, 57.54278105264562, 64.79033181346644, 81.27581604276159, 76.37221735029601, 75.64140319965642, 76.58629118195047, 80.1178030474933, 58.85631666617357, 61.88768954500708, 66.28043122014803, 84.1793821720456, 79.49477520340683, 61.85514948309066, 46.6211677364318, 61.51338014345676, 70.46974326302932, 85.76191068268075, 73.68648912254542, 75.24973471637756, 68.29424201619183, 60.68637276659947, 67.24185228172634, 77.80300387232303, 62.64225109388019, 80.41411365670375, 71.47733261021068, 61.76897129792897, 62.19929742007596, 70.57285552154819, 73.34803001282161, 68.37372629550906, 92.77073176441377, 75.30521113590234, 75.44708242569016, 66.0987353438101, 85.45194601329972, 62.15077511954912, 57.32502331415103, 68.50175616971609, 64.15601122510428, 65.09162790772375, 65.89002907924913, 54.66728738139401, 70.61078623041375, 61.87526483247231, 69.09374596230067, 75.20059772742094, 62.59345481612742, 72.08889922395767, 65.4304996697118, 54.759082173250285, 55.05367644672567, 61.89680501158593, 65.85168779705567, 69.14166286450089, 62.67994356668867, 72.32048328636404, 72.82714525975294, 76.09052599786807, 80.4471807164258, 68.47569056804235, 60.77848087128226, 64.53926287678269, 71.20563553177011, 70.53317778277993, 70.4662732896825, 71.78252826224087, 77.17885099005525, 78.33810353130613, 75.20389491592645, 70.17947309329885, 83.03731960471181, 81.56068595315524, 76.58425917411887, 75.51784398940362, 57.828477021851945, 72.17993482891619, 68.72004234291907, 78.7692202327797, 72.69692186481562, 74.11773565218503, 57.32106136618817, 71.54780391162518, 62.01202954280645, 79.5645214328495, 70.07397213905638, 68.35977713413767, 73.79440479995593, 70.98256018853624, 70.40152556878701, 77.98485313002526, 87.94168365291954, 58.594224121483755, 76.55695366359816, 66.51993537669931, 69.29857895282234, 56.591568141063114, 61.29898790380664, 64.96996481288384, 74.58252910163205, 49.60746023666403, 79.5353105253341, 82.1331974281782, 75.38953580185823, 81.45731985187712, 68.2882305097573, 63.714288572876725, 68.80927167572364, 70.08096933797034, 89.67246899799261, 73.47000955787867, 91.19301212469048, 69.5187279477463, 74.08424112257292, 68.83765772987122, 73.12972148905394, 75.06622137776127, 61.17759317428635, 70.8841641274998, 84.49283701404845, 53.73712638754128, 86.96779851275517, 79.83109298789202, 68.46941459751625, 71.38752482753019, 87.99901858574195, 74.73007341949865, 84.20819083967763, 70.30461380397593, 78.68309727035283, 72.58936464790393, 58.471455099758096, 77.22524480577628, 68.00786323552182, 66.29961646607573, 71.58122294892931, 75.4191957431992, 69.86377405962065, 63.14053572488097, 63.34554460944948, 67.25406105321542, 77.06465788125583, 67.02544008174847, 53.24870383290107, 73.26571352925028, 63.73292765770549, 64.1094091389735, 69.2156840954492, 86.72839244264564, 66.35794144400582, 78.22494633953688, 80.27696768439064, 67.36875702782447, 94.09694850499933, 74.38015794984449, 64.94420401448272, 55.93669474913716, 71.4605078172447, 60.460365692517925, 72.1956254514946, 72.62244055451234, 67.3913219339754, 68.03178369668771, 61.90879754923099, 69.58351951227914, 88.38533913129496, 59.107680963746084, 61.76253239775179, 69.58746189071728, 61.95825880112066, 54.39445468334167, 83.57491055284031, 65.99692715755755, 75.3129341736223, 63.978058225514275, 68.41041940494675, 66.7554857610325, 75.90669568784966, 64.045188562022, 90.52345987407932, 51.80383974052623, 67.03663310002578, 64.10950653587031, 87.36275563606225, 62.31735016006786, 75.97522538774088, 83.52655664300605, 57.101195297291255, 78.09805339698954, 59.938141637041525, 63.83467191486172, 94.54781966383202, 69.36640729106755, 82.54994698294597, 63.11393847936, 71.91792836188328, 71.239145378957, 65.04339673932041, 65.472469357393, 72.36949032285565, 65.22045835020596, 70.92708105386257, 66.17514592513795, 78.8205917717344, 65.79614859055162, 75.89804322307987, 87.98177959386494, 69.42078620813186, 64.53506916066891, 68.09468786690098, 62.43184753354962, 68.22026892472196, 76.22914511993127, 64.30881891459813, 68.68513346830822, 51.33919758264835, 54.93390208859241, 67.54884419341958, 56.07311417633507, 67.01329039760638, 78.35518476438229, 83.3657344272998, 79.53105924619099, 76.23400344625486, 78.5632648486415, 70.41497618784328, 78.20950093717936, 69.5154408821871, 81.04730473775238, 63.93311824356662, 67.37335972430704, 74.65274313706973, 64.72089625767504, 54.962965956098266, 72.04322738621113, 76.98546766580415, 76.71500736092055, 67.18943753752978, 81.23636307575556, 76.73416792656494, 68.70313197025081, 67.51535831464588, 66.85622608702391, 95.46717193090652, 76.47455370425686, 83.90897794745204, 70.58418289253778, 53.962681196083835, 67.81449487709153, 69.64010300887146, 86.76955780565652, 93.64977214828926, 63.77164580885015, 78.91304390732296, 67.5842245476256, 65.63424398242954, 70.13469415297762, 69.26437285057635, 59.05330579641726, 66.06226494474822, 84.09460389394718, 74.09039506042052, 69.7043468147017, 72.09076668136436, 58.780737039606684, 83.78828955012997, 63.30876054228815, 71.9584426107681, 64.7123266935648, 69.08526457222554, 72.46484169371273, 71.97711737287881, 67.99362005447192, 80.84738152598639, 78.36937057093849, 76.35513680747724, 70.98269813042862, 70.59867971461081, 71.70069118086514, 54.01482601244117, 64.50570620833847, 58.41790681852526, 74.69007372935091, 78.69162916100511, 84.31355747902907, 75.18702502804624, 66.2459706966389, 60.93644599143108, 61.87813646784562, 81.75322050592818, 63.38303751100969, 69.92455809968, 55.73268686184965, 71.46939718170897, 56.91053011520012, 71.84192140041165, 81.7414687369905, 80.92053800769312, 81.38723448593332, 71.42429023081831, 68.66981056571134, 65.11894113731967, 66.14429990613843, 65.89790551499601, 71.61516165115778, 75.37256527768987, 68.52529862237166, 65.97452384748095, 68.5515358780558, 72.08579056715966, 70.0195345819409, 72.79829862249012, 68.03688322241024, 66.1935721715014, 53.06113740396038, 79.6466334201232, 73.82665852637466, 80.75894735953077, 93.66406022990499, 80.7753081191674, 69.85265602300595, 63.51305243191049, 59.21559955752008, 74.46937342424708, 79.13260848373366, 71.30359637123937, 76.7360033006727, 79.56362514363803, 62.899685067693085, 89.07792103910252, 70.51697731678085, 60.81231099682181, 71.44069521565707, 74.60161219305014, 78.77074989797106, 73.65590537812687, 84.71762981430362, 81.63350734964573, 68.56861392636985, 56.29990563924876, 78.94684363991752, 80.90515617919597, 65.78148322430802, 74.98719713271242, 77.95353288339079, 73.21995870005794, 86.82598272303038, 59.55646568187549, 66.55739197971393, 72.20096460718601, 67.33517962636952, 72.68208502039916, 57.4919343493441, 70.38365776969808, 68.65611609308996, 72.20745882455361, 62.903581809442535, 53.34405431951164, 83.01745513922721, 78.764067880698, 58.572093184991274, 78.58265067194348, 68.7975340450244, 66.88558716666515, 72.86565162967823, 65.57699164179017, 66.88152210001552, 73.06793314933083, 64.47283130267178, 76.7986683587074, 74.96457449611472, 80.34069164162055, 85.48723652755567, 87.25927486207901, 78.9361837769993, 69.88077024705929, 78.12509763877664, 74.63908171706697, 63.292271975155714, 77.90546330221899]\n",
            "[0.9422630528725056, 1.4739003097207883, 0.9058504403563472, 1.3864377306940694, 1.0309781581999415, 0.27206817524754917, 0.9989671802330647, 0.4987724097001718, 1.016633612352166, 0.9169798124538967, 1.3112682384967451, 0.23550072623109577, 1.1647121755285468, 1.5386085865996944, 0.416165109272563, 0.296387517597215, 0.02721077621799839, 0.11182290410588785, 0.9237552015808607, 1.2053759056701816, 0.5331435717455175, 0.24254211174732762, 0.8808859301884375, 0.43819175395060384, 1.0237855091798356, 0.7173804258757385, 0.3157274646743, 1.37389909711344, 0.012553543721628663, 1.1479037700233514, 0.5175308898371288, 0.5460328386267258, 1.4483922293772602, 0.48763474409613744, 0.7824887837408263, 0.16671752458780548, 0.37619552159065256, 0.402642996944315, 0.7703231999412646, 0.3033265059387194, 0.6208982543080362, 0.9246362072405998, 0.661216740430394, 0.7697266079978933, 0.8086659705754752, 0.7700135512027166, 0.19526597621030833, 1.040999858478641, 1.1666088396117504, 1.2225784878927726, 0.7945185893456758, 0.9856847852769277, 0.7612458154439781, 0.9222137561038224, 0.2261092142317206, 0.9182330683785912, 0.5845849776948076, 0.1887258990108694, 0.8827458765742058, 0.15273472661435045, 0.7284574910591667, 0.22348109104658886, 0.3212235541066379, 1.3039969538939642, 0.14275362627777086, 0.7320404156915039, 0.036132049723881704, 0.44519461470731364, 0.2910992606633155, 0.294984636603586, 0.40796778435400294, 1.2062003031492694, 0.6879092195861245, 0.4410686758465071, 0.505669891679348, 0.3671062090187974, 0.8401759209668369, 1.302774581639792, 0.3905899086041986, 1.1675153035914283, 0.4624424168591794, 0.33254195402306636, 0.712056635624686, 0.7890678794213746, 0.8587986013501708, 0.5141433005099557, 1.032523242426878, 0.6270664538244469, 1.059585358607659, 0.0058299977489486635, 0.6847199672314395, 1.4022918875787065, 0.8490599171765775, 0.22851498479290017, 0.623814603736419, 0.3775547419233929, 0.4749568077451798, 0.5543797985085137, 1.129497098537204, 0.9735240585154962, -0.06609439426748252, 1.4742637148236934, 0.5014587521032642, 0.5919244122596166, 1.2510288759726316, 1.1464519240924758, 0.8784314340910968, 0.8710653908675442, 0.8529897030656521, 0.6401572442042804, 0.3254284861479949, 1.02271603415844, 0.691387663826769, 0.88649331862105, 0.6360296399944073, -0.1918924023904833, 0.4009160185193619, 0.30746173258729015, 0.4116801424927615, 0.26198648080423353, 1.3324786877568722, 0.276237193507288, 0.7562793027085037, 0.6696849192149238, 1.3594348160190552, 0.825525535886713, 1.057730685792639, 0.17328386320243758, 0.9852630441917208, 0.48510600354379824, 0.9336992616125033, -0.10246147227987959, 0.6637342420304638, 0.19937835510400276, 1.3267994709171511, 1.0791342517679647, 0.8629942710350498, 1.0528952058233327, 0.16196444992715023, 0.8671772111938851, 0.9001491241606357, 0.9645060709194134, 1.0056404779128847, 0.7162886074990218, 0.913616600800572, 1.429864794764687, 0.943963387189375, 1.0158837404542924, 0.7637236360066493, 0.4794021246374686, 0.5917273959341252, 0.7303830587697251, 0.4270248292868968, 0.7829654841142684, 1.1229742371705855, 0.5640962196911382, 0.8952791979128756, 0.6647464660526514, -0.43595836682450967, 1.0263521894973016, 0.1537631619925351, 0.5594497043207429, 1.2879753709668726, 1.0965857749391248, 1.3636308974069355, 0.9146447591337891, 0.7021538027694559, 1.0168941791791724, 0.2348349113218256, 0.5470289704137072, 1.4414432352340585, 0.30333505836141933, 0.9857033178002171, 1.1586510160697894, 0.833968644006102, 0.41738050024597484, 1.2535736173336767, 0.4695863315872006, 1.3121092605364448, 0.7974115056859971, 0.7908557395125286, 0.7652304475339264, 0.31780347956679195, 0.8088231004123686, 0.4586905057705422, 0.49487818206928946, 0.7618396221507724, 0.42211540014130805, 0.6140405609197834, 0.5607276724407382, 0.6436859167834993, 0.5121183662326171, 0.7354272256310068, 0.6325711057371564, -0.09998437861550556, 0.9557270446813593, 0.6708303452595396, 0.41842346600358943, 0.12220382010552544, 0.9083880032501239, 0.7412882962117499, 0.957794319320143, 0.7747225830323714, 1.0804613035235393, 0.9192277816941611, 0.18681927257116313, 0.5347352034224515, 0.9310622490978935, 1.2212574507463074, 1.2724918046044047, 0.9628446551972448, 0.5025881340124481, 0.5578843121108324, 0.7946713527624112, 0.736029980819391, 1.1449648553127252, 1.4445995331253647, 0.5572517598091369, 0.6043354203569234, 0.9209872199329865, 0.6144356681324327, 0.6793346417917954, 0.4853955120215409, 0.2954097950993601, 0.1276700928467582, 0.5041895055481184, 0.6320597157502988, 0.7812183994013319, 0.25186127820771875, 0.17127123149030707, 0.7661383913762153, 0.36168296620363083, 0.02111525674954108, 0.6140928597079636, 0.279840095656148, 0.6687951876688439, 0.18593295935311283, 1.3885382227502805, 0.9491798220517355, 0.7855675113874165, 0.8268008415710942, 0.634564302592564, 1.1985276946413996, 0.39831038426881993, 0.2636183170522005, 0.6066326511109091, 0.3415101391923818, 0.4016476473950688, 0.7145933387078229, 0.697805102096227, 0.6613942772232811, 1.429389509637561, 0.50834869418105, 0.3235282494183378, 0.5240088081866846, 0.36785111842068025, 0.4679600176707957, 0.6704932598872515, 0.025114148967456305, 0.4952632663038592, 0.7407047762185623, 0.72402072204495, 0.9694270157484993, 0.0362148842629826, 0.46328389543845533, 1.1995362512986343, 1.2830800579697152, 0.6545513545535228, 1.0414197685000224, 0.47885358640143716, 0.8586559701590535, 0.19614085118540125, 0.6816977426473592, 0.3055644935782421, 0.8161286204522156, 0.5497365494865879, 0.3389085816835089, 1.3567669739403783, 0.7328986330016638, 0.9951289234056213, 0.5101444474762719, 0.8196413332167559, 0.3618474731355487, 0.589914541049543, 0.09287782642704824, 0.4781251678398405, 0.06781964928254908, 0.5931944422444179, 0.6200592978649877, 0.23916115496030146, 0.6175492062802234, 1.0964696264654146, 0.7765024797474653, 0.654506556463507, 0.4200667795192511, 0.9135439472092909, 0.16432551353635294, 1.0335089411075182, 1.200897922426338, 0.6535399675885339, 1.1159628675031736, 0.11439137094166253, -0.3434697686119754, 0.2911008719178378, 0.685333682846499, -0.1488641189685846, 0.6379926561042926, 1.299241082462266, 0.07540314257493794, 0.1713488640836686, 0.7885365574466229, 0.8154016425427265, 0.7543561480904964, 0.7164378059052142, 0.4252167261398865, 0.31231786781354415, 0.7944369972120777, 1.499631105908911, 0.390647278317061, 0.2556605882377837, 0.6654398911925827, 0.6508834680689917, 1.1313523513887371, 0.516162688476489, 0.052765582902860986, 0.4912233849067905, 0.9414126941854193, 1.3360598031343207, 0.286096544971122, 0.7445091135371359, 0.7057087789647456, 0.38189143012478743, 0.4022705467758417, 0.7982257346450292, 1.0439003571848327, 0.1681801543214171, 0.30728624981939157, 1.010829091286866, 0.3866906765806349, 1.5590726126187695, 0.08023029357583014, 0.5122978979956727, 1.4388059338172767, 0.6848836471959762, 0.6386734137548226, 1.2342935937599309, 0.8819594498044069, 1.012554038540487, 0.8703477288102185, 0.568232723930394, 1.1209123131910348, 0.74371322739262, 1.2398223245397082, 0.20897150925106725, 0.3038516771555579, 0.8575600111964035, 0.26399715328069323, 0.636928830281009, 0.9584023683057861, 0.8446193629168114, 0.5400698052583972, 0.47200644442566875, 0.7171439777395088, 0.9023812299444101, 0.05955808361594153, 1.0883274756933585, 0.07067955261272316, 0.8544352977095778, 1.0043936309431043, 0.8928929486267158, 0.0886114059202445, 0.4892423027944692, 0.32376145059005873, 0.5541188890097911, 1.2555721359382737, 1.1642809091641457, 0.41568227692189186, 0.852973833347254, 0.18241452880123904, 1.3317849051345554, 0.5022712610666852, 0.15456721175529647, 0.6892606822061921, 0.6542703825209821, 0.6334584498081606, 0.8220087829963326, 0.7976256898490852, 0.547556868802372, 0.2739057931352016, 0.21366544221352293, 0.7360155649005065, 0.6956419115763506, 1.3226264278900564, 1.3120827904782517, 0.10567704739641552, 0.587400291193095, 0.6249866541172238, 1.0334003699497454, 0.4592236472141455, 0.4385491985181725, 0.6672898892896963, 0.6978990505409638, 1.1813250304460623, 1.4895103364441291, 1.0413480270863247, 1.0642483835830447, 0.673001309626048, 0.5547569399162117, 1.0633051802968327, 0.6542503052075782, 1.2857710932886781, 0.5453491517410779, 1.1934334691822792, 0.544735701014209, 0.5851884218503985, 0.1780589811716368, 0.8827218400730356, 1.0334768153828984, 1.0821129336012187, 0.526963695267215, 0.45379129234358845, 0.6635003902289583, 0.6477007191730457, -0.0109613697201278, 0.7247787071259155, 0.564739911148102, 0.4875253145937549, 0.6165224521668718, 0.6703086817897675, 0.6122229930364388, 0.7855010439412329, 1.199667861602391, 0.8375252251379122, 0.9174636259612232, 0.481736551015464, 1.5012575515478856, 0.7606595201550977, 0.7734404153821003, 0.18038063262814608, 0.9628972167211871, -0.052120371955161476, 0.28636538377830156, 0.17068219721255962, 0.757751475441238, 0.27064453602703953, -0.11090189216782305, 0.33305177850451717, 0.7409741700673064, 0.0406405592297217, 1.2805628210231406, 0.2578054023517123, 0.5610139446361853, 0.7920446326893874, 0.24647215072270526, 0.707792724130829, 1.4950436619199134, 1.4471325124610934, 0.5811574116535745, 0.619056249116712, 0.6364867944143842, 0.9852115928555865, 0.6626393133340343, 0.8031850117177878, 1.2335377900662878, 0.7976610010253841, 0.8404389558613473, 0.904198044764676, -0.24685598027271732, 0.6211399604871763, 1.3311748197995175, 0.809380443784893, 0.3224063706509951, 0.7470848837934173, 1.3208723373348157, 1.0966830514703652, 0.865578900232583, 0.2709783229829181, 0.868043418724756, 0.6144628265173709, 0.7750357953991164, 0.9690588474685309, 0.7481310575655512, 0.4813471734230788, 0.8846234660306292, 1.0043240876062594, 1.014349248575783, 0.4499156454210824, 0.751199132578024, 0.47097943101870837, 0.8860360400195437, 0.8649416328205527, 0.8651727942872881, 0.594887893167787, 0.14852928946410512, 0.2268285374484126, 0.49127601228916906, 0.6403456234932964, 0.13852128987406342, 0.5166508082648191, 0.32640898941076846, 0.24525112915512323, 0.8246696038392034, 1.0092318079403944, 0.48505900951042114, -0.02980413455215082, 0.9104114365326643, 0.9452673455548972, 1.088652079585707, 0.2542477456159166, 0.7542407082092042, 0.39430443806745974, 0.12123864147215345, -0.5664975584671784, 1.1425001653765465, 0.42094994360003, 0.8093603280920922, 0.8632062520214143, 0.68152499656427, 0.03883502778484681, 1.446159995886979, 0.5822904830250971, 0.38767684656549073, 1.1024993798602236, 0.7621860625110264, 0.9719895714062644, 0.14821214648535175, 1.0159649789571947, 0.7247571036591632, 0.7380531327313401, 0.8710889430543011, 0.4236950776173831, 1.2797858170195693, 1.6683788651519365, 0.890462236470168, 0.8942196918577149, 1.049086241774972, 0.4084698610196597, 0.5301683696218004, 0.5966976867373629, 1.153341245709814, 0.5027746292930542, 0.8806692736446504, 0.49788597123734113, 0.7917032974612901, 0.7431648573346095, 0.5875136457525526, 0.8940555448874179, 0.983216490616834, -0.0035701276229218584, 0.8492464926938952, 1.1700738714094558, 0.26642682488287533, 0.6560924903828579, 0.793964759620773, -0.006929535239653457, 0.7568909033455071, 1.2784663017514577, 1.006842719743582, 0.9936141962495545, 0.3313930211648377, 1.55215682825922, 0.4823079449896105, 0.40023631570029333, 0.31515101314129473, 0.8229768425166614, 0.10862164186612186, 0.4139411967300881, 0.8673341203178446, 0.5227465435755784, 1.1111257495659002, 0.8263646324785744, 0.6166243583792088, 0.5459316907269226, 0.7408987523935441, 0.7653070104236624, 0.34779165119968514, 0.8506473015300136, 0.5284930601124792, 0.9975979187348887, 0.15983494542047144, 1.1784143086642422, 0.3959882795190157, -0.24323446374681773, 0.7894355987005003, 0.8963557394775182, 0.5628406170746402, 0.2484481360484093, 0.45948110760211386, 0.3502838793784272, 0.2975942097993991, 1.2334413528779324, 0.5550904257567066, 1.329299180653353, 0.635894152597177, 1.2035538639799381, 0.9419070312700198, 0.8464776013535747, 0.10008807251131825, -0.18540793796958224, 0.7413516594268741, 1.6642128384875088, 0.6098070833005308, 0.9276989188971928, 0.005938740921301547, 0.8304401313407073, 0.8437862553133035, 0.6898759894772495, 1.1320908167477155, 0.8103689923164095, 0.9822546615083926, -0.31003035667760115, -0.17366287255931975, 0.9348139989702596, 0.7568017531298707, 0.94501816071711, 0.8320284375114351, 0.4613252715050083, 0.5356668755571553, 0.5254522932487388, -0.16131815146580247, 1.293128102015954, 1.0179775845894243, 0.15838271696992165, 0.405323041285717, 0.6013742152815968, 0.45425503147489443, 0.2831429532264337, 1.2477082377942466, 1.1706643717111642, 0.8844980201592119, 0.06983670161259248, 0.3633135131514967, 1.1295267624681153, 1.7400326068938845, 1.1106335968414633, 0.6858668153377978, 0.011646567765432572, 0.5698584346995004, 0.4948598635517682, 0.9030765762434506, 1.1130419208506677, 0.8264506234899018, 0.34993139812114205, 1.0184823612539, 0.18949925930667236, 0.7141808566935173, 1.1174626749282666, 1.0529604671786816, 0.5923959596844706, 0.5920664719766978, 0.7990079923148866, -0.17609636049965863, 0.6506731287941417, 0.5091489532376378, 0.9334089963089273, 0.07540697883840039, 1.0443111514120238, 1.2642671849626108, 0.7457523471421443, 1.016432720057123, 0.9731007461094455, 0.9168201356829706, 1.3979180039015948, 0.740425275694854, 1.1158211000800249, 0.7713052148278102, 0.5261641391319059, 1.083055318877842, 0.6899065215813038, 0.9082523721497313, 1.388030595857141, 1.2701678419600841, 1.126858748251587, 0.9141986496381397, 0.7136088958615223, 1.1038325867879588, 0.6078568214922806, 0.6182559503919294, 0.5586810963224528, 0.276755429607089, 0.7892451487144343, 1.156702266531541, 0.9154859759538113, 0.6877403402942277, 0.7618194980953842, 0.70739322207953, 0.7173174620712849, 0.4064335748424833, 0.4279581898547944, 0.5957036257774992, 0.7406755283046776, 0.21689181604479416, 0.2456552181130535, 0.42694420488077894, 0.4651780004647599, 1.2341481502762413, 0.5772662932552151, 0.7935582667759145, 0.3602812581351743, 0.6638419862587966, 0.5839146735791175, 1.3523638058717964, 0.6843269211518003, 1.09597154271385, 0.37523242840524335, 0.6641770320160487, 0.7319490756535579, 0.5453878887836905, 0.7700726719688119, 0.6897426992366098, 0.4035600195223528, -0.07978542475238556, 1.174673567368679, 0.50190188074447, 0.821020416979298, 0.7590105813135839, 1.3339998111160285, 1.1194773507192295, 0.9404293888466578, 0.5311188352448036, 1.6572617718982752, 0.3102215054011826, 0.1326087738569704, 0.4201442611859615, 0.18587355582048257, 0.8429386278927459, 1.0145498670736262, 0.8785176978769703, 0.7441171354562743, -0.15234232705588213, 0.6698489373037821, -0.17924907263538745, 0.690291574626705, 0.5012362456497321, 0.7768610371156354, 0.6000097986466045, 0.4782018444570302, 1.188188960857403, 0.8143698566697553, 0.12082328286233485, 1.4618911671800117, 0.014920225564095972, 0.2829219698880018, 0.8676002449001372, 0.6842025534757707, -0.04717702051810513, 0.5428470445590666, 0.13535290146941542, 0.7997206430072429, 0.33080561371868805, 0.5974418782491936, 1.2418106853568507, 0.40935695638810754, 0.780824077429865, 0.9108745324401558, 0.6684042844677934, 0.46756040239323643, 0.7338341531377007, 1.0739850881517916, 1.0090739652720566, 0.8680049872849638, 0.47615904071813364, 0.8970977241022763, 1.4757819050417686, 0.6329845990086943, 0.9947149925003436, 1.0103017071759133, 0.7478015814320655, 0.029560430291229525, 0.891464361851944, 0.4184285575292184, 0.2952957929073151, 0.8927230133936088, -0.3434151045540725, 0.5997328458791256, 0.9596563609572112, 1.3860480940844488, 0.7305805006784533, 1.1264896221578873, 0.6494964573646652, 0.651881296076771, 0.8376636236141753, 0.8539272237358202, 1.0828003328780582, 0.7394604642785052, -0.0466733402177968, 1.2403271957475108, 1.0691730897818974, 0.803073000570713, 1.067262450603046, 1.4468342409162467, 0.12192170145544179, 0.9030954941299896, 0.4922236268457434, 1.0474641003093816, 0.8184740662587571, 0.8651518927541304, 0.45581111014112624, 1.0019660682094829, -0.15760419307002163, 1.548370169860114, 0.7407430440732541, 1.0011081777163404, 0.04886647593837287, 1.1025722514224428, 0.47557740053378095, 0.1731618659222191, 1.301176430999273, 0.38184703493031735, 1.2407477474512323, 1.0301335363282593, -0.28776304874959385, 0.7255763801415902, 0.22244509109910687, 0.9949724966023743, 0.6665160148962589, 0.6742400940325833, 0.9684963459003411, 0.9288261145883233, 0.6017733890245951, 0.9435800427864903, 0.7086106432439839, 0.9897327550648842, 0.37711935923591494, 0.9362179350752609, 0.43444551781273283, -0.05336432887663095, 0.7770017455371495, 0.9594175276230742, 0.8428779940029494, 1.088136108348896, 0.8305595098637758, 0.4682996376117068, 1.0200392843441757, 0.8320640682487266, 1.5041667197179125, 1.464769402749641, 0.906348298897609, 1.2756479959175868, 0.7394627180858839, 0.3000423459865297, 0.18947504533281573, 0.3315971401734932, 0.43250439446803346, 0.3171887180417455, 0.7184918708529449, 0.3795978638313541, 0.7553841753090625, 0.22654645346337246, 1.0186530784409054, 0.8528272979772243, 0.5445855847400188, 0.9994146313164353, 1.3494376399285193, 0.6922960925737348, 0.46846284612020744, 0.498825088332208, 0.8466969803320431, 0.2739569890420915, 0.5056654068710527, 0.7386082716391399, 0.8183293845812568, 0.8137756917182112, -0.4200223028731743, 0.47095864443105584, 0.0709827443598732, 0.6529258541320497, 1.4472150324936963, 0.8527266279466892, 0.7538863687788389, -0.042556019898086515, -0.2652860639018978, 1.0302814049707059, 0.3773463848952122, 0.8325506590249134, 0.9581733871476926, 0.7558359084424193, 0.8018545878594757, 1.1974267322165537, 0.9112764053400616, 0.17344180843593562, 0.5654570606550421, 0.8565071068012068, 0.6155912479236931, 1.142737710446133, 0.18325403247963679, 1.0079158873983076, 0.7023685226271227, 0.9823345377571281, 0.7970641965301644, 0.6896159727563587, 0.6699841041163518, 0.8329406826109496, 0.3647449358307171, 0.314578567601768, 0.4058801567624899, 0.7563922990628357, 0.6943470137825517, 0.6406300516192706, 1.46710628905963, 0.9543906545433246, 1.2381658731485417, 0.5339824468103469, 0.2796710129266851, 0.1453823803525776, 0.4617056151406931, 0.9922534397338374, 1.1381031732278133, 1.0917139196552268, 0.2570236325831611, 0.981532642569873, 0.7492509797849539, 1.357573258995088, 0.6520805261637499, 1.295558857161643, 0.671028077286371, 0.24730789996977284, 0.22050393997339052, 0.3101121547094673, 0.726670262898773, 0.7561296064676821, 0.8645234629553202, 0.9158160913635589, 0.9813497160801858, 0.6545780368786536, 0.5318182413955078, 0.8441256715743989, 0.8672770862581589, 0.7629040772121785, 0.6927310650709374, 0.8224439998452303, 0.6359746676891201, 0.7952617352681337, 0.932429012874498, 1.438552413635093, 0.26578751462082384, 0.5743946237510706, 0.23470403280221153, -0.25843642801980793, 0.3123009501471535, 0.7764315724041049, 1.0868591884373768, 1.301330106731894, 0.5882038755329915, 0.3682169904312171, 0.6497886668261579, 0.5066408655477621, 0.35622868693484966, 0.9809128694392167, -0.08986633613575729, 0.7243617851375922, 1.1026475631717678, 0.6101223485635344, 0.5653560418061051, 0.4128093201907426, 0.5510474133941827, 0.09185218193433708, 0.23910003429224733, 0.7967662807955702, 1.3689729623516733, 0.34082599682225445, 0.29505753730026496, 0.8961613035285617, 0.534865879771123, 0.41186333569452854, 0.6152123539679885, -0.0027298679295835963, 1.3144967863194934, 0.8570625116815387, 0.687530132965859, 0.834506931525864, 0.6539443913366642, 1.336630022093977, 0.7239844892912304, 0.7939285766816658, 0.6306005620638567, 0.9997182192150493, 1.4024057985420126, 0.14077365868063713, 0.387369951756327, 1.268559311758813, 0.40221246797945087, 0.8091587085559789, 0.8831438884898012, 0.6629446782205309, 0.8985628123850423, 0.8998740085947103, 0.5474609051569708, 0.8945627778724935, 0.43277842427228325, 0.5675442218669902, 0.25330114375945095, 0.07490921391378082, -0.06955368845050759, 0.33968444108810175, 0.7437359740561493, 0.33802943019815457, 0.5060481139852553, 1.015867973724576, 0.38101461127759106]\n"
          ]
        }
      ]
    },
    {
      "cell_type": "markdown",
      "source": [
        "\n",
        "Ces lignes effectuent le bootstrap paramétrique en rééchantillonnant les résidus du modèle initial à partir d'une distribution normale centrée sur la moyenne des résidus et ayant pour écart type l'écart type des résidus. Un nouveau modèle de régression linéaire est ajusté à chaque échantillon bootstrap, et les paramètres estimés de chaque modèle sont stockés dans les listes bootstrap_params0 et bootstrap_params1.\n"
      ],
      "metadata": {
        "id": "hJpbrzfq2gOR"
      }
    },
    {
      "cell_type": "code",
      "execution_count": null,
      "metadata": {
        "id": "mHbR9wARCpuM",
        "colab": {
          "base_uri": "https://localhost:8080/"
        },
        "outputId": "8f935df0-8055-443b-803c-24ea72fa8457"
      },
      "outputs": [
        {
          "output_type": "stream",
          "name": "stdout",
          "text": [
            "[69.66773569326779, 74.32755391527589, 79.43850715087265, 74.10395174545316, 63.11452352069781, 84.04630264829879, 81.25730499976072, 83.36509023646023, 61.10082628648741, 71.4919980672069, 64.12160544813031, 76.30335438382366, 66.30126551877281, 83.08747700041754, 69.73270450017651, 67.12070923277089, 72.12625939072522, 64.77083979106195, 62.45842346435582, 71.25942712009162, 78.8531189778346, 65.04655113897641, 75.76366611564364, 75.69117051731926, 72.04871497222224, 75.32495062221433, 65.31148726076731, 77.91302614957222, 79.464546375021, 75.4091623319858, 72.74154238034467, 66.99384125406577, 63.69008321091575, 58.60289932692077, 58.837479540480665, 80.21408653225856, 53.9277554489112, 72.55863775448424, 68.92663597212142, 74.5867998178933, 58.003169401091654, 80.65465944212193, 77.19820374327176, 81.4371942463185, 73.89753470944609, 62.32065636212465, 82.6704716509412, 72.09399206150175, 59.98767259673023, 76.82649803073853, 69.05777663599812, 69.39076442762894, 73.43765552185253, 74.12603532908173, 78.98291210674425, 86.0018318574879, 70.9473065777497, 57.147514717265835, 64.31686902016705, 68.89897629145442, 70.31945488212791, 62.49335482905268, 62.25910487474533, 71.9165176966282, 74.75701926585734, 64.00220076987867, 71.80495987192054, 65.84870525061591, 66.7600928569174, 65.08793388798408, 75.33608097315192, 64.8159564421239, 72.08130316015549, 62.74590534323014, 64.53257005520547, 74.2404222028827, 62.71668356151041, 73.79759382986036, 78.5725339262616, 78.24404906868341, 63.080229169091346, 62.698188680092976, 84.83768250806088, 71.64176795947881, 70.49445519648526, 65.91204653230643, 74.3083952422155, 71.0674406040869, 69.4888491522966, 68.87637022817576, 66.4195087002152, 80.17997025000747, 66.53404612453255, 68.96733690804878, 72.4960609530087, 71.67805888521667, 65.42593468198599, 77.9361829180481, 63.21180775425756, 71.7135429813483, 73.71246039647059, 69.1982633545172, 61.19793112958186, 72.39781453195683, 60.74295184196089, 58.584597703016804, 63.87235752728786, 68.68087773632945, 71.54133712549734, 73.26411275591536, 74.04287847916034, 64.35411567303967, 71.60728031496434, 91.66365303858328, 69.07214170475447, 75.8662440067376, 71.41128116529309, 82.31044840234, 63.22984880356618, 83.8162864730391, 78.80264660337376, 59.336740149987854, 79.21140290759182, 79.01562534336955, 75.78778956309114, 57.111052700991465, 81.04624054721327, 56.86939023365566, 75.30680440339161, 63.889536222683184, 61.745535506710645, 85.76883269626605, 64.94175200724715, 78.46450378703555, 66.05102837350172, 60.700580211498824, 64.0378184953242, 72.00173283681794, 70.54227874184392, 64.65930514258537, 85.90057238950985, 77.22378508805951, 83.74297154080155, 54.603817334154016, 61.119463047741405, 63.050749024361274, 64.92021198538775, 68.30064345467333, 84.00606988042978, 92.07310687262348, 71.09598984245355, 63.08830121363124, 64.21061016176309, 68.76748521174817, 72.73374756602857, 70.04246956155077, 85.77604303396099, 63.07183554560326, 70.04759563276575, 67.6102619049266, 80.97021428052649, 71.71213985106061, 69.90805462278904, 69.32386097399836, 65.57691859211418, 68.03025860235624, 77.00491654388193, 86.26272451819268, 87.31673986283651, 64.23427299751901, 59.481124619753935, 60.40989708477278, 61.23479131876826, 73.00763090661567, 80.6053773137505, 64.9964815769873, 77.30386295964674, 82.560178704696, 69.266306877072, 74.51892681749531, 84.46909184994804, 83.12139106503955, 79.25831350603258, 76.90855023965307, 63.82467253622367, 67.31848876814443, 83.73176201093762, 71.12698347176982, 82.59868989285762, 58.55131286708633, 74.9436550483255, 67.29954117099922, 59.18738020954305, 68.91429985214518, 48.30395547367107, 60.057008656376965, 78.26350161197145, 78.56731116680778, 80.38539953595618, 72.83499375223943, 70.85499428510226, 63.21789094823567, 65.09906342480252, 69.59106607052354, 72.91644891850355, 53.394665546792275, 72.55151530559937, 81.69381644071558, 71.2571912460157, 69.51715445687164, 69.88575615548658, 77.13698204940897, 67.95784317933919, 77.7181244493938, 75.793387782495, 60.330592535776006, 73.11764618825966, 66.75627101989335, 81.8481874830839, 71.78898437867221, 49.40098188910131, 65.30064669170085, 75.2353509373916, 62.41815484716954, 71.9059885883252, 69.86891272095609, 61.00622064951261, 77.94621420931684, 61.568070223918845, 59.03666463064016, 78.218727869891, 72.7384452603649, 65.00965422968771, 63.422630491617326, 76.16585171205969, 74.86773643530513, 72.4698465421507, 76.08702447166134, 69.52228714396716, 60.92097401704463, 59.565986762455346, 71.63679448332492, 71.17217808209726, 62.829936900349104, 81.83772423902455, 73.30462982527604, 77.75130203103555, 69.6466147425282, 79.34884973879151, 79.75023603444072, 68.32508546051564, 74.76073556939679, 67.209433227777, 71.59420059934229, 81.77734015456103, 77.0301217061326, 71.68281017773401, 66.65633844268588, 61.37483764264113, 90.71912579832556, 57.514943450760086, 78.17661838491159, 75.18849148238394, 68.51107159058202, 77.39031865072727, 64.85947932071774, 68.41504458615965, 80.46428775546107, 52.24702255491366, 81.59106525759209, 79.77492609222628, 63.943975245614105, 72.95993575748783, 66.47146330286776, 74.19584765467835, 70.53387544830895, 76.51535525342297, 66.81349837900542, 91.02600760787172, 70.54715080457667, 68.40277613396294, 52.84966035853796, 73.11283342189854, 79.0870528299244, 74.08141490254933, 78.46435034733284, 75.8299165321024, 63.31495111841361, 76.85958355819037, 65.64345608572744, 73.79189031685493, 73.08769225956844, 88.02259635980337, 63.39224647523206, 66.03938030471235, 62.10570996679233, 78.08057885358392, 70.10140259741623, 83.08763546610956, 76.45159990564484, 61.6722110159085, 66.48259780554243, 64.8548514431405, 65.10145038165743, 74.48481007232445, 84.0462231185392, 67.74667283639937, 77.27413092106384, 61.27046194681774, 73.89372458004145, 66.501140861645, 67.39510567484828, 70.0749921558148, 57.77558304982122, 70.0573231446859, 73.08951465261748, 68.84576193487827, 79.3319868718423, 71.03377389478322, 84.51948189075432, 54.383224720162, 69.78701491163457, 59.63079306820115, 63.055438159572596, 76.49588682107026, 49.3848798932254, 67.55526609557333, 65.38481800806561, 74.28138802269692, 94.7035377310383, 71.58742640367169, 60.95730333921575, 68.141004280721, 69.48729662934016, 68.62117192404715, 60.64523511622244, 61.334089228705565, 73.5853774277553, 93.23419020784209, 68.1016766227616, 67.16242111316502, 73.65032850310784, 57.19954204862352, 59.62283847154405, 74.24053954654245, 71.35394998887892, 76.41168396452287, 75.97463638675679, 63.45584844871827, 67.50733166174449, 68.14587652922951, 71.70086163612515, 75.88306202301666, 97.65183960384446, 59.7631163140877, 67.20757196024434, 76.90909657760545, 69.1965009269376, 78.76893288609376, 49.295688209736554, 83.71746443949932, 66.02008210188296, 70.87621918404155, 91.85633434196127, 69.13991585823472, 77.41469993833958, 89.81330659924046, 72.46825182325968, 70.39196857323459, 62.50278190095004, 64.45233065812135, 67.24282878613165, 70.35242911089163, 64.6040752053253, 68.9892551601939, 64.59305396338023, 77.35162519127583, 76.8884338293631, 84.78492231374551, 85.82536522927991, 72.03031657448726, 64.53118649766263, 72.66130507734266, 68.92346876555534, 77.73917073224621, 67.14480091507741, 66.50934268987538, 66.39646580798832, 71.87486085461252, 75.18837778392441, 65.88380135682553, 66.90772802461001, 78.56607085656037, 73.06473957641654, 81.39718736299811, 74.73366363108168, 65.15388011019925, 76.1655515157682, 63.557873853333064, 68.90150988587204, 64.0494305115905, 59.47910482430899, 65.28350597900676, 72.16988550890943, 81.48223804056327, 53.70694232131821, 61.77164630611649, 66.49228561354484, 75.76400537112939, 83.22630627261485, 67.46681634086482, 83.76752909886174, 60.4622921105275, 69.44264890453206, 78.57034170244802, 74.75921393036236, 81.73537216521794, 68.20099963564884, 76.0437030885787, 57.85380192820833, 66.19340881283884, 65.34172992841273, 79.40090110543562, 74.78860436370323, 81.76991890851511, 80.30977180160002, 75.88615290803315, 73.41667521756963, 81.66045591993435, 71.19078059165192, 73.02196501760048, 72.37940004701541, 70.98678072124105, 73.18002646914537, 78.33388172222506, 66.6919242461692, 75.1365878137335, 66.97129956691268, 81.9332590061747, 74.16801593288413, 66.89473638960261, 76.36054462253905, 77.81026405140032, 80.65867943592644, 68.23819351015081, 69.56062237118573, 68.29230540792108, 73.04728481038974, 79.44730247523759, 78.10869608805588, 65.66939826058521, 92.21350566272659, 78.08241653361772, 70.19826109107717, 88.56452501020601, 74.62705031553877, 64.19049506364787, 67.52341134927848, 75.42493016293807, 81.52508641856724, 71.76949330428211, 76.16977909591266, 71.8694272539889, 91.98847797922554, 76.62848052211484, 73.95101508502565, 71.5145457387623, 71.80608852041568, 73.09824681317505, 59.116086000331606, 77.5581055723961, 81.18157316601608, 55.05015554003493, 66.26231828052761, 58.04050422605986, 63.79131116312634, 84.25398529542329, 70.01645703752224, 76.06540298713004, 59.94301300914113, 59.133832678034516, 64.71776218304328, 68.39917756710852, 65.48447830307116, 62.58683612568653, 71.11712213386585, 64.57486870453535, 51.76342964551874, 63.46382813282828, 74.82029306952164, 67.36651678606192, 56.8812656727182, 68.87120532854446, 84.01283052987436, 70.53531281235885, 71.7502677435361, 83.99942641812157, 64.4110249707124, 73.69151485134329, 64.66787339114784, 77.9457923706228, 70.64616773367433, 71.98248407260412, 64.992269010883, 73.14616816651504, 70.48698644975153, 72.59851871227127, 89.04493320173121, 61.1951797104044, 78.06638060924946, 85.64182354643414, 58.13623659805506, 60.07480035354842, 63.24353060184893, 67.05655372785372, 95.42989084607905, 57.40361862117026, 46.586003137107305, 85.28054282349993, 69.46464470365487, 75.26219850935873, 71.07178625963677, 67.09509746372095, 77.36732123774787, 72.00040234039605, 71.63277164485699, 75.59216665078759, 75.17985896399716, 79.4057221928238, 61.08952131025179, 74.07050873239714, 79.3825889102436, 63.547412774563576, 71.35585352545203, 74.61407972441783, 76.89358331381999, 85.08611319290233, 82.61675617373302, 83.44084141282529, 67.65720451808524, 59.20573087642646, 57.905572371209, 69.42106076865441, 64.07903201238717, 54.11300546242271, 70.02062539322579, 77.67065561229116, 65.81504115998095, 65.90270156859803, 74.39194288021659, 74.40195638941209, 68.36856586838104, 86.58163976877223, 85.80927022364956, 72.84685873520131, 88.92210404316478, 82.73965845519497, 67.83913294988879, 76.0156010380329, 63.51412679655692, 63.33266409801216, 69.4606657844669, 70.98131456445839, 71.90534511735498, 71.58686472442785, 75.14458686018091, 83.12049152295417, 77.83503277081996, 85.93849829131857, 80.90725294556073, 78.93096003605312, 74.20474641198068, 78.75785644136317, 73.90957476919752, 73.82340947162407, 76.7597184069025, 61.110796502900946, 73.23772726328559, 77.65102645325565, 69.70498106754005, 76.28434503725595, 68.52608945164161, 80.64807869145145, 59.48129593903324, 72.40008722754902, 79.98047197813679, 65.1593616187943, 80.8402071825478, 47.89642001555437, 52.26210161849761, 80.24008365020867, 68.99842224564485, 74.36151288742447, 75.03599428832365, 75.35178961954954, 59.19677609390906, 66.09532998188125, 55.977063963631736, 79.5528400818608, 66.65588420939181, 63.839603525387986, 80.08746212202217, 80.08550957591747, 61.2595066005693, 64.97902972519618, 68.79396336814915, 75.56706908161796, 69.43814711630948, 62.795537092991665, 68.03256908878443, 71.77914581198984, 64.83131820014675, 66.17043320371943, 72.0359796079784, 85.50131207080909, 77.49044999246414, 60.19752164680417, 73.05420368330412, 58.44193720430234, 67.76115032805815, 76.36219764082634, 83.5944336083153, 59.880610861892805, 80.61515927762659, 71.3475857458404, 63.23587524736327, 68.8678022753635, 76.61703548051543, 81.57812075252347, 68.48459806798154, 84.59909460820553, 64.96955148860705, 67.89251415961522, 72.5443142636896, 55.292666143912506, 69.77134217754383, 68.33968752216035, 68.77740171611708, 71.42111091265687, 85.29512599395804, 58.13995512295108, 72.16441030428503, 81.05157135296058, 70.07527911632617, 72.65057598780497, 58.956711177462516, 69.30434814551609, 58.7935623719303, 83.34973011506624, 78.01186118502436, 78.62081181822818, 75.50806909408519, 71.07428491213885, 77.16718149660208, 65.1079171309699, 69.94546573720515, 77.17262490398076, 60.11839255930937, 89.24977733533463, 71.54143660669804, 73.64760723664477, 64.1973679591168, 56.43276067313677, 60.578039592363425, 80.17463016042286, 74.6895800050705, 63.948818115582014, 73.26371835579623, 78.02196033919789, 75.58789484125306, 91.52309187890651, 75.88898582905976, 85.76240280801422, 70.80877898122633, 79.03097004527078, 62.30042179341878, 66.54394667955792, 62.71490480873261, 66.21452300311823, 72.20387170310117, 78.54317562552448, 68.66646367331296, 72.73558654686933, 73.60954881044194, 74.19848556632027, 68.67356633674024, 69.32755547520908, 60.338343724105975, 68.94208687009022, 73.35401090286722, 66.54408546597207, 68.76893811911883, 64.24388295881276, 73.05248674542663, 65.15647557067348, 73.64208753371166, 66.13801252593065, 77.29171403065976, 71.94825633922184, 69.73845838272523, 65.83596027305353, 59.58029770068923, 73.2651215316482, 74.61926237616409, 67.42229332458018, 90.96369327739055, 61.6475347617706, 68.89826785141477, 67.35841569069952, 66.63026618726714, 73.15115009496324, 66.23048068411217, 71.32626737523925, 69.08026685789848, 60.19334039462049, 65.11046300878833, 70.97443862203806, 62.85236116385209, 70.72355882267554, 81.6522861272683, 58.08842817063009, 53.90360569516923, 73.74968970714542, 71.38727187509187, 57.605264557588065, 81.06712423424561, 77.868662680481, 55.91776492616224, 61.106720132750745, 73.19022355967013, 73.68087456511535, 78.11583263575953, 79.52421526151396, 68.63269618373945, 71.2522792227446, 74.53297996472932, 74.90501288510573, 59.46325506615534, 69.42380331543724, 62.64476520441267, 69.7979017477281, 60.441399858153034, 65.67138464599358, 63.13671345848277, 81.17770615114428, 73.55317888976428, 72.41666240814143, 66.16362014803782, 63.20046863643703, 71.49813661176516, 61.83688341854978, 58.03511810537305, 54.05051945618107, 78.56370458207078, 75.51700078491143, 70.25842803518707, 61.73854328565663, 63.041098755648065, 54.12153213999809, 61.81249751616913, 71.25416133084241, 62.127123644223886, 67.98988874367112, 74.66312058518716, 80.3054170570424, 79.32493806649468, 74.02717593456582, 75.56067208760386, 70.01248631501524, 64.22422973572877, 73.63865331180497, 71.90835730843855, 82.2759201616438, 68.89075415189207, 63.09370316766209, 66.5244243680786, 81.5293838196278, 73.75751586433526, 68.90607875647757, 56.53850280216237, 68.23072267192971, 68.58583870831488, 73.00520452843057, 95.38318955357018, 72.66238304530752, 82.92677745873488, 78.05737779451376, 69.26981752589502, 64.60374895771294, 70.76481004738017, 81.99766315738249, 73.65187161549325, 90.03311868205888, 72.67315297935282, 74.78889907315778, 71.48315627809914, 81.17704373427313, 77.28851174326859, 60.560166261525424, 74.99144459019864, 84.7714986290943, 77.04499900843292, 63.00504454524288, 55.37064445139408, 72.72529633681496, 82.67620660298263, 80.85448919329225, 66.42420697681067, 65.34442181395164, 70.13026895379055, 69.17080205962513, 73.02006839830074, 64.61693674118875, 71.79458409001222, 76.43133872512743, 56.18919813294561, 72.240724324109, 82.45437836833366, 57.68557305331523, 79.12658049723794, 77.99859256854691, 57.269217578397594, 87.53727759134637, 59.682415131628304, 66.95537714259831, 80.92190276279952, 67.94732644190039, 80.28225433924204, 70.78309886812765, 64.90407104513713, 79.50697759898232, 75.06126612547993, 69.16866765336108, 82.10777555448598, 58.243559396668395, 68.41619778660873, 76.25589023814337, 77.59110522390941, 68.98969042887562, 69.13565470794363, 80.09924852716883, 72.42522573474136, 68.38458197532948, 69.87427145382343, 62.21570990036813, 76.31659490476012, 71.09529088936354, 58.80404993421173, 79.19647562408885, 71.37830524526208, 68.83008856947306, 83.61671687080664, 72.04182096726389, 75.76215732862686, 72.53246016685956, 65.83592271160347, 75.25460935933113, 62.93074636696215, 66.09843903898081, 70.34819643881457, 66.33696750822688, 61.23273855255486, 74.30508307212847, 71.5629644629573, 67.84431171751737, 70.8807157922721, 74.468130783442, 68.96200526009949, 73.36306472950317, 69.79956883266965, 52.78654951443653, 67.28020887836236, 58.06605395762759, 54.97488042244082, 64.87069631791442, 87.52463490088563, 74.65844858551188, 71.00675645548647, 72.7848528989909, 72.07929538193673, 85.73156530038219, 68.46451200178919, 71.59606325197895, 70.09749571844101, 87.69784988114587, 73.01063433684442, 70.22205998706993, 70.81137154376201, 64.04836970531214, 80.21313308959958, 58.4410259035542, 66.48217052957203, 69.79584843105665, 80.98117699085536, 75.51468550522574, 73.52359230292018, 69.9861118660193, 78.2093996873382, 67.61903072125813, 78.07673165071134, 83.33008237429094, 65.87392187301278, 59.15410575519027, 67.65183099525623, 73.7947266359445, 86.58327356853975, 70.12166922748787, 71.17341458406433, 73.36611387890373, 79.34517703922343, 63.12341652370254, 77.11307294990027, 72.13562698614265, 71.22405557129774, 71.47135912926495, 75.03136422299424, 73.07610291376683, 80.54236616681274, 87.51755254766738, 83.25980776295526, 70.76960005970628, 68.99674346321144, 60.0576600681405, 68.03567789728572, 55.565010132848954, 65.76171239622754, 66.95604830528566, 65.94934023766014, 80.22579325450951, 88.79020447353342, 67.22614412913961, 67.6837925347346, 65.09252042314247, 66.43039137946715, 69.34140881262402, 77.93996324853573, 67.79170034253264, 77.07976415197237, 78.12622020315395, 82.43046348380994, 76.95438030554018, 55.52119866628087, 75.58731755134669, 64.53512674744991, 63.304107098668716, 57.10925412811235, 79.51719696171385, 61.21964092914482, 54.54798181701796, 65.67552138376689, 80.75454581632798, 76.06504592332598, 72.42407872230376, 74.15415411110682, 82.80857007665294, 77.8495200707067, 72.54715842000896, 74.05891348112465, 67.97016016884405, 67.18433247858027, 63.023075960534975, 58.04721381068932, 72.84205239271351, 70.5709231294405, 55.729862269990306, 57.29015730902645, 66.14096743634404, 68.92461475454583, 79.73687451047, 79.80206735636688, 72.36879465879734, 71.05262873321506, 66.15884284357476, 82.03865739484914, 76.54829085192912, 59.756723443241036, 69.25156195739832, 66.65617704058114, 74.13012068971794, 77.51959290161712, 80.06381758912731, 66.131724460614, 73.13609896852547, 66.6334093337027, 72.66753559031336, 75.83208956492665, 66.15285201726019, 72.06708774067448, 75.78722581387017, 69.97870623848809, 80.99737748026568, 91.88202986239183, 77.05111197245347, 72.17680268830925, 62.921531101700126, 62.28160286365107, 72.56339207082878, 69.84084567162935, 87.82695171354506, 62.496936865833156]\n",
            "[0.7800040493796186, 0.5342344970968407, 0.3272938908842007, 0.5541650338343278, 1.0260239040096613, 0.1814742353846012, 0.35463632247617416, 0.1522027618254163, 1.1093234338822087, 0.7236685499929314, 1.0231711357523898, 0.4788172466765056, 1.009232112452733, 0.19509781614497085, 0.7425418009187416, 0.8775006956636102, 0.6108134735887988, 0.9546034449741624, 1.0140962977593557, 0.6632563494263812, 0.35025380152456154, 0.9745860211884494, 0.4440928471644896, 0.5111470371475679, 0.667906447715199, 0.4639105409316315, 0.9689413523879937, 0.36393677847280803, 0.3853785316996129, 0.4943139450836632, 0.706737739779544, 0.8896361544830613, 0.9280631063158086, 1.1932507392309266, 1.183301909766772, 0.28625945133222613, 1.4335115152722615, 0.5736206004182107, 0.7978382392970245, 0.6112492531271768, 1.2840827297517312, 0.28146115405528566, 0.5551747051269299, 0.20087383940530734, 0.5769144904010587, 1.0976028348178126, 0.19206685459824163, 0.6125011682349201, 1.2310987252889543, 0.4719824106747091, 0.815282545320501, 0.7829035103160368, 0.6323838560015901, 0.5406151550118985, 0.3090298132331286, 0.009757483955287473, 0.6639041295581172, 1.2411703423770066, 0.9804901440930102, 0.7900261790505392, 0.7337044857221605, 1.1639080885640056, 1.0329037725834276, 0.649319648649925, 0.47397899687266115, 1.0782420872566736, 0.6026240321611912, 0.9374442813889723, 0.8986494924595658, 0.9173610447464147, 0.612243510726897, 0.9567528757060844, 0.6880874123700831, 1.0491348439285195, 0.9927645127382956, 0.5217345127484375, 0.9963793580170859, 0.6525223761167941, 0.41985072132157614, 0.34161935706149543, 1.071104664045673, 1.056463816790306, 0.1058644880965866, 0.6823225641883077, 0.7423639444964305, 0.9213600671911479, 0.5299804163467642, 0.6082287513108982, 0.6901107017487585, 0.7395357014495879, 0.9156983483979941, 0.3335979066707655, 0.8719735029105808, 0.7980225986093389, 0.7070773571895796, 0.6343502806771156, 0.94418629632177, 0.38492070408342605, 1.0150157066493364, 0.7151149997809096, 0.5817050681172694, 0.7799326456594707, 1.1819284678303086, 0.6362265772405173, 1.1457528894040712, 1.255888926220297, 1.0000688427982427, 0.8043367453454989, 0.6327323003881692, 0.5945743200222168, 0.5693967038849298, 0.9805215116648459, 0.7082792561587754, -0.153612146089331, 0.8139685274646603, 0.44499837672443765, 0.6434343683407932, 0.05975424063407016, 1.0653674192389455, 0.19711425616481854, 0.2966112521271748, 1.2008766958021089, 0.31356646515938663, 0.32398219722460797, 0.5530947632363443, 1.2846956683169677, 0.29227272950599836, 1.286146107689339, 0.5575691980726581, 0.9685773696579771, 1.098801748078512, 0.054323378740737636, 0.9028597524889834, 0.402093574877741, 0.8810491088800475, 1.1736521465582708, 0.9890306917227785, 0.6534648163386968, 0.7152788142252409, 0.9180364585512705, 0.061328863112133855, 0.4954790264996034, 0.12141077747109291, 1.418693541036156, 1.206125138982687, 1.0908046509441618, 0.9682399574672531, 0.747493957696081, 0.1279458939138223, -0.15560733280028094, 0.6623544960945694, 0.9966701408499945, 1.0054044274529796, 0.6877427585096827, 0.5638274613577103, 0.7884387440802634, 0.049337259988893746, 1.0248821366336396, 0.7528615487303876, 0.8212968530786793, 0.23791948024885817, 0.7104129817842839, 0.7173184043187081, 0.713769974097222, 0.938022068363715, 0.8446370616582327, 0.34909141452901743, 0.01094771846924335, -0.04985447095400891, 0.9598102610106678, 1.2251973890439376, 1.121065124280669, 1.098969312222628, 0.6115566231230845, 0.1997709592806215, 0.9959322467153733, 0.39279342362170927, 0.22111552491492234, 0.6723969583487356, 0.47955744029078257, 0.09656645676974816, 0.22351261171836936, 0.33816960244053773, 0.3767792534810593, 0.9827297425394488, 0.8141905795777243, 0.10520689158270066, 0.720918452698355, 0.1778068158386303, 1.2090143787817524, 0.4816563936837563, 0.8709893702418431, 1.147944388502355, 0.8055143490745396, 1.7465525203436745, 1.2359727148976618, 0.36080382250216303, 0.4348470874263301, 0.29697009309723704, 0.6383795143867119, 0.6561338107928347, 1.0445533533721671, 0.8706062716292108, 0.8300946574035944, 0.6670560758124539, 1.4397269447188743, 0.5277718038054805, 0.2244735285423244, 0.7690648383875937, 0.7309731494027222, 0.7873066328946958, 0.5074357249257405, 0.9015013154999255, 0.48271747362924966, 0.4470185794730335, 1.1136101850831743, 0.5410439976300441, 0.925162207633818, 0.24260323652978905, 0.6834069976866592, 1.6379138802093962, 0.939157946304441, 0.5649797799312664, 1.0294632772797936, 0.6070995599202075, 0.7299438906108534, 1.1908573376402258, 0.391035713856567, 1.120661138954113, 1.2679979645362924, 0.3632484593878609, 0.6338669777031266, 0.92150325241599, 1.0275013546678378, 0.4421124421390025, 0.6066201546545149, 0.5899721615153143, 0.5056098272702007, 0.7705946281373457, 1.1248696020811244, 1.2203143853272167, 0.6617795908865808, 0.7335595240170049, 1.0151329538195608, 0.15708678238951854, 0.6037359078430033, 0.47792124826039073, 0.7008243694447917, 0.30355769351361417, 0.329424875227734, 0.7995321855510874, 0.5494585781440586, 0.954859215711059, 0.6547469570964274, 0.20818949085595073, 0.4057774598685142, 0.6491947296276238, 0.8475013216770223, 1.0931021550280617, -0.09148400018782807, 1.2498936168857548, 0.37182191248567187, 0.5247603707566288, 0.7999376489543181, 0.41432322075524014, 0.9450461653807255, 0.8217791260682306, 0.3056040144206169, 1.5143686776451912, 0.23645369005152578, 0.33865978685037373, 0.9679876966838122, 0.5421079206024424, 0.9002373128295433, 0.47215921933188154, 0.6099716124333896, 0.4634311766444665, 0.9410655092771013, -0.16785794887482927, 0.7063051376483269, 0.7867218440685411, 1.492084821541697, 0.5979604905200241, 0.3003633404420884, 0.6343416905694785, 0.4113526098112632, 0.41612575368251703, 1.0704910816434157, 0.4234229895298925, 0.9390091681962822, 0.5932046380785483, 0.6379034212945569, -0.0784988541652269, 1.0444950624293565, 0.8885030532355191, 1.0105146406583714, 0.3407277552323532, 0.6437224403336923, 0.04520465482230372, 0.4056686440292295, 1.0943543768858273, 0.8619722753904082, 0.9352810282840814, 0.9340727817699611, 0.570615541684994, 0.16272310548738522, 0.866972494524534, 0.38981397541389434, 1.0977551339008556, 0.537876298703813, 0.8359577687952096, 0.9002656702444566, 0.6658568243035478, 1.263232933017713, 0.7237328453115033, 0.6590153410625824, 0.8062495161602533, 0.31533250914086924, 0.6947256010210726, 0.13030305653473098, 1.4399392131282365, 0.7667241640774749, 1.2577433344430757, 0.9607797472597299, 0.4554984678842389, 1.617795352703142, 0.8160817268762767, 0.956898271000207, 0.5615538051854129, -0.324391097027094, 0.5911096727607122, 1.1042446391393703, 0.669058316032131, 0.7333928115489204, 0.8102749363163564, 1.1584631608165556, 1.1790575201301063, 0.6161454408701665, -0.34186467330912335, 0.8140658674608376, 0.9637673681780694, 0.5111147252313112, 1.2999922135874824, 1.1332730670150282, 0.5762572939789797, 0.6530405070343813, 0.5321408153567128, 0.4936619195784415, 0.9790547068196307, 0.8487113979188825, 0.8534933517742944, 0.6829516455330743, 0.4512383290651443, -0.45400262121823404, 1.220256889212878, 0.9170145846550452, 0.4468327796354571, 0.7772385804650087, 0.32339415108659764, 1.6527410048165934, 0.16632810360285616, 0.8996905289413384, 0.7003981573964764, -0.1807778637330586, 0.7951760741169848, 0.46823277146225006, -0.1263005430305535, 0.5795915083052865, 0.7383015115444681, 1.0715219253588795, 0.9635434839847595, 0.8528829136426508, 0.7471746443368688, 0.9751887942255734, 0.7858179079265304, 0.979040184271644, 0.38102004210403434, 0.46757158955898903, 0.05674110601189652, 0.0358390570196224, 0.6536930874928728, 0.9199475004431434, 0.6050698907052542, 0.8054788694221893, 0.3390984641168221, 0.8764695292146237, 0.8359036975235542, 0.971977925888225, 0.7137990317941956, 0.46469279452590084, 0.9990175896372285, 0.9012103165934199, 0.3376556244455047, 0.5753273461422324, 0.2567910344636404, 0.5478404385578298, 0.9118475318320123, 0.5399569836287746, 0.980586725418424, 0.7830047853565205, 1.0893451377958117, 1.121002986072911, 0.9088713685301776, 0.5964620514233506, 0.2007472848415961, 1.504089820209557, 1.1326680550108772, 0.8500642320196062, 0.47218201153330336, 0.216152454338543, 0.850695690913281, 0.14946185621154418, 1.143481551325474, 0.7742417113494183, 0.3845504329412717, 0.5144467765400773, 0.23753662930209818, 0.8421551987303936, 0.4760264204589269, 1.3076250037220212, 0.9409589154695891, 0.9070910297328691, 0.3312418518433008, 0.4066198344773124, 0.24475984945220422, 0.33983942117407395, 0.5871496333640354, 0.6446621902907492, 0.19043069142622648, 0.6896084816741685, 0.5834439386700604, 0.687913268865061, 0.6549913155143804, 0.5462394629193895, 0.39128559672944496, 0.9112500310717779, 0.5417196266769697, 0.8846792785612865, 0.21929470394838932, 0.620434679754868, 0.8253846305852212, 0.5153925388513746, 0.3939080509021442, 0.26743217614429343, 0.8369565710581092, 0.7989336447610481, 0.7834139424818847, 0.5630138690517678, 0.31748155662108324, 0.38371828033989985, 0.9200413779374573, -0.2806047021213663, 0.4598263588512872, 0.8095636115985964, -0.0827160395281234, 0.5771474584568331, 1.0018533088670105, 0.8150227634933233, 0.590818851119867, 0.25100080861916735, 0.7223321211992031, 0.4702521396785813, 0.6080497711773111, -0.12071615460825298, 0.39709791634374014, 0.5718901472133803, 0.6188945362687978, 0.7153904692164914, 0.47389901272342977, 1.2848767720969645, 0.42964907180605216, 0.24513210532466195, 1.343979797741799, 0.831892921598773, 1.3089142515920957, 0.9758656152489905, 0.10395465052502294, 0.7821552775537555, 0.47047528706765335, 1.2041109738742655, 1.234147076675124, 0.9133611094886557, 0.7673411767899712, 0.9486328347329653, 1.0692491426627075, 0.6992095614027578, 0.9978675886733333, 1.5608021543671733, 1.057130172220899, 0.5824435349058948, 0.8505314877980934, 1.2912177997624434, 0.8105187206013748, 0.183222542482447, 0.7522096868360681, 0.6317763555535918, 0.07991268469649396, 0.9491922792167787, 0.5977092749275142, 0.8827437992321739, 0.41383490640565435, 0.7444749147747532, 0.6276421812133578, 0.9746893570314272, 0.5747986403206621, 0.7346047808528688, 0.5747405888323466, -0.09104468629553698, 1.136085408880633, 0.39312131182668764, 0.1463609144143082, 1.2584211792227378, 1.2042237398188267, 1.0063249297517096, 0.8975502814923717, -0.31934721406044986, 1.256716200770475, 1.768152561540679, 0.08629264550783637, 0.808880288248899, 0.465533595277267, 0.7283815094210813, 0.9090352909334019, 0.46688891841846936, 0.6827558410941769, 0.6196552359202785, 0.49294264696251827, 0.5177877509279574, 0.34591922969437444, 1.1291319963922941, 0.5508735066953042, 0.32679737050844315, 1.0320350807937166, 0.6961078903301336, 0.5210986936706185, 0.40933381971805766, 0.04564683605862371, 0.19620583324061913, 0.09659532296346479, 0.8491733636760241, 1.1439746857620436, 1.2781645356013556, 0.7458066803137607, 0.9564096022323135, 1.4022086065798969, 0.7414414715725803, 0.370551636107994, 0.9540657125810523, 0.9526809024617653, 0.5509260113269039, 0.5258092416678246, 0.8951116398276359, 0.0824729885943311, 0.04877157186043147, 0.629769255659894, -0.169449049302997, 0.22610892138840763, 0.8937804121956612, 0.4790705382407523, 0.9944339469759453, 1.0743658674708416, 0.6584801852359852, 0.6726853922102828, 0.6712593823890748, 0.6062155429299365, 0.46223912319016003, 0.20184523095247656, 0.4066556780076183, 0.07295722334099142, 0.23260683634317256, 0.36444942855843276, 0.5492202172296883, 0.4129201202913322, 0.5873169964810642, 0.5550380199710844, 0.4324166214399594, 1.1115604982477982, 0.5593102209699042, 0.4568347921346484, 0.7766934585754495, 0.38751155001034576, 0.7772156113636436, 0.31855106728063, 1.154533632250487, 0.5710061192600444, 0.34244649923765447, 1.001493574249509, 0.21800783260846224, 1.6005310664383283, 1.559517432464274, 0.2843496086094149, 0.8302054396192257, 0.5268283124601015, 0.5246193356457944, 0.44858230462206494, 1.237897618179033, 0.8840356667959088, 1.4270858432155946, 0.3110921426831709, 0.8048741747149653, 0.9853607309260036, 0.24359822861255762, 0.25616737162656056, 1.093332802641349, 0.9664052271132263, 0.7850614078517584, 0.532293639366191, 0.6949803034319362, 1.089464521378276, 0.767807659542487, 0.6688416865802927, 0.9613461241121403, 0.8383617244136293, 0.631965611362526, 0.11046845043086936, 0.4158048229446598, 1.1823036269439258, 0.6364629053765508, 1.2528460689739367, 0.8400682023523813, 0.42822875078949935, 0.09041116171431066, 1.131732849761142, 0.3035550136754189, 0.7068723467291487, 0.9944722155842657, 0.8233527176883682, 0.42432023667144764, 0.22695079334761623, 0.8066419481397937, 0.09028342130401958, 0.9027177544590756, 0.8367742098111245, 0.4918574703735735, 1.386849310483295, 0.6887837169738028, 0.7766683100949301, 0.7812784139322279, 0.6689118828751303, 0.07716902434247123, 1.2278398056559836, 0.6139200889654527, 0.27100805938797173, 0.7379131053777606, 0.5864836189743576, 1.2552096113905291, 0.7992620077364079, 1.2082653432617685, 0.2605913061738364, 0.335831075929262, 0.4067177711109647, 0.47016740712051025, 0.6043988648713978, 0.3809766194220546, 0.9024859999231053, 0.6953773143263939, 0.39938721013355594, 1.2248074617702396, -0.09859877408360532, 0.7401630999315076, 0.5474373726139652, 1.0254560370258672, 1.348009179927368, 1.1578150829938745, 0.260767633818735, 0.49833983241579843, 1.0504373652400736, 0.6004614768569377, 0.4086920821992892, 0.4878708550906616, -0.1303256554146369, 0.5090300173444657, 0.10885877172861806, 0.7009133194893233, 0.3545379100817395, 1.1167337705874953, 0.987765350269815, 1.0655978946390197, 0.9270696758326373, 0.6499833825385045, 0.35910090016129476, 0.8362133320867686, 0.5973439639945227, 0.5121046593596197, 0.59288379751655, 0.8018367661811784, 0.6960305455918583, 1.1638334951892022, 0.8463025721342589, 0.5908050174557543, 0.8648217657683798, 0.8280262349023653, 1.0990117572817082, 0.6497752803331381, 0.9609339210285548, 0.6149869413403835, 0.8620603418125017, 0.3786219439311897, 0.6546592699127506, 0.8185417882269411, 0.9258292487378782, 1.1167832477572792, 0.5867780220645235, 0.5106928821577366, 0.8761910265498835, -0.14356094108163717, 1.1670676116076462, 0.8050971424743735, 0.9729463866858796, 0.872635984313387, 0.6121620930999434, 0.9268765852443329, 0.7240701883306707, 0.8229635165584842, 1.1376629720359837, 1.0171081972198601, 0.6785036993613991, 1.1436774600664479, 0.7674956222575572, 0.24817006041434103, 1.2505321546431671, 1.3464364970786944, 0.5361582563118035, 0.5940238107462568, 1.2756082842786114, 0.24910042460004067, 0.38944594081017525, 1.3806109826632038, 1.049766599279548, 0.5622220072245042, 0.599598701506907, 0.5285849778167045, 0.3288380063378841, 0.8009127266365331, 0.6727115697117602, 0.5438725319189307, 0.5282065191774908, 1.1896129150710462, 0.6657985653173548, 1.0399029938731648, 0.714592275800615, 1.1243324762295226, 1.01248347865863, 1.048988981965707, 0.26000710889451983, 0.6275596797225298, 0.64079943990112, 0.9698497140392623, 0.9659111911393542, 0.6807751033770701, 1.1004606319203896, 1.2981417578321026, 1.3774128327646864, 0.39090849990209003, 0.5224336998842554, 0.668252652633739, 1.0273785634037436, 1.0213106852102853, 1.461735797116534, 1.036033388494921, 0.7233142807852834, 1.069790380827497, 0.9009082200620344, 0.5075799841914252, 0.3334442866313203, 0.43343522399561074, 0.549922924388719, 0.5121571692553244, 0.806557964989916, 1.0764992514492482, 0.5367613129554137, 0.703528226602965, 0.2917902713048499, 0.8134254027822223, 1.0275173701318305, 0.8902659187219484, 0.212934496206524, 0.5222120225110036, 0.7331379109853138, 1.381767050482645, 0.888336388329181, 0.7939968213445321, 0.6155724943594898, -0.4190077770592554, 0.6915350050598266, 0.16663851526522386, 0.40761670694777674, 0.7643700249439956, 0.9804627342035114, 0.671545982015556, 0.1877774473874953, 0.5580513943513614, -0.1872147819752017, 0.546073502027715, 0.6082580425759048, 0.6821650650887919, 0.17799461826304552, 0.3394775485981003, 1.1832836922368122, 0.5258339012297417, 0.07481059902854419, 0.381371006138691, 1.0460839423508446, 1.365165865305275, 0.7040845637016303, 0.2987627907780245, 0.2503463649927344, 0.9566482383570987, 0.8941613900109449, 0.7655594077836951, 0.7626671446269334, 0.5854232282576256, 0.8971549186770004, 0.6255629110053754, 0.5303876648826789, 1.3127355051544805, 0.6627890058153177, 0.26278264427105974, 1.3118108876848382, 0.2953867830681717, 0.4224477761032634, 1.1940186060885138, -0.09163128009041303, 1.1443625308341907, 0.8610010450813916, 0.24885889812785303, 0.7921904647479269, 0.24737370073120468, 0.7177514044595504, 0.9792873152058318, 0.37292974799829026, 0.44764919354705934, 0.7456919386100423, 0.2230194038700236, 1.186711350586892, 0.8144247964742631, 0.48402912691748895, 0.5243006163711277, 0.8254524553503578, 0.7747881638658728, 0.32658558621320083, 0.6111705561037517, 0.7738121670193603, 0.7502135056314857, 1.112981814365362, 0.4226042605680581, 0.7611718264498448, 1.1990128703005167, 0.3359266880713214, 0.6956555111051383, 0.8198698546696994, 0.19222237497951425, 0.5888329916316272, 0.4896816051576952, 0.6062769968176087, 0.9090417990793703, 0.5174812891177741, 1.0463474192919393, 0.9024124353715255, 0.7304464764200731, 0.9593451455695883, 1.158683818014802, 0.5699625738839649, 0.6888216825882011, 0.8579613080862638, 0.7459847987147065, 0.6230972166752644, 0.8153012709566212, 0.5497924240445828, 0.7977332611354563, 1.4078103862827729, 0.8494418045025548, 1.2671842919112464, 1.425457824897938, 0.9286268498710971, -0.02042489558410169, 0.5005526198910607, 0.6982387566842614, 0.6926562623731476, 0.6498672065252665, 0.05643183954235897, 0.8052533834319272, 0.6883163554417975, 0.6809226239808538, -0.03897852407926792, 0.5573279515886057, 0.7026669328157724, 0.7559090087620649, 0.9439631134585228, 0.267881457672424, 1.2258678244214758, 0.8228469035460351, 0.6955614949392535, 0.20841545659647379, 0.5046741607570151, 0.6176945437235788, 0.6977212302715075, 0.30204531919898664, 0.8586065500936754, 0.37123491476757026, 0.16850815501385324, 0.8989491773717642, 1.1513825867507788, 0.8832075174955533, 0.4929282048766804, -0.015287563348291951, 0.7473044375258137, 0.6438293262366865, 0.6164473576054154, 0.29818780617294927, 1.0451950076851635, 0.38695599241522805, 0.682997202692171, 0.6901469913450284, 0.636034983161196, 0.4531844459306879, 0.575296287808102, 0.3744815873129036, -0.025215553701171733, 0.1478419171681401, 0.6966138843887433, 0.8004845151431836, 1.1911189346750566, 0.7912720239118615, 1.315259051047768, 1.0248576125866748, 0.7917571939220404, 0.911148419907674, 0.300164308268771, -0.07976403094054832, 0.9023844042039544, 0.819720465482295, 0.9342284200080806, 0.8998841111431605, 0.6802795336540234, 0.34890532115816686, 0.8231986615708847, 0.45830638655664097, 0.42916001851104696, 0.2096120416541489, 0.41288487076948877, 1.376723057386068, 0.46661493528638576, 0.9237178863260054, 1.0891175235689372, 1.275631663951565, 0.2771238016556063, 1.1684680501309417, 1.407165452505933, 0.9607410561985742, 0.3581655272106331, 0.4897835671261113, 0.66352552139137, 0.5354717658133173, 0.22106300866160755, 0.4164602138091771, 0.6036920473902428, 0.5143371407395558, 0.8764516341643586, 0.8721892726773297, 1.0833483553703678, 1.2457759198849498, 0.649076084137485, 0.8237725462308664, 1.3716043934966595, 1.3530390565693227, 0.9341297549560317, 0.8046725856879282, 0.3082237557066772, 0.28965159484434927, 0.7035271491013317, 0.7074206095264234, 0.9312379954163167, 0.16937302038286264, 0.4917240691182655, 1.1623558565793901, 0.7279970357547927, 0.8549690027623288, 0.5205108653537587, 0.41956023673356213, 0.33591493877417405, 0.9403316412531664, 0.6631345967161486, 0.9059754557356391, 0.5476297456408563, 0.4643940856975697, 0.9395890075032903, 0.7011925009361135, 0.5464319697777172, 0.793402913434982, 0.2859039648940649, -0.14377100509599372, 0.42272970427469664, 0.6389439175105167, 0.998450795072413, 1.015651594003189, 0.6099041513938486, 0.7881478625243535, 0.009243682893832372, 1.105236265178518]\n"
          ]
        }
      ],
      "source": [
        "# maintenant on vas appliquer le  Bootstrap paramétrique   on supposons que la loi de Y sanacht X  est normal\n",
        "nb_bootstrap = 1000\n",
        "bootstrap_params0 = []\n",
        "bootstrap_params1 = []\n",
        "\n",
        "\n",
        "for _ in range(nb_bootstrap):\n",
        "    # Génération d'échantillons bootstrap de résidus\n",
        "    bootstrap_residus = np.random.normal(moyenne_residus ,ecart_type_residus, len(residus_n))\n",
        "\n",
        "    # Réajustement du modèle avec les résidus bootstrap\n",
        "    y_bootstrap = model1.fittedvalues + bootstrap_residus\n",
        "    modele_bootstrap = sm.OLS(y_bootstrap, X0).fit()\n",
        "    #model1.fittedvalues represente les valeurs predites de B\n",
        "    # Stockage des paramètres estimés\n",
        "    bootstrap_params0.append(modele_bootstrap.params[0])\n",
        "    bootstrap_params1.append(modele_bootstrap.params[1])\n",
        "\n",
        "print(bootstrap_params0)\n",
        "print(bootstrap_params1)"
      ]
    },
    {
      "cell_type": "code",
      "source": [
        "#Ces lignes calculent les bornes inférieures et supérieures des intervalles de confiance\n",
        "# à 95% pour les paramètres de la régression à partir des échantillons bootstrap.\n",
        "inf1=np.percentile(bootstrap_params1,2.5)\n",
        "sup1=np.percentile(bootstrap_params1,97.5)\n",
        "print(f\" borne inf1 = {inf1}\")\n",
        "print(f\" borne sup1 = {sup1}\")\n",
        "inf0=np.percentile(bootstrap_params0,2.5)\n",
        "sup0=np.percentile(bootstrap_params0,97.5)\n",
        "\n",
        "print(f\" borne inf = {inf0}\")\n",
        "print(f\" borne sup = {sup0}\")\n"
      ],
      "metadata": {
        "colab": {
          "base_uri": "https://localhost:8080/"
        },
        "id": "YCNXEHY_zlrk",
        "outputId": "7752eaf4-4e3a-4471-887a-b1c5a1b01e1d"
      },
      "execution_count": null,
      "outputs": [
        {
          "output_type": "stream",
          "name": "stdout",
          "text": [
            " borne inf1 = -0.03925042275113643\n",
            " borne sup1 = 1.3767403017705335\n",
            " borne inf = 55.517434810908696\n",
            " borne sup = 87.54129189859135\n"
          ]
        }
      ]
    },
    {
      "cell_type": "code",
      "source": [
        "#intervalle de confiance de la régression avec les données originales\n",
        "confidence_intervals = model1.conf_int()\n",
        "confidence_intervals"
      ],
      "metadata": {
        "id": "LW_Qpe1q0oB-",
        "colab": {
          "base_uri": "https://localhost:8080/",
          "height": 112
        },
        "outputId": "fb5ea3fe-28f1-44b4-9573-89acc877dd43"
      },
      "execution_count": null,
      "outputs": [
        {
          "output_type": "execute_result",
          "data": {
            "text/plain": [
              "                 0          1\n",
              "const    54.630660  87.283182\n",
              "mom_age  -0.016356   1.406729"
            ],
            "text/html": [
              "\n",
              "  <div id=\"df-59d46631-958f-4ad4-b9fd-f89e6c8e9149\" class=\"colab-df-container\">\n",
              "    <div>\n",
              "<style scoped>\n",
              "    .dataframe tbody tr th:only-of-type {\n",
              "        vertical-align: middle;\n",
              "    }\n",
              "\n",
              "    .dataframe tbody tr th {\n",
              "        vertical-align: top;\n",
              "    }\n",
              "\n",
              "    .dataframe thead th {\n",
              "        text-align: right;\n",
              "    }\n",
              "</style>\n",
              "<table border=\"1\" class=\"dataframe\">\n",
              "  <thead>\n",
              "    <tr style=\"text-align: right;\">\n",
              "      <th></th>\n",
              "      <th>0</th>\n",
              "      <th>1</th>\n",
              "    </tr>\n",
              "  </thead>\n",
              "  <tbody>\n",
              "    <tr>\n",
              "      <th>const</th>\n",
              "      <td>54.630660</td>\n",
              "      <td>87.283182</td>\n",
              "    </tr>\n",
              "    <tr>\n",
              "      <th>mom_age</th>\n",
              "      <td>-0.016356</td>\n",
              "      <td>1.406729</td>\n",
              "    </tr>\n",
              "  </tbody>\n",
              "</table>\n",
              "</div>\n",
              "    <div class=\"colab-df-buttons\">\n",
              "\n",
              "  <div class=\"colab-df-container\">\n",
              "    <button class=\"colab-df-convert\" onclick=\"convertToInteractive('df-59d46631-958f-4ad4-b9fd-f89e6c8e9149')\"\n",
              "            title=\"Convert this dataframe to an interactive table.\"\n",
              "            style=\"display:none;\">\n",
              "\n",
              "  <svg xmlns=\"http://www.w3.org/2000/svg\" height=\"24px\" viewBox=\"0 -960 960 960\">\n",
              "    <path d=\"M120-120v-720h720v720H120Zm60-500h600v-160H180v160Zm220 220h160v-160H400v160Zm0 220h160v-160H400v160ZM180-400h160v-160H180v160Zm440 0h160v-160H620v160ZM180-180h160v-160H180v160Zm440 0h160v-160H620v160Z\"/>\n",
              "  </svg>\n",
              "    </button>\n",
              "\n",
              "  <style>\n",
              "    .colab-df-container {\n",
              "      display:flex;\n",
              "      gap: 12px;\n",
              "    }\n",
              "\n",
              "    .colab-df-convert {\n",
              "      background-color: #E8F0FE;\n",
              "      border: none;\n",
              "      border-radius: 50%;\n",
              "      cursor: pointer;\n",
              "      display: none;\n",
              "      fill: #1967D2;\n",
              "      height: 32px;\n",
              "      padding: 0 0 0 0;\n",
              "      width: 32px;\n",
              "    }\n",
              "\n",
              "    .colab-df-convert:hover {\n",
              "      background-color: #E2EBFA;\n",
              "      box-shadow: 0px 1px 2px rgba(60, 64, 67, 0.3), 0px 1px 3px 1px rgba(60, 64, 67, 0.15);\n",
              "      fill: #174EA6;\n",
              "    }\n",
              "\n",
              "    .colab-df-buttons div {\n",
              "      margin-bottom: 4px;\n",
              "    }\n",
              "\n",
              "    [theme=dark] .colab-df-convert {\n",
              "      background-color: #3B4455;\n",
              "      fill: #D2E3FC;\n",
              "    }\n",
              "\n",
              "    [theme=dark] .colab-df-convert:hover {\n",
              "      background-color: #434B5C;\n",
              "      box-shadow: 0px 1px 3px 1px rgba(0, 0, 0, 0.15);\n",
              "      filter: drop-shadow(0px 1px 2px rgba(0, 0, 0, 0.3));\n",
              "      fill: #FFFFFF;\n",
              "    }\n",
              "  </style>\n",
              "\n",
              "    <script>\n",
              "      const buttonEl =\n",
              "        document.querySelector('#df-59d46631-958f-4ad4-b9fd-f89e6c8e9149 button.colab-df-convert');\n",
              "      buttonEl.style.display =\n",
              "        google.colab.kernel.accessAllowed ? 'block' : 'none';\n",
              "\n",
              "      async function convertToInteractive(key) {\n",
              "        const element = document.querySelector('#df-59d46631-958f-4ad4-b9fd-f89e6c8e9149');\n",
              "        const dataTable =\n",
              "          await google.colab.kernel.invokeFunction('convertToInteractive',\n",
              "                                                    [key], {});\n",
              "        if (!dataTable) return;\n",
              "\n",
              "        const docLinkHtml = 'Like what you see? Visit the ' +\n",
              "          '<a target=\"_blank\" href=https://colab.research.google.com/notebooks/data_table.ipynb>data table notebook</a>'\n",
              "          + ' to learn more about interactive tables.';\n",
              "        element.innerHTML = '';\n",
              "        dataTable['output_type'] = 'display_data';\n",
              "        await google.colab.output.renderOutput(dataTable, element);\n",
              "        const docLink = document.createElement('div');\n",
              "        docLink.innerHTML = docLinkHtml;\n",
              "        element.appendChild(docLink);\n",
              "      }\n",
              "    </script>\n",
              "  </div>\n",
              "\n",
              "\n",
              "<div id=\"df-993e7300-dadd-4070-9804-bede510b6fd1\">\n",
              "  <button class=\"colab-df-quickchart\" onclick=\"quickchart('df-993e7300-dadd-4070-9804-bede510b6fd1')\"\n",
              "            title=\"Suggest charts\"\n",
              "            style=\"display:none;\">\n",
              "\n",
              "<svg xmlns=\"http://www.w3.org/2000/svg\" height=\"24px\"viewBox=\"0 0 24 24\"\n",
              "     width=\"24px\">\n",
              "    <g>\n",
              "        <path d=\"M19 3H5c-1.1 0-2 .9-2 2v14c0 1.1.9 2 2 2h14c1.1 0 2-.9 2-2V5c0-1.1-.9-2-2-2zM9 17H7v-7h2v7zm4 0h-2V7h2v10zm4 0h-2v-4h2v4z\"/>\n",
              "    </g>\n",
              "</svg>\n",
              "  </button>\n",
              "\n",
              "<style>\n",
              "  .colab-df-quickchart {\n",
              "      --bg-color: #E8F0FE;\n",
              "      --fill-color: #1967D2;\n",
              "      --hover-bg-color: #E2EBFA;\n",
              "      --hover-fill-color: #174EA6;\n",
              "      --disabled-fill-color: #AAA;\n",
              "      --disabled-bg-color: #DDD;\n",
              "  }\n",
              "\n",
              "  [theme=dark] .colab-df-quickchart {\n",
              "      --bg-color: #3B4455;\n",
              "      --fill-color: #D2E3FC;\n",
              "      --hover-bg-color: #434B5C;\n",
              "      --hover-fill-color: #FFFFFF;\n",
              "      --disabled-bg-color: #3B4455;\n",
              "      --disabled-fill-color: #666;\n",
              "  }\n",
              "\n",
              "  .colab-df-quickchart {\n",
              "    background-color: var(--bg-color);\n",
              "    border: none;\n",
              "    border-radius: 50%;\n",
              "    cursor: pointer;\n",
              "    display: none;\n",
              "    fill: var(--fill-color);\n",
              "    height: 32px;\n",
              "    padding: 0;\n",
              "    width: 32px;\n",
              "  }\n",
              "\n",
              "  .colab-df-quickchart:hover {\n",
              "    background-color: var(--hover-bg-color);\n",
              "    box-shadow: 0 1px 2px rgba(60, 64, 67, 0.3), 0 1px 3px 1px rgba(60, 64, 67, 0.15);\n",
              "    fill: var(--button-hover-fill-color);\n",
              "  }\n",
              "\n",
              "  .colab-df-quickchart-complete:disabled,\n",
              "  .colab-df-quickchart-complete:disabled:hover {\n",
              "    background-color: var(--disabled-bg-color);\n",
              "    fill: var(--disabled-fill-color);\n",
              "    box-shadow: none;\n",
              "  }\n",
              "\n",
              "  .colab-df-spinner {\n",
              "    border: 2px solid var(--fill-color);\n",
              "    border-color: transparent;\n",
              "    border-bottom-color: var(--fill-color);\n",
              "    animation:\n",
              "      spin 1s steps(1) infinite;\n",
              "  }\n",
              "\n",
              "  @keyframes spin {\n",
              "    0% {\n",
              "      border-color: transparent;\n",
              "      border-bottom-color: var(--fill-color);\n",
              "      border-left-color: var(--fill-color);\n",
              "    }\n",
              "    20% {\n",
              "      border-color: transparent;\n",
              "      border-left-color: var(--fill-color);\n",
              "      border-top-color: var(--fill-color);\n",
              "    }\n",
              "    30% {\n",
              "      border-color: transparent;\n",
              "      border-left-color: var(--fill-color);\n",
              "      border-top-color: var(--fill-color);\n",
              "      border-right-color: var(--fill-color);\n",
              "    }\n",
              "    40% {\n",
              "      border-color: transparent;\n",
              "      border-right-color: var(--fill-color);\n",
              "      border-top-color: var(--fill-color);\n",
              "    }\n",
              "    60% {\n",
              "      border-color: transparent;\n",
              "      border-right-color: var(--fill-color);\n",
              "    }\n",
              "    80% {\n",
              "      border-color: transparent;\n",
              "      border-right-color: var(--fill-color);\n",
              "      border-bottom-color: var(--fill-color);\n",
              "    }\n",
              "    90% {\n",
              "      border-color: transparent;\n",
              "      border-bottom-color: var(--fill-color);\n",
              "    }\n",
              "  }\n",
              "</style>\n",
              "\n",
              "  <script>\n",
              "    async function quickchart(key) {\n",
              "      const quickchartButtonEl =\n",
              "        document.querySelector('#' + key + ' button');\n",
              "      quickchartButtonEl.disabled = true;  // To prevent multiple clicks.\n",
              "      quickchartButtonEl.classList.add('colab-df-spinner');\n",
              "      try {\n",
              "        const charts = await google.colab.kernel.invokeFunction(\n",
              "            'suggestCharts', [key], {});\n",
              "      } catch (error) {\n",
              "        console.error('Error during call to suggestCharts:', error);\n",
              "      }\n",
              "      quickchartButtonEl.classList.remove('colab-df-spinner');\n",
              "      quickchartButtonEl.classList.add('colab-df-quickchart-complete');\n",
              "    }\n",
              "    (() => {\n",
              "      let quickchartButtonEl =\n",
              "        document.querySelector('#df-993e7300-dadd-4070-9804-bede510b6fd1 button');\n",
              "      quickchartButtonEl.style.display =\n",
              "        google.colab.kernel.accessAllowed ? 'block' : 'none';\n",
              "    })();\n",
              "  </script>\n",
              "</div>\n",
              "    </div>\n",
              "  </div>\n"
            ],
            "application/vnd.google.colaboratory.intrinsic+json": {
              "type": "dataframe",
              "variable_name": "confidence_intervals",
              "summary": "{\n  \"name\": \"confidence_intervals\",\n  \"rows\": 2,\n  \"fields\": [\n    {\n      \"column\": 0,\n      \"properties\": {\n        \"dtype\": \"number\",\n        \"std\": 38.64127568533372,\n        \"min\": -0.01635631714584085,\n        \"max\": 54.63065982445082,\n        \"num_unique_values\": 2,\n        \"samples\": [\n          -0.01635631714584085,\n          54.63065982445082\n        ],\n        \"semantic_type\": \"\",\n        \"description\": \"\"\n      }\n    },\n    {\n      \"column\": 1,\n      \"properties\": {\n        \"dtype\": \"number\",\n        \"std\": 60.723822486708876,\n        \"min\": 1.4067287140979348,\n        \"max\": 87.28318203393795,\n        \"num_unique_values\": 2,\n        \"samples\": [\n          1.4067287140979348,\n          87.28318203393795\n        ],\n        \"semantic_type\": \"\",\n        \"description\": \"\"\n      }\n    }\n  ]\n}"
            }
          },
          "metadata": {},
          "execution_count": 62
        }
      ]
    },
    {
      "cell_type": "markdown",
      "source": [
        "Conclusion\n",
        "En comparant avec les intervalles  de confiance obtenu avant le bootstrap, l'estimation de β0  et  β1  est meilleure, et nos intervalles de confiance sont  considérablement réduits en taille.\n",
        "\n"
      ],
      "metadata": {
        "id": "fJO7gMuuDydt"
      }
    }
  ],
  "metadata": {
    "colab": {
      "provenance": []
    },
    "kernelspec": {
      "display_name": "Python 3",
      "name": "python3"
    },
    "language_info": {
      "name": "python"
    }
  },
  "nbformat": 4,
  "nbformat_minor": 0
}